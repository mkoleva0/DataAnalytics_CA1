{
 "cells": [
  {
   "cell_type": "markdown",
   "metadata": {
    "executionInfo": {
     "elapsed": 865,
     "status": "ok",
     "timestamp": 1696878484067,
     "user": {
      "displayName": "Maria Koleva",
      "userId": "15896521558550622314"
     },
     "user_tz": -60
    },
    "id": "57Pi36SfrDnP"
   },
   "source": [
    "# CA1 Data Cleaning and Preparation"
   ]
  },
  {
   "cell_type": "code",
   "execution_count": 20,
   "metadata": {},
   "outputs": [],
   "source": [
    "# Importing libraries and packages\n",
    "import pandas as pd\n",
    "import seaborn as sns\n",
    "import matplotlib.pyplot as plt"
   ]
  },
  {
   "cell_type": "code",
   "execution_count": 21,
   "metadata": {
    "colab": {
     "base_uri": "https://localhost:8080/"
    },
    "executionInfo": {
     "elapsed": 18701,
     "status": "ok",
     "timestamp": 1696878503685,
     "user": {
      "displayName": "Maria Koleva",
      "userId": "15896521558550622314"
     },
     "user_tz": -60
    },
    "id": "JvyshoanrIxC",
    "outputId": "93138b65-46f9-42be-80ab-9ece8f9b8106"
   },
   "outputs": [],
   "source": [
    "#using the pandas read_csv function we will get a DataFrame object. A DataFrame is a two-dimensional, size-mutable\n",
    "population_df = pd.read_csv('PEA11.20231013T111046.csv')"
   ]
  },
  {
   "cell_type": "code",
   "execution_count": 22,
   "metadata": {
    "colab": {
     "base_uri": "https://localhost:8080/",
     "height": 206
    },
    "executionInfo": {
     "elapsed": 238,
     "status": "ok",
     "timestamp": 1696878507723,
     "user": {
      "displayName": "Maria Koleva",
      "userId": "15896521558550622314"
     },
     "user_tz": -60
    },
    "id": "zecayGp4rTDj",
    "outputId": "4e020a37-99b1-4874-dc0d-4d3a579de387"
   },
   "outputs": [
    {
     "data": {
      "text/html": [
       "<div>\n",
       "<style scoped>\n",
       "    .dataframe tbody tr th:only-of-type {\n",
       "        vertical-align: middle;\n",
       "    }\n",
       "\n",
       "    .dataframe tbody tr th {\n",
       "        vertical-align: top;\n",
       "    }\n",
       "\n",
       "    .dataframe thead th {\n",
       "        text-align: right;\n",
       "    }\n",
       "</style>\n",
       "<table border=\"1\" class=\"dataframe\">\n",
       "  <thead>\n",
       "    <tr style=\"text-align: right;\">\n",
       "      <th></th>\n",
       "      <th>STATISTIC</th>\n",
       "      <th>STATISTIC Label</th>\n",
       "      <th>TLIST(A1)</th>\n",
       "      <th>Year</th>\n",
       "      <th>C02076V03371</th>\n",
       "      <th>Single Year of Age</th>\n",
       "      <th>C02199V02655</th>\n",
       "      <th>Sex</th>\n",
       "      <th>UNIT</th>\n",
       "      <th>VALUE</th>\n",
       "    </tr>\n",
       "  </thead>\n",
       "  <tbody>\n",
       "    <tr>\n",
       "      <th>0</th>\n",
       "      <td>PEA11</td>\n",
       "      <td>Population estimates from 1926</td>\n",
       "      <td>1926</td>\n",
       "      <td>1926</td>\n",
       "      <td>-</td>\n",
       "      <td>All ages</td>\n",
       "      <td>-</td>\n",
       "      <td>Both sexes</td>\n",
       "      <td>Number</td>\n",
       "      <td>2971992</td>\n",
       "    </tr>\n",
       "    <tr>\n",
       "      <th>1</th>\n",
       "      <td>PEA11</td>\n",
       "      <td>Population estimates from 1926</td>\n",
       "      <td>1926</td>\n",
       "      <td>1926</td>\n",
       "      <td>-</td>\n",
       "      <td>All ages</td>\n",
       "      <td>1</td>\n",
       "      <td>Male</td>\n",
       "      <td>Number</td>\n",
       "      <td>1506889</td>\n",
       "    </tr>\n",
       "    <tr>\n",
       "      <th>2</th>\n",
       "      <td>PEA11</td>\n",
       "      <td>Population estimates from 1926</td>\n",
       "      <td>1926</td>\n",
       "      <td>1926</td>\n",
       "      <td>-</td>\n",
       "      <td>All ages</td>\n",
       "      <td>2</td>\n",
       "      <td>Female</td>\n",
       "      <td>Number</td>\n",
       "      <td>1465103</td>\n",
       "    </tr>\n",
       "    <tr>\n",
       "      <th>3</th>\n",
       "      <td>PEA11</td>\n",
       "      <td>Population estimates from 1926</td>\n",
       "      <td>1926</td>\n",
       "      <td>1926</td>\n",
       "      <td>200</td>\n",
       "      <td>Under 1 year</td>\n",
       "      <td>-</td>\n",
       "      <td>Both sexes</td>\n",
       "      <td>Number</td>\n",
       "      <td>55391</td>\n",
       "    </tr>\n",
       "    <tr>\n",
       "      <th>4</th>\n",
       "      <td>PEA11</td>\n",
       "      <td>Population estimates from 1926</td>\n",
       "      <td>1926</td>\n",
       "      <td>1926</td>\n",
       "      <td>200</td>\n",
       "      <td>Under 1 year</td>\n",
       "      <td>1</td>\n",
       "      <td>Male</td>\n",
       "      <td>Number</td>\n",
       "      <td>28084</td>\n",
       "    </tr>\n",
       "    <tr>\n",
       "      <th>5</th>\n",
       "      <td>PEA11</td>\n",
       "      <td>Population estimates from 1926</td>\n",
       "      <td>1926</td>\n",
       "      <td>1926</td>\n",
       "      <td>200</td>\n",
       "      <td>Under 1 year</td>\n",
       "      <td>2</td>\n",
       "      <td>Female</td>\n",
       "      <td>Number</td>\n",
       "      <td>27307</td>\n",
       "    </tr>\n",
       "    <tr>\n",
       "      <th>6</th>\n",
       "      <td>PEA11</td>\n",
       "      <td>Population estimates from 1926</td>\n",
       "      <td>1926</td>\n",
       "      <td>1926</td>\n",
       "      <td>001</td>\n",
       "      <td>1 year</td>\n",
       "      <td>-</td>\n",
       "      <td>Both sexes</td>\n",
       "      <td>Number</td>\n",
       "      <td>55876</td>\n",
       "    </tr>\n",
       "    <tr>\n",
       "      <th>7</th>\n",
       "      <td>PEA11</td>\n",
       "      <td>Population estimates from 1926</td>\n",
       "      <td>1926</td>\n",
       "      <td>1926</td>\n",
       "      <td>001</td>\n",
       "      <td>1 year</td>\n",
       "      <td>1</td>\n",
       "      <td>Male</td>\n",
       "      <td>Number</td>\n",
       "      <td>28374</td>\n",
       "    </tr>\n",
       "    <tr>\n",
       "      <th>8</th>\n",
       "      <td>PEA11</td>\n",
       "      <td>Population estimates from 1926</td>\n",
       "      <td>1926</td>\n",
       "      <td>1926</td>\n",
       "      <td>001</td>\n",
       "      <td>1 year</td>\n",
       "      <td>2</td>\n",
       "      <td>Female</td>\n",
       "      <td>Number</td>\n",
       "      <td>27502</td>\n",
       "    </tr>\n",
       "    <tr>\n",
       "      <th>9</th>\n",
       "      <td>PEA11</td>\n",
       "      <td>Population estimates from 1926</td>\n",
       "      <td>1926</td>\n",
       "      <td>1926</td>\n",
       "      <td>002</td>\n",
       "      <td>2 years</td>\n",
       "      <td>-</td>\n",
       "      <td>Both sexes</td>\n",
       "      <td>Number</td>\n",
       "      <td>58273</td>\n",
       "    </tr>\n",
       "  </tbody>\n",
       "</table>\n",
       "</div>"
      ],
      "text/plain": [
       "  STATISTIC                 STATISTIC Label  TLIST(A1)  Year C02076V03371  \\\n",
       "0     PEA11  Population estimates from 1926       1926  1926            -   \n",
       "1     PEA11  Population estimates from 1926       1926  1926            -   \n",
       "2     PEA11  Population estimates from 1926       1926  1926            -   \n",
       "3     PEA11  Population estimates from 1926       1926  1926          200   \n",
       "4     PEA11  Population estimates from 1926       1926  1926          200   \n",
       "5     PEA11  Population estimates from 1926       1926  1926          200   \n",
       "6     PEA11  Population estimates from 1926       1926  1926          001   \n",
       "7     PEA11  Population estimates from 1926       1926  1926          001   \n",
       "8     PEA11  Population estimates from 1926       1926  1926          001   \n",
       "9     PEA11  Population estimates from 1926       1926  1926          002   \n",
       "\n",
       "  Single Year of Age C02199V02655         Sex    UNIT    VALUE  \n",
       "0           All ages            -  Both sexes  Number  2971992  \n",
       "1           All ages            1        Male  Number  1506889  \n",
       "2           All ages            2      Female  Number  1465103  \n",
       "3       Under 1 year            -  Both sexes  Number    55391  \n",
       "4       Under 1 year            1        Male  Number    28084  \n",
       "5       Under 1 year            2      Female  Number    27307  \n",
       "6             1 year            -  Both sexes  Number    55876  \n",
       "7             1 year            1        Male  Number    28374  \n",
       "8             1 year            2      Female  Number    27502  \n",
       "9            2 years            -  Both sexes  Number    58273  "
      ]
     },
     "execution_count": 22,
     "metadata": {},
     "output_type": "execute_result"
    }
   ],
   "source": [
    "#checking the first 10 rows of the data so that we can get idea of the dataset\n",
    "population_df.head(10)"
   ]
  },
  {
   "cell_type": "code",
   "execution_count": 23,
   "metadata": {},
   "outputs": [],
   "source": [
    "#By taking a look at the first 5 rows of the data we can have the following conclusion: \n",
    "#We have categorical variables - STATISTICS, STATISTIC Label, TLIST(A1)\n",
    "#We have numerical variables - Year, C02076V02508 (identifier for the age group), C02199V02655 (code/identifier for the sex), VALUE\n",
    "#We have qualitative variables - Age Group, Sex, Unit"
   ]
  },
  {
   "cell_type": "code",
   "execution_count": 24,
   "metadata": {},
   "outputs": [
    {
     "name": "stdout",
     "output_type": "stream",
     "text": [
      "There are 118170 values in total across the whole dataset\n"
     ]
    }
   ],
   "source": [
    "#access the size of the dataset\n",
    "print(\"There are\", population_df.size, \"values in total across the whole dataset\")"
   ]
  },
  {
   "cell_type": "code",
   "execution_count": 25,
   "metadata": {},
   "outputs": [
    {
     "data": {
      "text/plain": [
       "(11817, 10)"
      ]
     },
     "execution_count": 25,
     "metadata": {},
     "output_type": "execute_result"
    }
   ],
   "source": [
    "population_df.shape"
   ]
  },
  {
   "cell_type": "code",
   "execution_count": 26,
   "metadata": {
    "colab": {
     "base_uri": "https://localhost:8080/"
    },
    "executionInfo": {
     "elapsed": 226,
     "status": "ok",
     "timestamp": 1696878509718,
     "user": {
      "displayName": "Maria Koleva",
      "userId": "15896521558550622314"
     },
     "user_tz": -60
    },
    "id": "45qsJCFItL0K",
    "outputId": "3b7af0bd-aec8-4e60-de92-bc1077e1ff69"
   },
   "outputs": [
    {
     "name": "stdout",
     "output_type": "stream",
     "text": [
      "<class 'pandas.core.frame.DataFrame'>\n",
      "RangeIndex: 11817 entries, 0 to 11816\n",
      "Data columns (total 10 columns):\n",
      " #   Column              Non-Null Count  Dtype \n",
      "---  ------              --------------  ----- \n",
      " 0   STATISTIC           11817 non-null  object\n",
      " 1   STATISTIC Label     11817 non-null  object\n",
      " 2   TLIST(A1)           11817 non-null  int64 \n",
      " 3   Year                11817 non-null  int64 \n",
      " 4   C02076V03371        11817 non-null  object\n",
      " 5   Single Year of Age  11817 non-null  object\n",
      " 6   C02199V02655        11817 non-null  object\n",
      " 7   Sex                 11817 non-null  object\n",
      " 8   UNIT                11817 non-null  object\n",
      " 9   VALUE               11817 non-null  int64 \n",
      "dtypes: int64(3), object(7)\n",
      "memory usage: 923.3+ KB\n"
     ]
    }
   ],
   "source": [
    "#using the info() function so that we can check and understand the structure of the DataFrame and gain insights into the data it contains.\n",
    "population_df.info()"
   ]
  },
  {
   "cell_type": "code",
   "execution_count": 27,
   "metadata": {},
   "outputs": [
    {
     "data": {
      "text/plain": [
       "STATISTIC             object\n",
       "STATISTIC Label       object\n",
       "TLIST(A1)              int64\n",
       "Year                   int64\n",
       "C02076V03371          object\n",
       "Single Year of Age    object\n",
       "C02199V02655          object\n",
       "Sex                   object\n",
       "UNIT                  object\n",
       "VALUE                  int64\n",
       "dtype: object"
      ]
     },
     "execution_count": 27,
     "metadata": {},
     "output_type": "execute_result"
    }
   ],
   "source": [
    "#another function to check only the data type\n",
    "population_df.dtypes"
   ]
  },
  {
   "cell_type": "code",
   "execution_count": 28,
   "metadata": {},
   "outputs": [
    {
     "data": {
      "text/html": [
       "<div>\n",
       "<style scoped>\n",
       "    .dataframe tbody tr th:only-of-type {\n",
       "        vertical-align: middle;\n",
       "    }\n",
       "\n",
       "    .dataframe tbody tr th {\n",
       "        vertical-align: top;\n",
       "    }\n",
       "\n",
       "    .dataframe thead th {\n",
       "        text-align: right;\n",
       "    }\n",
       "</style>\n",
       "<table border=\"1\" class=\"dataframe\">\n",
       "  <thead>\n",
       "    <tr style=\"text-align: right;\">\n",
       "      <th></th>\n",
       "      <th>TLIST(A1)</th>\n",
       "      <th>Year</th>\n",
       "      <th>VALUE</th>\n",
       "    </tr>\n",
       "  </thead>\n",
       "  <tbody>\n",
       "    <tr>\n",
       "      <th>count</th>\n",
       "      <td>11817.000000</td>\n",
       "      <td>11817.000000</td>\n",
       "      <td>1.181700e+04</td>\n",
       "    </tr>\n",
       "    <tr>\n",
       "      <th>mean</th>\n",
       "      <td>1996.410256</td>\n",
       "      <td>1996.410256</td>\n",
       "      <td>5.352461e+04</td>\n",
       "    </tr>\n",
       "    <tr>\n",
       "      <th>std</th>\n",
       "      <td>24.463165</td>\n",
       "      <td>24.463165</td>\n",
       "      <td>2.867754e+05</td>\n",
       "    </tr>\n",
       "    <tr>\n",
       "      <th>min</th>\n",
       "      <td>1926.000000</td>\n",
       "      <td>1926.000000</td>\n",
       "      <td>6.000000e+00</td>\n",
       "    </tr>\n",
       "    <tr>\n",
       "      <th>25%</th>\n",
       "      <td>1986.000000</td>\n",
       "      <td>1986.000000</td>\n",
       "      <td>1.242700e+04</td>\n",
       "    </tr>\n",
       "    <tr>\n",
       "      <th>50%</th>\n",
       "      <td>2004.000000</td>\n",
       "      <td>2004.000000</td>\n",
       "      <td>2.667500e+04</td>\n",
       "    </tr>\n",
       "    <tr>\n",
       "      <th>75%</th>\n",
       "      <td>2014.000000</td>\n",
       "      <td>2014.000000</td>\n",
       "      <td>3.557700e+04</td>\n",
       "    </tr>\n",
       "    <tr>\n",
       "      <th>max</th>\n",
       "      <td>2023.000000</td>\n",
       "      <td>2023.000000</td>\n",
       "      <td>5.281612e+06</td>\n",
       "    </tr>\n",
       "  </tbody>\n",
       "</table>\n",
       "</div>"
      ],
      "text/plain": [
       "          TLIST(A1)          Year         VALUE\n",
       "count  11817.000000  11817.000000  1.181700e+04\n",
       "mean    1996.410256   1996.410256  5.352461e+04\n",
       "std       24.463165     24.463165  2.867754e+05\n",
       "min     1926.000000   1926.000000  6.000000e+00\n",
       "25%     1986.000000   1986.000000  1.242700e+04\n",
       "50%     2004.000000   2004.000000  2.667500e+04\n",
       "75%     2014.000000   2014.000000  3.557700e+04\n",
       "max     2023.000000   2023.000000  5.281612e+06"
      ]
     },
     "execution_count": 28,
     "metadata": {},
     "output_type": "execute_result"
    }
   ],
   "source": [
    "#this only works for continuous variables \n",
    "population_df.describe()"
   ]
  },
  {
   "cell_type": "code",
   "execution_count": 29,
   "metadata": {},
   "outputs": [
    {
     "data": {
      "text/html": [
       "<div>\n",
       "<style scoped>\n",
       "    .dataframe tbody tr th:only-of-type {\n",
       "        vertical-align: middle;\n",
       "    }\n",
       "\n",
       "    .dataframe tbody tr th {\n",
       "        vertical-align: top;\n",
       "    }\n",
       "\n",
       "    .dataframe thead th {\n",
       "        text-align: right;\n",
       "    }\n",
       "</style>\n",
       "<table border=\"1\" class=\"dataframe\">\n",
       "  <thead>\n",
       "    <tr style=\"text-align: right;\">\n",
       "      <th></th>\n",
       "      <th>STATISTIC</th>\n",
       "      <th>STATISTIC Label</th>\n",
       "      <th>TLIST(A1)</th>\n",
       "      <th>Year</th>\n",
       "      <th>C02076V03371</th>\n",
       "      <th>Single Year of Age</th>\n",
       "      <th>C02199V02655</th>\n",
       "      <th>Sex</th>\n",
       "      <th>UNIT</th>\n",
       "      <th>VALUE</th>\n",
       "      <th>Value_in_thousands</th>\n",
       "    </tr>\n",
       "  </thead>\n",
       "  <tbody>\n",
       "    <tr>\n",
       "      <th>0</th>\n",
       "      <td>PEA11</td>\n",
       "      <td>Population estimates from 1926</td>\n",
       "      <td>1926</td>\n",
       "      <td>1926</td>\n",
       "      <td>-</td>\n",
       "      <td>All ages</td>\n",
       "      <td>-</td>\n",
       "      <td>Both sexes</td>\n",
       "      <td>Number</td>\n",
       "      <td>2971992</td>\n",
       "      <td>2972.0</td>\n",
       "    </tr>\n",
       "    <tr>\n",
       "      <th>1</th>\n",
       "      <td>PEA11</td>\n",
       "      <td>Population estimates from 1926</td>\n",
       "      <td>1926</td>\n",
       "      <td>1926</td>\n",
       "      <td>-</td>\n",
       "      <td>All ages</td>\n",
       "      <td>1</td>\n",
       "      <td>Male</td>\n",
       "      <td>Number</td>\n",
       "      <td>1506889</td>\n",
       "      <td>1506.9</td>\n",
       "    </tr>\n",
       "    <tr>\n",
       "      <th>2</th>\n",
       "      <td>PEA11</td>\n",
       "      <td>Population estimates from 1926</td>\n",
       "      <td>1926</td>\n",
       "      <td>1926</td>\n",
       "      <td>-</td>\n",
       "      <td>All ages</td>\n",
       "      <td>2</td>\n",
       "      <td>Female</td>\n",
       "      <td>Number</td>\n",
       "      <td>1465103</td>\n",
       "      <td>1465.1</td>\n",
       "    </tr>\n",
       "    <tr>\n",
       "      <th>3</th>\n",
       "      <td>PEA11</td>\n",
       "      <td>Population estimates from 1926</td>\n",
       "      <td>1926</td>\n",
       "      <td>1926</td>\n",
       "      <td>200</td>\n",
       "      <td>Under 1 year</td>\n",
       "      <td>-</td>\n",
       "      <td>Both sexes</td>\n",
       "      <td>Number</td>\n",
       "      <td>55391</td>\n",
       "      <td>55.4</td>\n",
       "    </tr>\n",
       "    <tr>\n",
       "      <th>4</th>\n",
       "      <td>PEA11</td>\n",
       "      <td>Population estimates from 1926</td>\n",
       "      <td>1926</td>\n",
       "      <td>1926</td>\n",
       "      <td>200</td>\n",
       "      <td>Under 1 year</td>\n",
       "      <td>1</td>\n",
       "      <td>Male</td>\n",
       "      <td>Number</td>\n",
       "      <td>28084</td>\n",
       "      <td>28.1</td>\n",
       "    </tr>\n",
       "    <tr>\n",
       "      <th>5</th>\n",
       "      <td>PEA11</td>\n",
       "      <td>Population estimates from 1926</td>\n",
       "      <td>1926</td>\n",
       "      <td>1926</td>\n",
       "      <td>200</td>\n",
       "      <td>Under 1 year</td>\n",
       "      <td>2</td>\n",
       "      <td>Female</td>\n",
       "      <td>Number</td>\n",
       "      <td>27307</td>\n",
       "      <td>27.3</td>\n",
       "    </tr>\n",
       "    <tr>\n",
       "      <th>6</th>\n",
       "      <td>PEA11</td>\n",
       "      <td>Population estimates from 1926</td>\n",
       "      <td>1926</td>\n",
       "      <td>1926</td>\n",
       "      <td>001</td>\n",
       "      <td>1 year</td>\n",
       "      <td>-</td>\n",
       "      <td>Both sexes</td>\n",
       "      <td>Number</td>\n",
       "      <td>55876</td>\n",
       "      <td>55.9</td>\n",
       "    </tr>\n",
       "    <tr>\n",
       "      <th>7</th>\n",
       "      <td>PEA11</td>\n",
       "      <td>Population estimates from 1926</td>\n",
       "      <td>1926</td>\n",
       "      <td>1926</td>\n",
       "      <td>001</td>\n",
       "      <td>1 year</td>\n",
       "      <td>1</td>\n",
       "      <td>Male</td>\n",
       "      <td>Number</td>\n",
       "      <td>28374</td>\n",
       "      <td>28.4</td>\n",
       "    </tr>\n",
       "    <tr>\n",
       "      <th>8</th>\n",
       "      <td>PEA11</td>\n",
       "      <td>Population estimates from 1926</td>\n",
       "      <td>1926</td>\n",
       "      <td>1926</td>\n",
       "      <td>001</td>\n",
       "      <td>1 year</td>\n",
       "      <td>2</td>\n",
       "      <td>Female</td>\n",
       "      <td>Number</td>\n",
       "      <td>27502</td>\n",
       "      <td>27.5</td>\n",
       "    </tr>\n",
       "    <tr>\n",
       "      <th>9</th>\n",
       "      <td>PEA11</td>\n",
       "      <td>Population estimates from 1926</td>\n",
       "      <td>1926</td>\n",
       "      <td>1926</td>\n",
       "      <td>002</td>\n",
       "      <td>2 years</td>\n",
       "      <td>-</td>\n",
       "      <td>Both sexes</td>\n",
       "      <td>Number</td>\n",
       "      <td>58273</td>\n",
       "      <td>58.3</td>\n",
       "    </tr>\n",
       "    <tr>\n",
       "      <th>10</th>\n",
       "      <td>PEA11</td>\n",
       "      <td>Population estimates from 1926</td>\n",
       "      <td>1926</td>\n",
       "      <td>1926</td>\n",
       "      <td>002</td>\n",
       "      <td>2 years</td>\n",
       "      <td>1</td>\n",
       "      <td>Male</td>\n",
       "      <td>Number</td>\n",
       "      <td>29728</td>\n",
       "      <td>29.7</td>\n",
       "    </tr>\n",
       "    <tr>\n",
       "      <th>11</th>\n",
       "      <td>PEA11</td>\n",
       "      <td>Population estimates from 1926</td>\n",
       "      <td>1926</td>\n",
       "      <td>1926</td>\n",
       "      <td>002</td>\n",
       "      <td>2 years</td>\n",
       "      <td>2</td>\n",
       "      <td>Female</td>\n",
       "      <td>Number</td>\n",
       "      <td>28545</td>\n",
       "      <td>28.5</td>\n",
       "    </tr>\n",
       "    <tr>\n",
       "      <th>12</th>\n",
       "      <td>PEA11</td>\n",
       "      <td>Population estimates from 1926</td>\n",
       "      <td>1926</td>\n",
       "      <td>1926</td>\n",
       "      <td>003</td>\n",
       "      <td>3 years</td>\n",
       "      <td>-</td>\n",
       "      <td>Both sexes</td>\n",
       "      <td>Number</td>\n",
       "      <td>59050</td>\n",
       "      <td>59.0</td>\n",
       "    </tr>\n",
       "    <tr>\n",
       "      <th>13</th>\n",
       "      <td>PEA11</td>\n",
       "      <td>Population estimates from 1926</td>\n",
       "      <td>1926</td>\n",
       "      <td>1926</td>\n",
       "      <td>003</td>\n",
       "      <td>3 years</td>\n",
       "      <td>1</td>\n",
       "      <td>Male</td>\n",
       "      <td>Number</td>\n",
       "      <td>29872</td>\n",
       "      <td>29.9</td>\n",
       "    </tr>\n",
       "    <tr>\n",
       "      <th>14</th>\n",
       "      <td>PEA11</td>\n",
       "      <td>Population estimates from 1926</td>\n",
       "      <td>1926</td>\n",
       "      <td>1926</td>\n",
       "      <td>003</td>\n",
       "      <td>3 years</td>\n",
       "      <td>2</td>\n",
       "      <td>Female</td>\n",
       "      <td>Number</td>\n",
       "      <td>29178</td>\n",
       "      <td>29.2</td>\n",
       "    </tr>\n",
       "    <tr>\n",
       "      <th>15</th>\n",
       "      <td>PEA11</td>\n",
       "      <td>Population estimates from 1926</td>\n",
       "      <td>1926</td>\n",
       "      <td>1926</td>\n",
       "      <td>004</td>\n",
       "      <td>4 years</td>\n",
       "      <td>-</td>\n",
       "      <td>Both sexes</td>\n",
       "      <td>Number</td>\n",
       "      <td>59123</td>\n",
       "      <td>59.1</td>\n",
       "    </tr>\n",
       "    <tr>\n",
       "      <th>16</th>\n",
       "      <td>PEA11</td>\n",
       "      <td>Population estimates from 1926</td>\n",
       "      <td>1926</td>\n",
       "      <td>1926</td>\n",
       "      <td>004</td>\n",
       "      <td>4 years</td>\n",
       "      <td>1</td>\n",
       "      <td>Male</td>\n",
       "      <td>Number</td>\n",
       "      <td>30115</td>\n",
       "      <td>30.1</td>\n",
       "    </tr>\n",
       "    <tr>\n",
       "      <th>17</th>\n",
       "      <td>PEA11</td>\n",
       "      <td>Population estimates from 1926</td>\n",
       "      <td>1926</td>\n",
       "      <td>1926</td>\n",
       "      <td>004</td>\n",
       "      <td>4 years</td>\n",
       "      <td>2</td>\n",
       "      <td>Female</td>\n",
       "      <td>Number</td>\n",
       "      <td>29008</td>\n",
       "      <td>29.0</td>\n",
       "    </tr>\n",
       "    <tr>\n",
       "      <th>18</th>\n",
       "      <td>PEA11</td>\n",
       "      <td>Population estimates from 1926</td>\n",
       "      <td>1926</td>\n",
       "      <td>1926</td>\n",
       "      <td>005</td>\n",
       "      <td>5 years</td>\n",
       "      <td>-</td>\n",
       "      <td>Both sexes</td>\n",
       "      <td>Number</td>\n",
       "      <td>60334</td>\n",
       "      <td>60.3</td>\n",
       "    </tr>\n",
       "    <tr>\n",
       "      <th>19</th>\n",
       "      <td>PEA11</td>\n",
       "      <td>Population estimates from 1926</td>\n",
       "      <td>1926</td>\n",
       "      <td>1926</td>\n",
       "      <td>005</td>\n",
       "      <td>5 years</td>\n",
       "      <td>1</td>\n",
       "      <td>Male</td>\n",
       "      <td>Number</td>\n",
       "      <td>30730</td>\n",
       "      <td>30.7</td>\n",
       "    </tr>\n",
       "  </tbody>\n",
       "</table>\n",
       "</div>"
      ],
      "text/plain": [
       "   STATISTIC                 STATISTIC Label  TLIST(A1)  Year C02076V03371  \\\n",
       "0      PEA11  Population estimates from 1926       1926  1926            -   \n",
       "1      PEA11  Population estimates from 1926       1926  1926            -   \n",
       "2      PEA11  Population estimates from 1926       1926  1926            -   \n",
       "3      PEA11  Population estimates from 1926       1926  1926          200   \n",
       "4      PEA11  Population estimates from 1926       1926  1926          200   \n",
       "5      PEA11  Population estimates from 1926       1926  1926          200   \n",
       "6      PEA11  Population estimates from 1926       1926  1926          001   \n",
       "7      PEA11  Population estimates from 1926       1926  1926          001   \n",
       "8      PEA11  Population estimates from 1926       1926  1926          001   \n",
       "9      PEA11  Population estimates from 1926       1926  1926          002   \n",
       "10     PEA11  Population estimates from 1926       1926  1926          002   \n",
       "11     PEA11  Population estimates from 1926       1926  1926          002   \n",
       "12     PEA11  Population estimates from 1926       1926  1926          003   \n",
       "13     PEA11  Population estimates from 1926       1926  1926          003   \n",
       "14     PEA11  Population estimates from 1926       1926  1926          003   \n",
       "15     PEA11  Population estimates from 1926       1926  1926          004   \n",
       "16     PEA11  Population estimates from 1926       1926  1926          004   \n",
       "17     PEA11  Population estimates from 1926       1926  1926          004   \n",
       "18     PEA11  Population estimates from 1926       1926  1926          005   \n",
       "19     PEA11  Population estimates from 1926       1926  1926          005   \n",
       "\n",
       "   Single Year of Age C02199V02655         Sex    UNIT    VALUE  \\\n",
       "0            All ages            -  Both sexes  Number  2971992   \n",
       "1            All ages            1        Male  Number  1506889   \n",
       "2            All ages            2      Female  Number  1465103   \n",
       "3        Under 1 year            -  Both sexes  Number    55391   \n",
       "4        Under 1 year            1        Male  Number    28084   \n",
       "5        Under 1 year            2      Female  Number    27307   \n",
       "6              1 year            -  Both sexes  Number    55876   \n",
       "7              1 year            1        Male  Number    28374   \n",
       "8              1 year            2      Female  Number    27502   \n",
       "9             2 years            -  Both sexes  Number    58273   \n",
       "10            2 years            1        Male  Number    29728   \n",
       "11            2 years            2      Female  Number    28545   \n",
       "12            3 years            -  Both sexes  Number    59050   \n",
       "13            3 years            1        Male  Number    29872   \n",
       "14            3 years            2      Female  Number    29178   \n",
       "15            4 years            -  Both sexes  Number    59123   \n",
       "16            4 years            1        Male  Number    30115   \n",
       "17            4 years            2      Female  Number    29008   \n",
       "18            5 years            -  Both sexes  Number    60334   \n",
       "19            5 years            1        Male  Number    30730   \n",
       "\n",
       "    Value_in_thousands  \n",
       "0               2972.0  \n",
       "1               1506.9  \n",
       "2               1465.1  \n",
       "3                 55.4  \n",
       "4                 28.1  \n",
       "5                 27.3  \n",
       "6                 55.9  \n",
       "7                 28.4  \n",
       "8                 27.5  \n",
       "9                 58.3  \n",
       "10                29.7  \n",
       "11                28.5  \n",
       "12                59.0  \n",
       "13                29.9  \n",
       "14                29.2  \n",
       "15                59.1  \n",
       "16                30.1  \n",
       "17                29.0  \n",
       "18                60.3  \n",
       "19                30.7  "
      ]
     },
     "execution_count": 29,
     "metadata": {},
     "output_type": "execute_result"
    }
   ],
   "source": [
    "population_df[\"Value_in_thousands\"] = (population_df['VALUE'] / 1000).round(1)\n",
    "population_df.head(20)"
   ]
  },
  {
   "cell_type": "code",
   "execution_count": 30,
   "metadata": {},
   "outputs": [
    {
     "data": {
      "text/html": [
       "<div>\n",
       "<style scoped>\n",
       "    .dataframe tbody tr th:only-of-type {\n",
       "        vertical-align: middle;\n",
       "    }\n",
       "\n",
       "    .dataframe tbody tr th {\n",
       "        vertical-align: top;\n",
       "    }\n",
       "\n",
       "    .dataframe thead th {\n",
       "        text-align: right;\n",
       "    }\n",
       "</style>\n",
       "<table border=\"1\" class=\"dataframe\">\n",
       "  <thead>\n",
       "    <tr style=\"text-align: right;\">\n",
       "      <th></th>\n",
       "      <th>TLIST(A1)</th>\n",
       "      <th>Year</th>\n",
       "      <th>Value_in_thousands</th>\n",
       "    </tr>\n",
       "  </thead>\n",
       "  <tbody>\n",
       "    <tr>\n",
       "      <th>count</th>\n",
       "      <td>11817.000</td>\n",
       "      <td>11817.000</td>\n",
       "      <td>11817.000</td>\n",
       "    </tr>\n",
       "    <tr>\n",
       "      <th>mean</th>\n",
       "      <td>1996.410</td>\n",
       "      <td>1996.410</td>\n",
       "      <td>53.525</td>\n",
       "    </tr>\n",
       "    <tr>\n",
       "      <th>std</th>\n",
       "      <td>24.463</td>\n",
       "      <td>24.463</td>\n",
       "      <td>286.775</td>\n",
       "    </tr>\n",
       "    <tr>\n",
       "      <th>min</th>\n",
       "      <td>1926.000</td>\n",
       "      <td>1926.000</td>\n",
       "      <td>0.000</td>\n",
       "    </tr>\n",
       "    <tr>\n",
       "      <th>25%</th>\n",
       "      <td>1986.000</td>\n",
       "      <td>1986.000</td>\n",
       "      <td>12.400</td>\n",
       "    </tr>\n",
       "    <tr>\n",
       "      <th>50%</th>\n",
       "      <td>2004.000</td>\n",
       "      <td>2004.000</td>\n",
       "      <td>26.700</td>\n",
       "    </tr>\n",
       "    <tr>\n",
       "      <th>75%</th>\n",
       "      <td>2014.000</td>\n",
       "      <td>2014.000</td>\n",
       "      <td>35.600</td>\n",
       "    </tr>\n",
       "    <tr>\n",
       "      <th>max</th>\n",
       "      <td>2023.000</td>\n",
       "      <td>2023.000</td>\n",
       "      <td>5281.600</td>\n",
       "    </tr>\n",
       "  </tbody>\n",
       "</table>\n",
       "</div>"
      ],
      "text/plain": [
       "       TLIST(A1)       Year  Value_in_thousands\n",
       "count  11817.000  11817.000           11817.000\n",
       "mean    1996.410   1996.410              53.525\n",
       "std       24.463     24.463             286.775\n",
       "min     1926.000   1926.000               0.000\n",
       "25%     1986.000   1986.000              12.400\n",
       "50%     2004.000   2004.000              26.700\n",
       "75%     2014.000   2014.000              35.600\n",
       "max     2023.000   2023.000            5281.600"
      ]
     },
     "execution_count": 30,
     "metadata": {},
     "output_type": "execute_result"
    }
   ],
   "source": [
    "columns_to_include = [col for col in population_df.columns if col != 'VALUE']\n",
    "population_df[columns_to_include].describe().round(3)"
   ]
  },
  {
   "cell_type": "code",
   "execution_count": 31,
   "metadata": {},
   "outputs": [],
   "source": [
    "#For the visualizations, I will use the column value_in_thousands in order to achieve a more readable view.\n",
    "#For any calculations, I will be using the original column named 'VALUE' to achieve presicion. "
   ]
  },
  {
   "cell_type": "code",
   "execution_count": 32,
   "metadata": {},
   "outputs": [
    {
     "data": {
      "text/plain": [
       "array([1926, 1936, 1946, 1951, 1961, 1966, 1971, 1979, 1981, 1986, 1991,\n",
       "       1996, 1997, 1998, 1999, 2000, 2001, 2002, 2003, 2004, 2005, 2006,\n",
       "       2007, 2008, 2009, 2010, 2011, 2012, 2013, 2014, 2015, 2016, 2017,\n",
       "       2018, 2019, 2020, 2021, 2022, 2023], dtype=int64)"
      ]
     },
     "execution_count": 32,
     "metadata": {},
     "output_type": "execute_result"
    }
   ],
   "source": [
    "population_df['Year'].unique()"
   ]
  },
  {
   "cell_type": "code",
   "execution_count": 33,
   "metadata": {},
   "outputs": [
    {
     "name": "stdout",
     "output_type": "stream",
     "text": [
      "     Year         Sex  Value_in_thousands\n",
      "0    1926  Both sexes              5943.8\n",
      "1    1926      Female              2930.1\n",
      "2    1926        Male              3013.8\n",
      "3    1936  Both sexes              5937.3\n",
      "4    1936      Female              2896.5\n",
      "..    ...         ...                 ...\n",
      "112  2022      Female              5243.6\n",
      "113  2022        Male              5123.5\n",
      "114  2023  Both sexes             10563.1\n",
      "115  2023      Female              5350.3\n",
      "116  2023        Male              5212.8\n",
      "\n",
      "[117 rows x 3 columns]\n"
     ]
    }
   ],
   "source": [
    "pivot_table = population_df.pivot_table(index=['Year', 'Sex'], values='Value_in_thousands', aggfunc='sum')\n",
    "\n",
    "# Reset index to make 'Year' and 'Sex' regular columns\n",
    "pivot_table.reset_index(inplace=True)\n",
    "\n",
    "print(pivot_table)"
   ]
  },
  {
   "cell_type": "code",
   "execution_count": 34,
   "metadata": {},
   "outputs": [
    {
     "data": {
      "image/png": "[encoded data removed]",
      "text/plain": [
       "<Figure size 1000x600 with 1 Axes>"
      ]
     },
     "metadata": {},
     "output_type": "display_data"
    }
   ],
   "source": [
    "filtered_pivot_table = population_df[population_df['Sex'] != 'Both sexes']\n",
    "\n",
    "pivot_table = filtered_pivot_table.pivot_table(index='Year', columns='Sex', values='Value_in_thousands', aggfunc='sum')\n",
    "\n",
    "# Step 4: Create a line graph using Seaborn\n",
    "plt.figure(figsize=(10, 6))  # Set the figure size\n",
    "sns.set(style='whitegrid')  # Set the style of the plot\n",
    "\n",
    "custom_palette = {'Male': '#87CEEB', 'Female': '#FFC0CB'}\n",
    "\n",
    "# Create the line plot\n",
    "sns.lineplot(data=pivot_table,palette = custom_palette, markers = True, dashes=False)\n",
    "\n",
    "# Set plot labels and title\n",
    "plt.xlabel('Year')\n",
    "plt.ylabel('Population in thousands')\n",
    "plt.title('Population over the years by sex')\n",
    "\n",
    "# Show the plot\n",
    "plt.legend(title='Sex')\n",
    "plt.show()"
   ]
  },
  {
   "cell_type": "code",
   "execution_count": 35,
   "metadata": {},
   "outputs": [
    {
     "data": {
      "text/html": [
       "<div>\n",
       "<style scoped>\n",
       "    .dataframe tbody tr th:only-of-type {\n",
       "        vertical-align: middle;\n",
       "    }\n",
       "\n",
       "    .dataframe tbody tr th {\n",
       "        vertical-align: top;\n",
       "    }\n",
       "\n",
       "    .dataframe thead th {\n",
       "        text-align: right;\n",
       "    }\n",
       "</style>\n",
       "<table border=\"1\" class=\"dataframe\">\n",
       "  <thead>\n",
       "    <tr style=\"text-align: right;\">\n",
       "      <th></th>\n",
       "      <th>STATISTIC</th>\n",
       "      <th>STATISTIC Label</th>\n",
       "      <th>C02076V03371</th>\n",
       "      <th>Single Year of Age</th>\n",
       "      <th>C02199V02655</th>\n",
       "      <th>Sex</th>\n",
       "      <th>UNIT</th>\n",
       "    </tr>\n",
       "  </thead>\n",
       "  <tbody>\n",
       "    <tr>\n",
       "      <th>count</th>\n",
       "      <td>11817</td>\n",
       "      <td>11817</td>\n",
       "      <td>11817</td>\n",
       "      <td>11817</td>\n",
       "      <td>11817</td>\n",
       "      <td>11817</td>\n",
       "      <td>11817</td>\n",
       "    </tr>\n",
       "    <tr>\n",
       "      <th>unique</th>\n",
       "      <td>1</td>\n",
       "      <td>1</td>\n",
       "      <td>101</td>\n",
       "      <td>101</td>\n",
       "      <td>3</td>\n",
       "      <td>3</td>\n",
       "      <td>1</td>\n",
       "    </tr>\n",
       "    <tr>\n",
       "      <th>top</th>\n",
       "      <td>PEA11</td>\n",
       "      <td>Population estimates from 1926</td>\n",
       "      <td>-</td>\n",
       "      <td>All ages</td>\n",
       "      <td>-</td>\n",
       "      <td>Both sexes</td>\n",
       "      <td>Number</td>\n",
       "    </tr>\n",
       "    <tr>\n",
       "      <th>freq</th>\n",
       "      <td>11817</td>\n",
       "      <td>11817</td>\n",
       "      <td>117</td>\n",
       "      <td>117</td>\n",
       "      <td>3939</td>\n",
       "      <td>3939</td>\n",
       "      <td>11817</td>\n",
       "    </tr>\n",
       "  </tbody>\n",
       "</table>\n",
       "</div>"
      ],
      "text/plain": [
       "       STATISTIC                 STATISTIC Label C02076V03371  \\\n",
       "count      11817                           11817        11817   \n",
       "unique         1                               1          101   \n",
       "top        PEA11  Population estimates from 1926            -   \n",
       "freq       11817                           11817          117   \n",
       "\n",
       "       Single Year of Age C02199V02655         Sex    UNIT  \n",
       "count               11817        11817       11817   11817  \n",
       "unique                101            3           3       1  \n",
       "top              All ages            -  Both sexes  Number  \n",
       "freq                  117         3939        3939   11817  "
      ]
     },
     "execution_count": 35,
     "metadata": {},
     "output_type": "execute_result"
    }
   ],
   "source": [
    "#if we want to include the objects we need the following but in our dataframe this doesn't give us a lot of useful information\n",
    "population_df.describe(include=object)"
   ]
  },
  {
   "cell_type": "code",
   "execution_count": 36,
   "metadata": {},
   "outputs": [
    {
     "data": {
      "text/plain": [
       "STATISTIC             0\n",
       "STATISTIC Label       0\n",
       "TLIST(A1)             0\n",
       "Year                  0\n",
       "C02076V03371          0\n",
       "Single Year of Age    0\n",
       "C02199V02655          0\n",
       "Sex                   0\n",
       "UNIT                  0\n",
       "VALUE                 0\n",
       "Value_in_thousands    0\n",
       "dtype: int64"
      ]
     },
     "execution_count": 36,
     "metadata": {},
     "output_type": "execute_result"
    }
   ],
   "source": [
    "#two methods to check if we have some null/missing values\n",
    "#population_df.isnull().sum()\n",
    "population_df.isna().sum()"
   ]
  },
  {
   "cell_type": "code",
   "execution_count": 37,
   "metadata": {},
   "outputs": [
    {
     "data": {
      "text/html": [
       "<div>\n",
       "<style scoped>\n",
       "    .dataframe tbody tr th:only-of-type {\n",
       "        vertical-align: middle;\n",
       "    }\n",
       "\n",
       "    .dataframe tbody tr th {\n",
       "        vertical-align: top;\n",
       "    }\n",
       "\n",
       "    .dataframe thead th {\n",
       "        text-align: right;\n",
       "    }\n",
       "</style>\n",
       "<table border=\"1\" class=\"dataframe\">\n",
       "  <thead>\n",
       "    <tr style=\"text-align: right;\">\n",
       "      <th></th>\n",
       "      <th>STATISTIC</th>\n",
       "      <th>STATISTIC Label</th>\n",
       "      <th>TLIST(A1)</th>\n",
       "      <th>Year</th>\n",
       "      <th>C02076V03371</th>\n",
       "      <th>Single Year of Age</th>\n",
       "      <th>C02199V02655</th>\n",
       "      <th>Sex</th>\n",
       "      <th>UNIT</th>\n",
       "      <th>VALUE</th>\n",
       "      <th>Value_in_thousands</th>\n",
       "    </tr>\n",
       "  </thead>\n",
       "  <tbody>\n",
       "  </tbody>\n",
       "</table>\n",
       "</div>"
      ],
      "text/plain": [
       "Empty DataFrame\n",
       "Columns: [STATISTIC, STATISTIC Label, TLIST(A1), Year, C02076V03371, Single Year of Age, C02199V02655, Sex, UNIT, VALUE, Value_in_thousands]\n",
       "Index: []"
      ]
     },
     "execution_count": 37,
     "metadata": {},
     "output_type": "execute_result"
    }
   ],
   "source": [
    "population_df[population_df['VALUE'].isna()]"
   ]
  },
  {
   "cell_type": "code",
   "execution_count": 38,
   "metadata": {
    "executionInfo": {
     "elapsed": 219,
     "status": "ok",
     "timestamp": 1696878511661,
     "user": {
      "displayName": "Maria Koleva",
      "userId": "15896521558550622314"
     },
     "user_tz": -60
    },
    "id": "UINlEDzIvckg"
   },
   "outputs": [],
   "source": [
    "#we will clean some of the columns as they won't be useful for our analysis\n",
    "\n",
    "to_drop = ['STATISTIC Label', 'STATISTIC', 'TLIST(A1)', 'C02076V03371', 'C02199V02655']\n",
    "\n",
    "population_df.drop(to_drop, inplace=True, axis=1)"
   ]
  },
  {
   "cell_type": "code",
   "execution_count": 39,
   "metadata": {
    "colab": {
     "base_uri": "https://localhost:8080/",
     "height": 206
    },
    "executionInfo": {
     "elapsed": 232,
     "status": "ok",
     "timestamp": 1696878515567,
     "user": {
      "displayName": "Maria Koleva",
      "userId": "15896521558550622314"
     },
     "user_tz": -60
    },
    "id": "gwYw1NwUyNd4",
    "outputId": "04e51d96-52a9-4084-f9c2-76bc74430829"
   },
   "outputs": [
    {
     "data": {
      "text/html": [
       "<div>\n",
       "<style scoped>\n",
       "    .dataframe tbody tr th:only-of-type {\n",
       "        vertical-align: middle;\n",
       "    }\n",
       "\n",
       "    .dataframe tbody tr th {\n",
       "        vertical-align: top;\n",
       "    }\n",
       "\n",
       "    .dataframe thead th {\n",
       "        text-align: right;\n",
       "    }\n",
       "</style>\n",
       "<table border=\"1\" class=\"dataframe\">\n",
       "  <thead>\n",
       "    <tr style=\"text-align: right;\">\n",
       "      <th></th>\n",
       "      <th>Year</th>\n",
       "      <th>Single Year of Age</th>\n",
       "      <th>Sex</th>\n",
       "      <th>UNIT</th>\n",
       "      <th>VALUE</th>\n",
       "      <th>Value_in_thousands</th>\n",
       "    </tr>\n",
       "  </thead>\n",
       "  <tbody>\n",
       "    <tr>\n",
       "      <th>0</th>\n",
       "      <td>1926</td>\n",
       "      <td>All ages</td>\n",
       "      <td>Both sexes</td>\n",
       "      <td>Number</td>\n",
       "      <td>2971992</td>\n",
       "      <td>2972.0</td>\n",
       "    </tr>\n",
       "    <tr>\n",
       "      <th>1</th>\n",
       "      <td>1926</td>\n",
       "      <td>All ages</td>\n",
       "      <td>Male</td>\n",
       "      <td>Number</td>\n",
       "      <td>1506889</td>\n",
       "      <td>1506.9</td>\n",
       "    </tr>\n",
       "    <tr>\n",
       "      <th>2</th>\n",
       "      <td>1926</td>\n",
       "      <td>All ages</td>\n",
       "      <td>Female</td>\n",
       "      <td>Number</td>\n",
       "      <td>1465103</td>\n",
       "      <td>1465.1</td>\n",
       "    </tr>\n",
       "    <tr>\n",
       "      <th>3</th>\n",
       "      <td>1926</td>\n",
       "      <td>Under 1 year</td>\n",
       "      <td>Both sexes</td>\n",
       "      <td>Number</td>\n",
       "      <td>55391</td>\n",
       "      <td>55.4</td>\n",
       "    </tr>\n",
       "    <tr>\n",
       "      <th>4</th>\n",
       "      <td>1926</td>\n",
       "      <td>Under 1 year</td>\n",
       "      <td>Male</td>\n",
       "      <td>Number</td>\n",
       "      <td>28084</td>\n",
       "      <td>28.1</td>\n",
       "    </tr>\n",
       "  </tbody>\n",
       "</table>\n",
       "</div>"
      ],
      "text/plain": [
       "   Year Single Year of Age         Sex    UNIT    VALUE  Value_in_thousands\n",
       "0  1926           All ages  Both sexes  Number  2971992              2972.0\n",
       "1  1926           All ages        Male  Number  1506889              1506.9\n",
       "2  1926           All ages      Female  Number  1465103              1465.1\n",
       "3  1926       Under 1 year  Both sexes  Number    55391                55.4\n",
       "4  1926       Under 1 year        Male  Number    28084                28.1"
      ]
     },
     "execution_count": 39,
     "metadata": {},
     "output_type": "execute_result"
    }
   ],
   "source": [
    "population_df.head()"
   ]
  },
  {
   "cell_type": "code",
   "execution_count": 40,
   "metadata": {
    "colab": {
     "base_uri": "https://localhost:8080/"
    },
    "executionInfo": {
     "elapsed": 220,
     "status": "ok",
     "timestamp": 1696878518034,
     "user": {
      "displayName": "Maria Koleva",
      "userId": "15896521558550622314"
     },
     "user_tz": -60
    },
    "id": "Cs27qBmsrY7l",
    "outputId": "f18117de-1b02-4e2f-a57d-998ae9d10a37"
   },
   "outputs": [
    {
     "data": {
      "text/plain": [
       "array([1926, 1936, 1946, 1951, 1961, 1966, 1971, 1979, 1981, 1986, 1991,\n",
       "       1996, 1997, 1998, 1999, 2000, 2001, 2002, 2003, 2004, 2005, 2006,\n",
       "       2007, 2008, 2009, 2010, 2011, 2012, 2013, 2014, 2015, 2016, 2017,\n",
       "       2018, 2019, 2020, 2021, 2022, 2023], dtype=int64)"
      ]
     },
     "execution_count": 40,
     "metadata": {},
     "output_type": "execute_result"
    }
   ],
   "source": [
    "#checking all unique values we have for the Year column (integer)\n",
    "population_df['Year'].unique()"
   ]
  },
  {
   "cell_type": "code",
   "execution_count": 41,
   "metadata": {
    "executionInfo": {
     "elapsed": 239,
     "status": "ok",
     "timestamp": 1696878520119,
     "user": {
      "displayName": "Maria Koleva",
      "userId": "15896521558550622314"
     },
     "user_tz": -60
    },
    "id": "SJSbetZEreWI"
   },
   "outputs": [],
   "source": [
    "#we will be looking at the data only for the past 20 years, so we would need to filter out the data so we create a new DataFrame which will have data from 2013 onwards\n",
    "population_last_10_years_df = population_df[(population_df['Year'] > 2002)]"
   ]
  },
  {
   "cell_type": "code",
   "execution_count": 42,
   "metadata": {
    "colab": {
     "base_uri": "https://localhost:8080/",
     "height": 206
    },
    "executionInfo": {
     "elapsed": 310,
     "status": "ok",
     "timestamp": 1696878521621,
     "user": {
      "displayName": "Maria Koleva",
      "userId": "15896521558550622314"
     },
     "user_tz": -60
    },
    "id": "M0hksIozuLVt",
    "outputId": "615d451c-c9ae-4ad9-e19b-bedf848382c8"
   },
   "outputs": [
    {
     "data": {
      "text/html": [
       "<div>\n",
       "<style scoped>\n",
       "    .dataframe tbody tr th:only-of-type {\n",
       "        vertical-align: middle;\n",
       "    }\n",
       "\n",
       "    .dataframe tbody tr th {\n",
       "        vertical-align: top;\n",
       "    }\n",
       "\n",
       "    .dataframe thead th {\n",
       "        text-align: right;\n",
       "    }\n",
       "</style>\n",
       "<table border=\"1\" class=\"dataframe\">\n",
       "  <thead>\n",
       "    <tr style=\"text-align: right;\">\n",
       "      <th></th>\n",
       "      <th>Year</th>\n",
       "      <th>Single Year of Age</th>\n",
       "      <th>Sex</th>\n",
       "      <th>UNIT</th>\n",
       "      <th>VALUE</th>\n",
       "      <th>Value_in_thousands</th>\n",
       "    </tr>\n",
       "  </thead>\n",
       "  <tbody>\n",
       "    <tr>\n",
       "      <th>5454</th>\n",
       "      <td>2003</td>\n",
       "      <td>All ages</td>\n",
       "      <td>Both sexes</td>\n",
       "      <td>Number</td>\n",
       "      <td>3979853</td>\n",
       "      <td>3979.9</td>\n",
       "    </tr>\n",
       "    <tr>\n",
       "      <th>5455</th>\n",
       "      <td>2003</td>\n",
       "      <td>All ages</td>\n",
       "      <td>Male</td>\n",
       "      <td>Number</td>\n",
       "      <td>1976914</td>\n",
       "      <td>1976.9</td>\n",
       "    </tr>\n",
       "    <tr>\n",
       "      <th>5456</th>\n",
       "      <td>2003</td>\n",
       "      <td>All ages</td>\n",
       "      <td>Female</td>\n",
       "      <td>Number</td>\n",
       "      <td>2002939</td>\n",
       "      <td>2002.9</td>\n",
       "    </tr>\n",
       "    <tr>\n",
       "      <th>5457</th>\n",
       "      <td>2003</td>\n",
       "      <td>Under 1 year</td>\n",
       "      <td>Both sexes</td>\n",
       "      <td>Number</td>\n",
       "      <td>60454</td>\n",
       "      <td>60.5</td>\n",
       "    </tr>\n",
       "    <tr>\n",
       "      <th>5458</th>\n",
       "      <td>2003</td>\n",
       "      <td>Under 1 year</td>\n",
       "      <td>Male</td>\n",
       "      <td>Number</td>\n",
       "      <td>31047</td>\n",
       "      <td>31.0</td>\n",
       "    </tr>\n",
       "  </tbody>\n",
       "</table>\n",
       "</div>"
      ],
      "text/plain": [
       "      Year Single Year of Age         Sex    UNIT    VALUE  Value_in_thousands\n",
       "5454  2003           All ages  Both sexes  Number  3979853              3979.9\n",
       "5455  2003           All ages        Male  Number  1976914              1976.9\n",
       "5456  2003           All ages      Female  Number  2002939              2002.9\n",
       "5457  2003       Under 1 year  Both sexes  Number    60454                60.5\n",
       "5458  2003       Under 1 year        Male  Number    31047                31.0"
      ]
     },
     "execution_count": 42,
     "metadata": {},
     "output_type": "execute_result"
    }
   ],
   "source": [
    "#confirming that we've filtered out the data\n",
    "population_last_10_years_df.head()"
   ]
  },
  {
   "cell_type": "code",
   "execution_count": 43,
   "metadata": {
    "colab": {
     "base_uri": "https://localhost:8080/"
    },
    "executionInfo": {
     "elapsed": 244,
     "status": "ok",
     "timestamp": 1696878523620,
     "user": {
      "displayName": "Maria Koleva",
      "userId": "15896521558550622314"
     },
     "user_tz": -60
    },
    "id": "6lVrfFzct5_C",
    "outputId": "3cd7e541-0ec0-44a4-e4f8-3933c343df91"
   },
   "outputs": [
    {
     "data": {
      "text/plain": [
       "array(['Both sexes', 'Male', 'Female'], dtype=object)"
      ]
     },
     "execution_count": 43,
     "metadata": {},
     "output_type": "execute_result"
    }
   ],
   "source": [
    "#checking all unique appearances in the Sex column\n",
    "population_last_10_years_df['Sex'].unique()"
   ]
  },
  {
   "cell_type": "code",
   "execution_count": 44,
   "metadata": {
    "colab": {
     "base_uri": "https://localhost:8080/"
    },
    "executionInfo": {
     "elapsed": 210,
     "status": "ok",
     "timestamp": 1696878698710,
     "user": {
      "displayName": "Maria Koleva",
      "userId": "15896521558550622314"
     },
     "user_tz": -60
    },
    "id": "5EkD4TvH2fGy",
    "outputId": "310fb7e1-3e24-4614-a6ec-befd9e9ba5af"
   },
   "outputs": [
    {
     "name": "stdout",
     "output_type": "stream",
     "text": [
      "          Sex      VALUE\n",
      "0  Both sexes  194842680\n",
      "1      Female   98156914\n",
      "2        Male   96685766\n"
     ]
    }
   ],
   "source": [
    "sex_totals = population_last_10_years_df.groupby('Sex')['VALUE'].sum().reset_index()\n",
    "\n",
    "print(sex_totals)"
   ]
  },
  {
   "cell_type": "code",
   "execution_count": 45,
   "metadata": {
    "colab": {
     "base_uri": "https://localhost:8080/"
    },
    "executionInfo": {
     "elapsed": 286,
     "status": "ok",
     "timestamp": 1696878528587,
     "user": {
      "displayName": "Maria Koleva",
      "userId": "15896521558550622314"
     },
     "user_tz": -60
    },
    "id": "ej6Kn5Dv1its",
    "outputId": "026c28cc-a89f-4fca-d67a-13fbd6a47a21"
   },
   "outputs": [
    {
     "name": "stdout",
     "output_type": "stream",
     "text": [
      "    Year         Sex     VALUE\n",
      "0   2003  Both sexes   7959706\n",
      "1   2003      Female   4005878\n",
      "2   2003        Male   3953828\n",
      "3   2004  Both sexes   8090376\n",
      "4   2004      Female   4066548\n",
      "..   ...         ...       ...\n",
      "58  2022      Female   5244024\n",
      "59  2022        Male   5123908\n",
      "60  2023  Both sexes  10563224\n",
      "61  2023      Female   5350884\n",
      "62  2023        Male   5212340\n",
      "\n",
      "[63 rows x 3 columns]\n"
     ]
    }
   ],
   "source": [
    "pivot_table = population_last_10_years_df.pivot_table(index=['Year', 'Sex'], values='VALUE', aggfunc='sum')\n",
    "\n",
    "# Reset index to make 'Year' and 'Sex' regular columns\n",
    "pivot_table.reset_index(inplace=True)\n",
    "\n",
    "print(pivot_table)"
   ]
  },
  {
   "cell_type": "code",
   "execution_count": 46,
   "metadata": {},
   "outputs": [
    {
     "data": {
      "image/png": "[encoded data removed]",
      "text/plain": [
       "<Figure size 1000x600 with 1 Axes>"
      ]
     },
     "metadata": {},
     "output_type": "display_data"
    }
   ],
   "source": [
    "filtered_pivot_table = population_last_10_years_df[population_last_10_years_df['Sex'] != 'Both sexes']\n",
    "\n",
    "pivot_table = filtered_pivot_table.pivot_table(index='Year', columns='Sex', values='VALUE', aggfunc='sum')\n",
    "\n",
    "# Step 4: Create a line graph using Seaborn\n",
    "plt.figure(figsize=(10, 6))  # Set the figure size\n",
    "sns.set(style='whitegrid')  # Set the style of the plot\n",
    "\n",
    "custom_palette = {'Male': '#87CEEB', 'Female': '#FFC0CB'}\n",
    "\n",
    "# Create the line plot\n",
    "sns.lineplot(data=pivot_table,palette = custom_palette, markers = True, dashes=False)\n",
    "\n",
    "# Set plot labels and title\n",
    "plt.xlabel('Year')\n",
    "plt.ylabel('Population in thousands')\n",
    "plt.title('Population over the years by sex')\n",
    "\n",
    "# Show the plot\n",
    "plt.legend(title='Sex')\n",
    "plt.show()"
   ]
  },
  {
   "cell_type": "markdown",
   "metadata": {},
   "source": [
    "In the graprh representation above we can cleary see that the population of Ireland both for male and female has been increasing for the last ten years which automatically means that the population in general is increasing, which can be seen in the graph below.\n",
    "\n",
    "Please keep in mind that those values are in thousands, which gives us a total of around 5.3 Million people in total for 2023. "
   ]
  },
  {
   "cell_type": "code",
   "execution_count": 47,
   "metadata": {},
   "outputs": [
    {
     "data": {
      "image/png": "[encoded data removed]",
      "text/plain": [
       "<Figure size 1000x600 with 1 Axes>"
      ]
     },
     "metadata": {},
     "output_type": "display_data"
    }
   ],
   "source": [
    "filtered_pivot_table = population_last_10_years_df[population_last_10_years_df['Sex'] != 'Both sexes']\n",
    "\n",
    "pivot_table = filtered_pivot_table.pivot_table(index='Year', columns='Sex', values='VALUE', aggfunc='sum')\n",
    "\n",
    "# Step 4: Create a line graph using Seaborn\n",
    "plt.figure(figsize=(10, 6))  # Set the figure size\n",
    "sns.set(style='whitegrid')  # Set the style of the plot\n",
    "\n",
    "custom_palette = {'Male': '#87CEEB', 'Female': '#FFC0CB'}\n",
    "\n",
    "# Create the line plot\n",
    "sns.lineplot(data=pivot_table,palette = custom_palette, markers = True, dashes=False)\n",
    "\n",
    "# Set plot labels and title\n",
    "plt.xlabel('Year')\n",
    "plt.ylabel('Population in thousands')\n",
    "plt.title('Population over the years by sex')\n",
    "\n",
    "tick_positions = range(int(pivot_table.index.min()), int(pivot_table.index.max()) + 1)\n",
    "plt.xticks(tick_positions, tick_positions, rotation=45)\n",
    "\n",
    "# Show the plot\n",
    "plt.legend(title='Sex')\n",
    "plt.show()\n"
   ]
  },
  {
   "cell_type": "code",
   "execution_count": 48,
   "metadata": {},
   "outputs": [
    {
     "data": {
      "image/png": "[encoded data removed]",
      "text/plain": [
       "<Figure size 1000x600 with 1 Axes>"
      ]
     },
     "metadata": {},
     "output_type": "display_data"
    }
   ],
   "source": [
    "filtered_pivot_table = population_last_10_years_df[population_last_10_years_df['Sex'] == 'Both sexes']\n",
    "\n",
    "pivot_table = filtered_pivot_table.pivot_table(index='Year', columns='Sex', values='VALUE', aggfunc='sum')\n",
    "\n",
    "# Step 4: Create a line graph using Seaborn\n",
    "plt.figure(figsize=(10, 6))  # Set the figure size\n",
    "sns.set(style='whitegrid')  # Set the style of the plot\n",
    "\n",
    "custom_palette = {'Both sexes': '#70c0b2'}\n",
    "\n",
    "# Create the line plot\n",
    "sns.lineplot(data=pivot_table, palette = custom_palette , markers = True, dashes=False)\n",
    "\n",
    "# Set plot labels and title\n",
    "plt.xlabel('Year')\n",
    "plt.ylabel('Population in Thousands')\n",
    "plt.title('Population')\n",
    "\n",
    "# Show the plot\n",
    "plt.legend(title='Sex')\n",
    "plt.show()"
   ]
  },
  {
   "cell_type": "code",
   "execution_count": null,
   "metadata": {},
   "outputs": [],
   "source": []
  }
 ],
 "metadata": {
  "colab": {
   "authorship_tag": "ABX9TyPpgaj8+PEJDDpug6PuG04a",
   "provenance": []
  },
  "kernelspec": {
   "display_name": "Python 3 (ipykernel)",
   "language": "python",
   "name": "python3"
  },
  "language_info": {
   "codemirror_mode": {
    "name": "ipython",
    "version": 3
   },
   "file_extension": ".py",
   "mimetype": "text/x-python",
   "name": "python",
   "nbconvert_exporter": "python",
   "pygments_lexer": "ipython3",
   "version": "3.11.6"
  }
 },
 "nbformat": 4,
 "nbformat_minor": 1
}
