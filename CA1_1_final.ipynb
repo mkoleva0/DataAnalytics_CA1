{
 "cells": [
  {
   "cell_type": "markdown",
   "metadata": {},
   "source": [
    "## Data Preparation and Initial Exploration"
   ]
  },
  {
   "cell_type": "markdown",
   "metadata": {},
   "source": [
    "### Importing libraries, installing packages and defining functions"
   ]
  },
  {
   "cell_type": "code",
   "execution_count": 283,
   "metadata": {},
   "outputs": [],
   "source": [
    "import pandas as pd\n",
    "import seaborn as sns\n",
    "import matplotlib.pyplot as plt\n",
    "import warnings\n",
    "\n",
    "from matplotlib.ticker import FuncFormatter\n",
    "\n",
    "warnings.filterwarnings('ignore')"
   ]
  },
  {
   "cell_type": "markdown",
   "metadata": {},
   "source": [
    "#### Packages installation"
   ]
  },
  {
   "cell_type": "code",
   "execution_count": 284,
   "metadata": {},
   "outputs": [],
   "source": [
    "#pip install pandas\n",
    "#pip install seaborn\n",
    "#pip install matplotlib\n",
    "#pip install warnings"
   ]
  },
  {
   "cell_type": "markdown",
   "metadata": {},
   "source": [
    "The function below allows us to format the values adding an 'M' that stands for millions or 'T' for thousands, for better visibility."
   ]
  },
  {
   "cell_type": "code",
   "execution_count": 285,
   "metadata": {},
   "outputs": [],
   "source": [
    "def millions_formatter(x, pos):\n",
    "    return f'{x / 1e6} M'\n",
    "\n",
    "def thousands_formatter(x, pos):\n",
    "    return f'{x / 1e3} K'\n",
    "\n",
    "def standard_decimal_notation_formatter(x):\n",
    "    return '{:.2f}'.format(x)"
   ]
  },
  {
   "cell_type": "markdown",
   "metadata": {},
   "source": [
    "### Load and import the datasets"
   ]
  },
  {
   "cell_type": "code",
   "execution_count": 286,
   "metadata": {},
   "outputs": [],
   "source": [
    "population_df = pd.read_csv('PEA11.20231013T111046.csv')\n",
    "migration_df = pd.read_csv('PEA18.20231016T141007.csv')"
   ]
  },
  {
   "cell_type": "markdown",
   "metadata": {},
   "source": [
    "Both files were downloaded from the Central Statistic Office and can be downloaded here - https://data.cso.ie/  \n",
    "The first data set I am going to use is the population estimates in April from 1926 to 2023.  \n",
    "The second data set is for the migration estimates from 1987 to 2023"
   ]
  },
  {
   "cell_type": "markdown",
   "metadata": {},
   "source": [
    "### Examine the structure and shape of the datasets"
   ]
  },
  {
   "cell_type": "markdown",
   "metadata": {},
   "source": [
    "#### Get the size of the dataset"
   ]
  },
  {
   "cell_type": "code",
   "execution_count": 287,
   "metadata": {},
   "outputs": [],
   "source": [
    "population_dataset_size = population_df.size\n",
    "migration_dataset_size = migration_df.size"
   ]
  },
  {
   "cell_type": "code",
   "execution_count": 288,
   "metadata": {},
   "outputs": [
    {
     "name": "stdout",
     "output_type": "stream",
     "text": [
      "There are 118170 entries in total across the whole population dataset\n",
      "There are 31968 entries in total across the whole migration dataset\n"
     ]
    }
   ],
   "source": [
    "print(\"There are\", population_dataset_size, \"entries in total across the whole population dataset\")\n",
    "print(\"There are\", migration_dataset_size, \"entries in total across the whole migration dataset\")"
   ]
  },
  {
   "cell_type": "markdown",
   "metadata": {},
   "source": [
    "#### Get the shape of the datasets"
   ]
  },
  {
   "cell_type": "code",
   "execution_count": 289,
   "metadata": {},
   "outputs": [
    {
     "name": "stdout",
     "output_type": "stream",
     "text": [
      "For the population dataset the number of rows is 11817, the number of columns is 10\n",
      "For the migration dataset the number of rows is 2664, the number of columns is 12\n"
     ]
    }
   ],
   "source": [
    "pop_rows, pop_columns = population_df.shape\n",
    "mig_rows, mig_columns = migration_df.shape\n",
    "\n",
    "print(f\"For the population dataset the number of rows is {pop_rows}, the number of columns is {pop_columns}\")\n",
    "print(f\"For the migration dataset the number of rows is {mig_rows}, the number of columns is {mig_columns}\")"
   ]
  },
  {
   "cell_type": "markdown",
   "metadata": {},
   "source": [
    "#### Sample data"
   ]
  },
  {
   "cell_type": "markdown",
   "metadata": {},
   "source": [
    "Displaying the first few rows of the data, to get a sense of what the data looks like"
   ]
  },
  {
   "cell_type": "code",
   "execution_count": 290,
   "metadata": {},
   "outputs": [
    {
     "name": "stdout",
     "output_type": "stream",
     "text": [
      "Population dataset\n"
     ]
    },
    {
     "data": {
      "text/html": [
       "<div>\n",
       "<style scoped>\n",
       "    .dataframe tbody tr th:only-of-type {\n",
       "        vertical-align: middle;\n",
       "    }\n",
       "\n",
       "    .dataframe tbody tr th {\n",
       "        vertical-align: top;\n",
       "    }\n",
       "\n",
       "    .dataframe thead th {\n",
       "        text-align: right;\n",
       "    }\n",
       "</style>\n",
       "<table border=\"1\" class=\"dataframe\">\n",
       "  <thead>\n",
       "    <tr style=\"text-align: right;\">\n",
       "      <th></th>\n",
       "      <th>STATISTIC</th>\n",
       "      <th>STATISTIC Label</th>\n",
       "      <th>TLIST(A1)</th>\n",
       "      <th>Year</th>\n",
       "      <th>C02076V03371</th>\n",
       "      <th>Single Year of Age</th>\n",
       "      <th>C02199V02655</th>\n",
       "      <th>Sex</th>\n",
       "      <th>UNIT</th>\n",
       "      <th>VALUE</th>\n",
       "    </tr>\n",
       "  </thead>\n",
       "  <tbody>\n",
       "    <tr>\n",
       "      <th>0</th>\n",
       "      <td>PEA11</td>\n",
       "      <td>Population estimates from 1926</td>\n",
       "      <td>1926</td>\n",
       "      <td>1926</td>\n",
       "      <td>-</td>\n",
       "      <td>All ages</td>\n",
       "      <td>-</td>\n",
       "      <td>Both sexes</td>\n",
       "      <td>Number</td>\n",
       "      <td>2971992</td>\n",
       "    </tr>\n",
       "    <tr>\n",
       "      <th>1</th>\n",
       "      <td>PEA11</td>\n",
       "      <td>Population estimates from 1926</td>\n",
       "      <td>1926</td>\n",
       "      <td>1926</td>\n",
       "      <td>-</td>\n",
       "      <td>All ages</td>\n",
       "      <td>1</td>\n",
       "      <td>Male</td>\n",
       "      <td>Number</td>\n",
       "      <td>1506889</td>\n",
       "    </tr>\n",
       "    <tr>\n",
       "      <th>2</th>\n",
       "      <td>PEA11</td>\n",
       "      <td>Population estimates from 1926</td>\n",
       "      <td>1926</td>\n",
       "      <td>1926</td>\n",
       "      <td>-</td>\n",
       "      <td>All ages</td>\n",
       "      <td>2</td>\n",
       "      <td>Female</td>\n",
       "      <td>Number</td>\n",
       "      <td>1465103</td>\n",
       "    </tr>\n",
       "    <tr>\n",
       "      <th>3</th>\n",
       "      <td>PEA11</td>\n",
       "      <td>Population estimates from 1926</td>\n",
       "      <td>1926</td>\n",
       "      <td>1926</td>\n",
       "      <td>200</td>\n",
       "      <td>Under 1 year</td>\n",
       "      <td>-</td>\n",
       "      <td>Both sexes</td>\n",
       "      <td>Number</td>\n",
       "      <td>55391</td>\n",
       "    </tr>\n",
       "    <tr>\n",
       "      <th>4</th>\n",
       "      <td>PEA11</td>\n",
       "      <td>Population estimates from 1926</td>\n",
       "      <td>1926</td>\n",
       "      <td>1926</td>\n",
       "      <td>200</td>\n",
       "      <td>Under 1 year</td>\n",
       "      <td>1</td>\n",
       "      <td>Male</td>\n",
       "      <td>Number</td>\n",
       "      <td>28084</td>\n",
       "    </tr>\n",
       "    <tr>\n",
       "      <th>5</th>\n",
       "      <td>PEA11</td>\n",
       "      <td>Population estimates from 1926</td>\n",
       "      <td>1926</td>\n",
       "      <td>1926</td>\n",
       "      <td>200</td>\n",
       "      <td>Under 1 year</td>\n",
       "      <td>2</td>\n",
       "      <td>Female</td>\n",
       "      <td>Number</td>\n",
       "      <td>27307</td>\n",
       "    </tr>\n",
       "    <tr>\n",
       "      <th>6</th>\n",
       "      <td>PEA11</td>\n",
       "      <td>Population estimates from 1926</td>\n",
       "      <td>1926</td>\n",
       "      <td>1926</td>\n",
       "      <td>001</td>\n",
       "      <td>1 year</td>\n",
       "      <td>-</td>\n",
       "      <td>Both sexes</td>\n",
       "      <td>Number</td>\n",
       "      <td>55876</td>\n",
       "    </tr>\n",
       "  </tbody>\n",
       "</table>\n",
       "</div>"
      ],
      "text/plain": [
       "  STATISTIC                 STATISTIC Label  TLIST(A1)  Year C02076V03371  \\\n",
       "0     PEA11  Population estimates from 1926       1926  1926            -   \n",
       "1     PEA11  Population estimates from 1926       1926  1926            -   \n",
       "2     PEA11  Population estimates from 1926       1926  1926            -   \n",
       "3     PEA11  Population estimates from 1926       1926  1926          200   \n",
       "4     PEA11  Population estimates from 1926       1926  1926          200   \n",
       "5     PEA11  Population estimates from 1926       1926  1926          200   \n",
       "6     PEA11  Population estimates from 1926       1926  1926          001   \n",
       "\n",
       "  Single Year of Age C02199V02655         Sex    UNIT    VALUE  \n",
       "0           All ages            -  Both sexes  Number  2971992  \n",
       "1           All ages            1        Male  Number  1506889  \n",
       "2           All ages            2      Female  Number  1465103  \n",
       "3       Under 1 year            -  Both sexes  Number    55391  \n",
       "4       Under 1 year            1        Male  Number    28084  \n",
       "5       Under 1 year            2      Female  Number    27307  \n",
       "6             1 year            -  Both sexes  Number    55876  "
      ]
     },
     "execution_count": 290,
     "metadata": {},
     "output_type": "execute_result"
    }
   ],
   "source": [
    "print(\"Population dataset\")\n",
    "population_df.head(7)"
   ]
  },
  {
   "cell_type": "code",
   "execution_count": 291,
   "metadata": {},
   "outputs": [
    {
     "name": "stdout",
     "output_type": "stream",
     "text": [
      "Migration dataset\n"
     ]
    },
    {
     "data": {
      "text/html": [
       "<div>\n",
       "<style scoped>\n",
       "    .dataframe tbody tr th:only-of-type {\n",
       "        vertical-align: middle;\n",
       "    }\n",
       "\n",
       "    .dataframe tbody tr th {\n",
       "        vertical-align: top;\n",
       "    }\n",
       "\n",
       "    .dataframe thead th {\n",
       "        text-align: right;\n",
       "    }\n",
       "</style>\n",
       "<table border=\"1\" class=\"dataframe\">\n",
       "  <thead>\n",
       "    <tr style=\"text-align: right;\">\n",
       "      <th></th>\n",
       "      <th>STATISTIC</th>\n",
       "      <th>STATISTIC Label</th>\n",
       "      <th>TLIST(A1)</th>\n",
       "      <th>Year</th>\n",
       "      <th>C02719V03286</th>\n",
       "      <th>Country</th>\n",
       "      <th>C02199V02655</th>\n",
       "      <th>Sex</th>\n",
       "      <th>C02542V03077</th>\n",
       "      <th>Origin or Destination</th>\n",
       "      <th>UNIT</th>\n",
       "      <th>VALUE</th>\n",
       "    </tr>\n",
       "  </thead>\n",
       "  <tbody>\n",
       "    <tr>\n",
       "      <th>0</th>\n",
       "      <td>PEA18</td>\n",
       "      <td>Estimated Migration (Persons in April)</td>\n",
       "      <td>1987</td>\n",
       "      <td>1987</td>\n",
       "      <td>GB1</td>\n",
       "      <td>United Kingdom (1)</td>\n",
       "      <td>-</td>\n",
       "      <td>Both sexes</td>\n",
       "      <td>1</td>\n",
       "      <td>Net migration</td>\n",
       "      <td>Thousand</td>\n",
       "      <td>-13.7</td>\n",
       "    </tr>\n",
       "    <tr>\n",
       "      <th>1</th>\n",
       "      <td>PEA18</td>\n",
       "      <td>Estimated Migration (Persons in April)</td>\n",
       "      <td>1987</td>\n",
       "      <td>1987</td>\n",
       "      <td>GB1</td>\n",
       "      <td>United Kingdom (1)</td>\n",
       "      <td>-</td>\n",
       "      <td>Both sexes</td>\n",
       "      <td>4</td>\n",
       "      <td>Emigrants: All destinations</td>\n",
       "      <td>Thousand</td>\n",
       "      <td>21.8</td>\n",
       "    </tr>\n",
       "    <tr>\n",
       "      <th>2</th>\n",
       "      <td>PEA18</td>\n",
       "      <td>Estimated Migration (Persons in April)</td>\n",
       "      <td>1987</td>\n",
       "      <td>1987</td>\n",
       "      <td>GB1</td>\n",
       "      <td>United Kingdom (1)</td>\n",
       "      <td>-</td>\n",
       "      <td>Both sexes</td>\n",
       "      <td>5</td>\n",
       "      <td>Immigrants: All origins</td>\n",
       "      <td>Thousand</td>\n",
       "      <td>8.1</td>\n",
       "    </tr>\n",
       "    <tr>\n",
       "      <th>3</th>\n",
       "      <td>PEA18</td>\n",
       "      <td>Estimated Migration (Persons in April)</td>\n",
       "      <td>1987</td>\n",
       "      <td>1987</td>\n",
       "      <td>GB1</td>\n",
       "      <td>United Kingdom (1)</td>\n",
       "      <td>1</td>\n",
       "      <td>Male</td>\n",
       "      <td>1</td>\n",
       "      <td>Net migration</td>\n",
       "      <td>Thousand</td>\n",
       "      <td>-9.0</td>\n",
       "    </tr>\n",
       "    <tr>\n",
       "      <th>4</th>\n",
       "      <td>PEA18</td>\n",
       "      <td>Estimated Migration (Persons in April)</td>\n",
       "      <td>1987</td>\n",
       "      <td>1987</td>\n",
       "      <td>GB1</td>\n",
       "      <td>United Kingdom (1)</td>\n",
       "      <td>1</td>\n",
       "      <td>Male</td>\n",
       "      <td>4</td>\n",
       "      <td>Emigrants: All destinations</td>\n",
       "      <td>Thousand</td>\n",
       "      <td>13.1</td>\n",
       "    </tr>\n",
       "    <tr>\n",
       "      <th>5</th>\n",
       "      <td>PEA18</td>\n",
       "      <td>Estimated Migration (Persons in April)</td>\n",
       "      <td>1987</td>\n",
       "      <td>1987</td>\n",
       "      <td>GB1</td>\n",
       "      <td>United Kingdom (1)</td>\n",
       "      <td>1</td>\n",
       "      <td>Male</td>\n",
       "      <td>5</td>\n",
       "      <td>Immigrants: All origins</td>\n",
       "      <td>Thousand</td>\n",
       "      <td>4.1</td>\n",
       "    </tr>\n",
       "    <tr>\n",
       "      <th>6</th>\n",
       "      <td>PEA18</td>\n",
       "      <td>Estimated Migration (Persons in April)</td>\n",
       "      <td>1987</td>\n",
       "      <td>1987</td>\n",
       "      <td>GB1</td>\n",
       "      <td>United Kingdom (1)</td>\n",
       "      <td>2</td>\n",
       "      <td>Female</td>\n",
       "      <td>1</td>\n",
       "      <td>Net migration</td>\n",
       "      <td>Thousand</td>\n",
       "      <td>-4.7</td>\n",
       "    </tr>\n",
       "  </tbody>\n",
       "</table>\n",
       "</div>"
      ],
      "text/plain": [
       "  STATISTIC                         STATISTIC Label  TLIST(A1)  Year  \\\n",
       "0     PEA18  Estimated Migration (Persons in April)       1987  1987   \n",
       "1     PEA18  Estimated Migration (Persons in April)       1987  1987   \n",
       "2     PEA18  Estimated Migration (Persons in April)       1987  1987   \n",
       "3     PEA18  Estimated Migration (Persons in April)       1987  1987   \n",
       "4     PEA18  Estimated Migration (Persons in April)       1987  1987   \n",
       "5     PEA18  Estimated Migration (Persons in April)       1987  1987   \n",
       "6     PEA18  Estimated Migration (Persons in April)       1987  1987   \n",
       "\n",
       "  C02719V03286             Country C02199V02655         Sex  C02542V03077  \\\n",
       "0          GB1  United Kingdom (1)            -  Both sexes             1   \n",
       "1          GB1  United Kingdom (1)            -  Both sexes             4   \n",
       "2          GB1  United Kingdom (1)            -  Both sexes             5   \n",
       "3          GB1  United Kingdom (1)            1        Male             1   \n",
       "4          GB1  United Kingdom (1)            1        Male             4   \n",
       "5          GB1  United Kingdom (1)            1        Male             5   \n",
       "6          GB1  United Kingdom (1)            2      Female             1   \n",
       "\n",
       "         Origin or Destination      UNIT  VALUE  \n",
       "0                Net migration  Thousand  -13.7  \n",
       "1  Emigrants: All destinations  Thousand   21.8  \n",
       "2      Immigrants: All origins  Thousand    8.1  \n",
       "3                Net migration  Thousand   -9.0  \n",
       "4  Emigrants: All destinations  Thousand   13.1  \n",
       "5      Immigrants: All origins  Thousand    4.1  \n",
       "6                Net migration  Thousand   -4.7  "
      ]
     },
     "execution_count": 291,
     "metadata": {},
     "output_type": "execute_result"
    }
   ],
   "source": [
    "print(\"Migration dataset\")\n",
    "migration_df.head(7)"
   ]
  },
  {
   "cell_type": "markdown",
   "metadata": {},
   "source": [
    "#### Data types and info"
   ]
  },
  {
   "cell_type": "code",
   "execution_count": 292,
   "metadata": {},
   "outputs": [
    {
     "name": "stdout",
     "output_type": "stream",
     "text": [
      "Population dataset info:\n",
      "\n",
      "<class 'pandas.core.frame.DataFrame'>\n",
      "RangeIndex: 11817 entries, 0 to 11816\n",
      "Data columns (total 10 columns):\n",
      " #   Column              Non-Null Count  Dtype \n",
      "---  ------              --------------  ----- \n",
      " 0   STATISTIC           11817 non-null  object\n",
      " 1   STATISTIC Label     11817 non-null  object\n",
      " 2   TLIST(A1)           11817 non-null  int64 \n",
      " 3   Year                11817 non-null  int64 \n",
      " 4   C02076V03371        11817 non-null  object\n",
      " 5   Single Year of Age  11817 non-null  object\n",
      " 6   C02199V02655        11817 non-null  object\n",
      " 7   Sex                 11817 non-null  object\n",
      " 8   UNIT                11817 non-null  object\n",
      " 9   VALUE               11817 non-null  int64 \n",
      "dtypes: int64(3), object(7)\n",
      "memory usage: 923.3+ KB\n"
     ]
    }
   ],
   "source": [
    "print(f\"Population dataset info:\")\n",
    "print()\n",
    "population_df.info()"
   ]
  },
  {
   "cell_type": "markdown",
   "metadata": {},
   "source": [
    "Most of the types are objects, which later on we will convert to categories."
   ]
  },
  {
   "cell_type": "code",
   "execution_count": 293,
   "metadata": {},
   "outputs": [
    {
     "name": "stdout",
     "output_type": "stream",
     "text": [
      "Migration dataset info:\n",
      "\n",
      "<class 'pandas.core.frame.DataFrame'>\n",
      "RangeIndex: 2664 entries, 0 to 2663\n",
      "Data columns (total 12 columns):\n",
      " #   Column                 Non-Null Count  Dtype  \n",
      "---  ------                 --------------  -----  \n",
      " 0   STATISTIC              2664 non-null   object \n",
      " 1   STATISTIC Label        2664 non-null   object \n",
      " 2   TLIST(A1)              2664 non-null   int64  \n",
      " 3   Year                   2664 non-null   int64  \n",
      " 4   C02719V03286           2664 non-null   object \n",
      " 5   Country                2664 non-null   object \n",
      " 6   C02199V02655           2664 non-null   object \n",
      " 7   Sex                    2664 non-null   object \n",
      " 8   C02542V03077           2664 non-null   int64  \n",
      " 9   Origin or Destination  2664 non-null   object \n",
      " 10  UNIT                   2664 non-null   object \n",
      " 11  VALUE                  2104 non-null   float64\n",
      "dtypes: float64(1), int64(3), object(8)\n",
      "memory usage: 249.9+ KB\n"
     ]
    }
   ],
   "source": [
    "print(\"Migration dataset info:\")\n",
    "print()\n",
    "migration_df.info()"
   ]
  },
  {
   "cell_type": "markdown",
   "metadata": {},
   "source": [
    "#### Column names"
   ]
  },
  {
   "cell_type": "code",
   "execution_count": 294,
   "metadata": {},
   "outputs": [],
   "source": [
    "population_column_names = population_df.columns\n",
    "migration_column_names = migration_df.columns"
   ]
  },
  {
   "cell_type": "code",
   "execution_count": 295,
   "metadata": {},
   "outputs": [
    {
     "name": "stdout",
     "output_type": "stream",
     "text": [
      "Population dataset column names: ['STATISTIC', 'STATISTIC Label', 'TLIST(A1)', 'Year', 'C02076V03371', 'Single Year of Age', 'C02199V02655', 'Sex', 'UNIT', 'VALUE']\n",
      "\n",
      "Migration dataset column names: ['STATISTIC', 'STATISTIC Label', 'TLIST(A1)', 'Year', 'C02719V03286', 'Country', 'C02199V02655', 'Sex', 'C02542V03077', 'Origin or Destination', 'UNIT', 'VALUE']\n"
     ]
    }
   ],
   "source": [
    "print(\"Population dataset column names:\", list(population_column_names))\n",
    "print()\n",
    "print(\"Migration dataset column names:\", list(migration_column_names))"
   ]
  },
  {
   "cell_type": "markdown",
   "metadata": {},
   "source": [
    "#### Descriptive statistics"
   ]
  },
  {
   "cell_type": "markdown",
   "metadata": {},
   "source": [
    "Obtaining descriptive statistics for numerical columns, including count, mean, standard deviation, minimum, and maximum"
   ]
  },
  {
   "cell_type": "code",
   "execution_count": 296,
   "metadata": {},
   "outputs": [],
   "source": [
    "population_summary = population_df.describe()\n",
    "migration_summary = migration_df.describe()"
   ]
  },
  {
   "cell_type": "code",
   "execution_count": 297,
   "metadata": {},
   "outputs": [
    {
     "data": {
      "text/html": [
       "<div>\n",
       "<style scoped>\n",
       "    .dataframe tbody tr th:only-of-type {\n",
       "        vertical-align: middle;\n",
       "    }\n",
       "\n",
       "    .dataframe tbody tr th {\n",
       "        vertical-align: top;\n",
       "    }\n",
       "\n",
       "    .dataframe thead th {\n",
       "        text-align: right;\n",
       "    }\n",
       "</style>\n",
       "<table border=\"1\" class=\"dataframe\">\n",
       "  <thead>\n",
       "    <tr style=\"text-align: right;\">\n",
       "      <th></th>\n",
       "      <th>TLIST(A1)</th>\n",
       "      <th>Year</th>\n",
       "      <th>VALUE</th>\n",
       "    </tr>\n",
       "  </thead>\n",
       "  <tbody>\n",
       "    <tr>\n",
       "      <th>count</th>\n",
       "      <td>11817.000000</td>\n",
       "      <td>11817.000000</td>\n",
       "      <td>1.181700e+04</td>\n",
       "    </tr>\n",
       "    <tr>\n",
       "      <th>mean</th>\n",
       "      <td>1996.410256</td>\n",
       "      <td>1996.410256</td>\n",
       "      <td>5.352461e+04</td>\n",
       "    </tr>\n",
       "    <tr>\n",
       "      <th>std</th>\n",
       "      <td>24.463165</td>\n",
       "      <td>24.463165</td>\n",
       "      <td>2.867754e+05</td>\n",
       "    </tr>\n",
       "    <tr>\n",
       "      <th>min</th>\n",
       "      <td>1926.000000</td>\n",
       "      <td>1926.000000</td>\n",
       "      <td>6.000000e+00</td>\n",
       "    </tr>\n",
       "    <tr>\n",
       "      <th>25%</th>\n",
       "      <td>1986.000000</td>\n",
       "      <td>1986.000000</td>\n",
       "      <td>1.242700e+04</td>\n",
       "    </tr>\n",
       "    <tr>\n",
       "      <th>50%</th>\n",
       "      <td>2004.000000</td>\n",
       "      <td>2004.000000</td>\n",
       "      <td>2.667500e+04</td>\n",
       "    </tr>\n",
       "    <tr>\n",
       "      <th>75%</th>\n",
       "      <td>2014.000000</td>\n",
       "      <td>2014.000000</td>\n",
       "      <td>3.557700e+04</td>\n",
       "    </tr>\n",
       "    <tr>\n",
       "      <th>max</th>\n",
       "      <td>2023.000000</td>\n",
       "      <td>2023.000000</td>\n",
       "      <td>5.281612e+06</td>\n",
       "    </tr>\n",
       "  </tbody>\n",
       "</table>\n",
       "</div>"
      ],
      "text/plain": [
       "          TLIST(A1)          Year         VALUE\n",
       "count  11817.000000  11817.000000  1.181700e+04\n",
       "mean    1996.410256   1996.410256  5.352461e+04\n",
       "std       24.463165     24.463165  2.867754e+05\n",
       "min     1926.000000   1926.000000  6.000000e+00\n",
       "25%     1986.000000   1986.000000  1.242700e+04\n",
       "50%     2004.000000   2004.000000  2.667500e+04\n",
       "75%     2014.000000   2014.000000  3.557700e+04\n",
       "max     2023.000000   2023.000000  5.281612e+06"
      ]
     },
     "execution_count": 297,
     "metadata": {},
     "output_type": "execute_result"
    }
   ],
   "source": [
    "population_summary"
   ]
  },
  {
   "cell_type": "code",
   "execution_count": 298,
   "metadata": {},
   "outputs": [
    {
     "data": {
      "text/html": [
       "<div>\n",
       "<style scoped>\n",
       "    .dataframe tbody tr th:only-of-type {\n",
       "        vertical-align: middle;\n",
       "    }\n",
       "\n",
       "    .dataframe tbody tr th {\n",
       "        vertical-align: top;\n",
       "    }\n",
       "\n",
       "    .dataframe thead th {\n",
       "        text-align: right;\n",
       "    }\n",
       "</style>\n",
       "<table border=\"1\" class=\"dataframe\">\n",
       "  <thead>\n",
       "    <tr style=\"text-align: right;\">\n",
       "      <th></th>\n",
       "      <th>TLIST(A1)</th>\n",
       "      <th>Year</th>\n",
       "      <th>C02542V03077</th>\n",
       "      <th>VALUE</th>\n",
       "    </tr>\n",
       "  </thead>\n",
       "  <tbody>\n",
       "    <tr>\n",
       "      <th>count</th>\n",
       "      <td>2664.000000</td>\n",
       "      <td>2664.000000</td>\n",
       "      <td>2664.000000</td>\n",
       "      <td>2104.000000</td>\n",
       "    </tr>\n",
       "    <tr>\n",
       "      <th>mean</th>\n",
       "      <td>2005.000000</td>\n",
       "      <td>2005.000000</td>\n",
       "      <td>3.333333</td>\n",
       "      <td>8.943726</td>\n",
       "    </tr>\n",
       "    <tr>\n",
       "      <th>std</th>\n",
       "      <td>10.679083</td>\n",
       "      <td>10.679083</td>\n",
       "      <td>1.699992</td>\n",
       "      <td>15.513703</td>\n",
       "    </tr>\n",
       "    <tr>\n",
       "      <th>min</th>\n",
       "      <td>1987.000000</td>\n",
       "      <td>1987.000000</td>\n",
       "      <td>1.000000</td>\n",
       "      <td>-43.900000</td>\n",
       "    </tr>\n",
       "    <tr>\n",
       "      <th>25%</th>\n",
       "      <td>1996.000000</td>\n",
       "      <td>1996.000000</td>\n",
       "      <td>1.000000</td>\n",
       "      <td>1.800000</td>\n",
       "    </tr>\n",
       "    <tr>\n",
       "      <th>50%</th>\n",
       "      <td>2005.000000</td>\n",
       "      <td>2005.000000</td>\n",
       "      <td>4.000000</td>\n",
       "      <td>4.700000</td>\n",
       "    </tr>\n",
       "    <tr>\n",
       "      <th>75%</th>\n",
       "      <td>2014.000000</td>\n",
       "      <td>2014.000000</td>\n",
       "      <td>5.000000</td>\n",
       "      <td>10.200000</td>\n",
       "    </tr>\n",
       "    <tr>\n",
       "      <th>max</th>\n",
       "      <td>2023.000000</td>\n",
       "      <td>2023.000000</td>\n",
       "      <td>5.000000</td>\n",
       "      <td>151.100000</td>\n",
       "    </tr>\n",
       "  </tbody>\n",
       "</table>\n",
       "</div>"
      ],
      "text/plain": [
       "         TLIST(A1)         Year  C02542V03077        VALUE\n",
       "count  2664.000000  2664.000000   2664.000000  2104.000000\n",
       "mean   2005.000000  2005.000000      3.333333     8.943726\n",
       "std      10.679083    10.679083      1.699992    15.513703\n",
       "min    1987.000000  1987.000000      1.000000   -43.900000\n",
       "25%    1996.000000  1996.000000      1.000000     1.800000\n",
       "50%    2005.000000  2005.000000      4.000000     4.700000\n",
       "75%    2014.000000  2014.000000      5.000000    10.200000\n",
       "max    2023.000000  2023.000000      5.000000   151.100000"
      ]
     },
     "execution_count": 298,
     "metadata": {},
     "output_type": "execute_result"
    }
   ],
   "source": [
    "migration_summary"
   ]
  },
  {
   "cell_type": "markdown",
   "metadata": {},
   "source": [
    "### Perform basic data cleaning and data type conversion."
   ]
  },
  {
   "cell_type": "markdown",
   "metadata": {},
   "source": [
    "#### Checking for Duplicates"
   ]
  },
  {
   "cell_type": "code",
   "execution_count": 299,
   "metadata": {},
   "outputs": [
    {
     "name": "stdout",
     "output_type": "stream",
     "text": [
      "Number of duplicate rows in the population dataset is 0\n"
     ]
    }
   ],
   "source": [
    "population_duplicates = population_df.duplicated().sum()\n",
    "print(f\"Number of duplicate rows in the population dataset is {population_duplicates}\")\n"
   ]
  },
  {
   "cell_type": "code",
   "execution_count": 300,
   "metadata": {},
   "outputs": [
    {
     "name": "stdout",
     "output_type": "stream",
     "text": [
      "Number of duplicate rows in the migration dataset is 0\n"
     ]
    }
   ],
   "source": [
    "migration_duplicates = migration_df.duplicated().sum()\n",
    "print(f\"Number of duplicate rows in the migration dataset is {migration_duplicates}\")"
   ]
  },
  {
   "cell_type": "markdown",
   "metadata": {},
   "source": [
    "#### Handling Missing Values"
   ]
  },
  {
   "cell_type": "markdown",
   "metadata": {},
   "source": [
    "##### Population dataset"
   ]
  },
  {
   "cell_type": "code",
   "execution_count": 301,
   "metadata": {},
   "outputs": [
    {
     "data": {
      "text/html": [
       "<div>\n",
       "<style scoped>\n",
       "    .dataframe tbody tr th:only-of-type {\n",
       "        vertical-align: middle;\n",
       "    }\n",
       "\n",
       "    .dataframe tbody tr th {\n",
       "        vertical-align: top;\n",
       "    }\n",
       "\n",
       "    .dataframe thead th {\n",
       "        text-align: right;\n",
       "    }\n",
       "</style>\n",
       "<table border=\"1\" class=\"dataframe\">\n",
       "  <thead>\n",
       "    <tr style=\"text-align: right;\">\n",
       "      <th></th>\n",
       "      <th>STATISTIC</th>\n",
       "      <th>STATISTIC Label</th>\n",
       "      <th>TLIST(A1)</th>\n",
       "      <th>Year</th>\n",
       "      <th>C02076V03371</th>\n",
       "      <th>Single Year of Age</th>\n",
       "      <th>C02199V02655</th>\n",
       "      <th>Sex</th>\n",
       "      <th>UNIT</th>\n",
       "      <th>VALUE</th>\n",
       "    </tr>\n",
       "  </thead>\n",
       "  <tbody>\n",
       "    <tr>\n",
       "      <th>0</th>\n",
       "      <td>False</td>\n",
       "      <td>False</td>\n",
       "      <td>False</td>\n",
       "      <td>False</td>\n",
       "      <td>False</td>\n",
       "      <td>False</td>\n",
       "      <td>False</td>\n",
       "      <td>False</td>\n",
       "      <td>False</td>\n",
       "      <td>False</td>\n",
       "    </tr>\n",
       "    <tr>\n",
       "      <th>1</th>\n",
       "      <td>False</td>\n",
       "      <td>False</td>\n",
       "      <td>False</td>\n",
       "      <td>False</td>\n",
       "      <td>False</td>\n",
       "      <td>False</td>\n",
       "      <td>False</td>\n",
       "      <td>False</td>\n",
       "      <td>False</td>\n",
       "      <td>False</td>\n",
       "    </tr>\n",
       "    <tr>\n",
       "      <th>2</th>\n",
       "      <td>False</td>\n",
       "      <td>False</td>\n",
       "      <td>False</td>\n",
       "      <td>False</td>\n",
       "      <td>False</td>\n",
       "      <td>False</td>\n",
       "      <td>False</td>\n",
       "      <td>False</td>\n",
       "      <td>False</td>\n",
       "      <td>False</td>\n",
       "    </tr>\n",
       "    <tr>\n",
       "      <th>3</th>\n",
       "      <td>False</td>\n",
       "      <td>False</td>\n",
       "      <td>False</td>\n",
       "      <td>False</td>\n",
       "      <td>False</td>\n",
       "      <td>False</td>\n",
       "      <td>False</td>\n",
       "      <td>False</td>\n",
       "      <td>False</td>\n",
       "      <td>False</td>\n",
       "    </tr>\n",
       "    <tr>\n",
       "      <th>4</th>\n",
       "      <td>False</td>\n",
       "      <td>False</td>\n",
       "      <td>False</td>\n",
       "      <td>False</td>\n",
       "      <td>False</td>\n",
       "      <td>False</td>\n",
       "      <td>False</td>\n",
       "      <td>False</td>\n",
       "      <td>False</td>\n",
       "      <td>False</td>\n",
       "    </tr>\n",
       "    <tr>\n",
       "      <th>...</th>\n",
       "      <td>...</td>\n",
       "      <td>...</td>\n",
       "      <td>...</td>\n",
       "      <td>...</td>\n",
       "      <td>...</td>\n",
       "      <td>...</td>\n",
       "      <td>...</td>\n",
       "      <td>...</td>\n",
       "      <td>...</td>\n",
       "      <td>...</td>\n",
       "    </tr>\n",
       "    <tr>\n",
       "      <th>11812</th>\n",
       "      <td>False</td>\n",
       "      <td>False</td>\n",
       "      <td>False</td>\n",
       "      <td>False</td>\n",
       "      <td>False</td>\n",
       "      <td>False</td>\n",
       "      <td>False</td>\n",
       "      <td>False</td>\n",
       "      <td>False</td>\n",
       "      <td>False</td>\n",
       "    </tr>\n",
       "    <tr>\n",
       "      <th>11813</th>\n",
       "      <td>False</td>\n",
       "      <td>False</td>\n",
       "      <td>False</td>\n",
       "      <td>False</td>\n",
       "      <td>False</td>\n",
       "      <td>False</td>\n",
       "      <td>False</td>\n",
       "      <td>False</td>\n",
       "      <td>False</td>\n",
       "      <td>False</td>\n",
       "    </tr>\n",
       "    <tr>\n",
       "      <th>11814</th>\n",
       "      <td>False</td>\n",
       "      <td>False</td>\n",
       "      <td>False</td>\n",
       "      <td>False</td>\n",
       "      <td>False</td>\n",
       "      <td>False</td>\n",
       "      <td>False</td>\n",
       "      <td>False</td>\n",
       "      <td>False</td>\n",
       "      <td>False</td>\n",
       "    </tr>\n",
       "    <tr>\n",
       "      <th>11815</th>\n",
       "      <td>False</td>\n",
       "      <td>False</td>\n",
       "      <td>False</td>\n",
       "      <td>False</td>\n",
       "      <td>False</td>\n",
       "      <td>False</td>\n",
       "      <td>False</td>\n",
       "      <td>False</td>\n",
       "      <td>False</td>\n",
       "      <td>False</td>\n",
       "    </tr>\n",
       "    <tr>\n",
       "      <th>11816</th>\n",
       "      <td>False</td>\n",
       "      <td>False</td>\n",
       "      <td>False</td>\n",
       "      <td>False</td>\n",
       "      <td>False</td>\n",
       "      <td>False</td>\n",
       "      <td>False</td>\n",
       "      <td>False</td>\n",
       "      <td>False</td>\n",
       "      <td>False</td>\n",
       "    </tr>\n",
       "  </tbody>\n",
       "</table>\n",
       "<p>11817 rows × 10 columns</p>\n",
       "</div>"
      ],
      "text/plain": [
       "       STATISTIC  STATISTIC Label  TLIST(A1)   Year  C02076V03371  \\\n",
       "0          False            False      False  False         False   \n",
       "1          False            False      False  False         False   \n",
       "2          False            False      False  False         False   \n",
       "3          False            False      False  False         False   \n",
       "4          False            False      False  False         False   \n",
       "...          ...              ...        ...    ...           ...   \n",
       "11812      False            False      False  False         False   \n",
       "11813      False            False      False  False         False   \n",
       "11814      False            False      False  False         False   \n",
       "11815      False            False      False  False         False   \n",
       "11816      False            False      False  False         False   \n",
       "\n",
       "       Single Year of Age  C02199V02655    Sex   UNIT  VALUE  \n",
       "0                   False         False  False  False  False  \n",
       "1                   False         False  False  False  False  \n",
       "2                   False         False  False  False  False  \n",
       "3                   False         False  False  False  False  \n",
       "4                   False         False  False  False  False  \n",
       "...                   ...           ...    ...    ...    ...  \n",
       "11812               False         False  False  False  False  \n",
       "11813               False         False  False  False  False  \n",
       "11814               False         False  False  False  False  \n",
       "11815               False         False  False  False  False  \n",
       "11816               False         False  False  False  False  \n",
       "\n",
       "[11817 rows x 10 columns]"
      ]
     },
     "execution_count": 301,
     "metadata": {},
     "output_type": "execute_result"
    }
   ],
   "source": [
    "population_missing_data = population_df.isna()\n",
    "population_missing_data"
   ]
  },
  {
   "cell_type": "markdown",
   "metadata": {},
   "source": [
    "##### Migration dataset"
   ]
  },
  {
   "cell_type": "code",
   "execution_count": 302,
   "metadata": {},
   "outputs": [
    {
     "data": {
      "text/html": [
       "<div>\n",
       "<style scoped>\n",
       "    .dataframe tbody tr th:only-of-type {\n",
       "        vertical-align: middle;\n",
       "    }\n",
       "\n",
       "    .dataframe tbody tr th {\n",
       "        vertical-align: top;\n",
       "    }\n",
       "\n",
       "    .dataframe thead th {\n",
       "        text-align: right;\n",
       "    }\n",
       "</style>\n",
       "<table border=\"1\" class=\"dataframe\">\n",
       "  <thead>\n",
       "    <tr style=\"text-align: right;\">\n",
       "      <th></th>\n",
       "      <th>STATISTIC</th>\n",
       "      <th>STATISTIC Label</th>\n",
       "      <th>TLIST(A1)</th>\n",
       "      <th>Year</th>\n",
       "      <th>C02719V03286</th>\n",
       "      <th>Country</th>\n",
       "      <th>C02199V02655</th>\n",
       "      <th>Sex</th>\n",
       "      <th>C02542V03077</th>\n",
       "      <th>Origin or Destination</th>\n",
       "      <th>UNIT</th>\n",
       "      <th>VALUE</th>\n",
       "    </tr>\n",
       "  </thead>\n",
       "  <tbody>\n",
       "    <tr>\n",
       "      <th>0</th>\n",
       "      <td>False</td>\n",
       "      <td>False</td>\n",
       "      <td>False</td>\n",
       "      <td>False</td>\n",
       "      <td>False</td>\n",
       "      <td>False</td>\n",
       "      <td>False</td>\n",
       "      <td>False</td>\n",
       "      <td>False</td>\n",
       "      <td>False</td>\n",
       "      <td>False</td>\n",
       "      <td>False</td>\n",
       "    </tr>\n",
       "    <tr>\n",
       "      <th>1</th>\n",
       "      <td>False</td>\n",
       "      <td>False</td>\n",
       "      <td>False</td>\n",
       "      <td>False</td>\n",
       "      <td>False</td>\n",
       "      <td>False</td>\n",
       "      <td>False</td>\n",
       "      <td>False</td>\n",
       "      <td>False</td>\n",
       "      <td>False</td>\n",
       "      <td>False</td>\n",
       "      <td>False</td>\n",
       "    </tr>\n",
       "    <tr>\n",
       "      <th>2</th>\n",
       "      <td>False</td>\n",
       "      <td>False</td>\n",
       "      <td>False</td>\n",
       "      <td>False</td>\n",
       "      <td>False</td>\n",
       "      <td>False</td>\n",
       "      <td>False</td>\n",
       "      <td>False</td>\n",
       "      <td>False</td>\n",
       "      <td>False</td>\n",
       "      <td>False</td>\n",
       "      <td>False</td>\n",
       "    </tr>\n",
       "    <tr>\n",
       "      <th>3</th>\n",
       "      <td>False</td>\n",
       "      <td>False</td>\n",
       "      <td>False</td>\n",
       "      <td>False</td>\n",
       "      <td>False</td>\n",
       "      <td>False</td>\n",
       "      <td>False</td>\n",
       "      <td>False</td>\n",
       "      <td>False</td>\n",
       "      <td>False</td>\n",
       "      <td>False</td>\n",
       "      <td>False</td>\n",
       "    </tr>\n",
       "    <tr>\n",
       "      <th>4</th>\n",
       "      <td>False</td>\n",
       "      <td>False</td>\n",
       "      <td>False</td>\n",
       "      <td>False</td>\n",
       "      <td>False</td>\n",
       "      <td>False</td>\n",
       "      <td>False</td>\n",
       "      <td>False</td>\n",
       "      <td>False</td>\n",
       "      <td>False</td>\n",
       "      <td>False</td>\n",
       "      <td>False</td>\n",
       "    </tr>\n",
       "    <tr>\n",
       "      <th>...</th>\n",
       "      <td>...</td>\n",
       "      <td>...</td>\n",
       "      <td>...</td>\n",
       "      <td>...</td>\n",
       "      <td>...</td>\n",
       "      <td>...</td>\n",
       "      <td>...</td>\n",
       "      <td>...</td>\n",
       "      <td>...</td>\n",
       "      <td>...</td>\n",
       "      <td>...</td>\n",
       "      <td>...</td>\n",
       "    </tr>\n",
       "    <tr>\n",
       "      <th>2659</th>\n",
       "      <td>False</td>\n",
       "      <td>False</td>\n",
       "      <td>False</td>\n",
       "      <td>False</td>\n",
       "      <td>False</td>\n",
       "      <td>False</td>\n",
       "      <td>False</td>\n",
       "      <td>False</td>\n",
       "      <td>False</td>\n",
       "      <td>False</td>\n",
       "      <td>False</td>\n",
       "      <td>False</td>\n",
       "    </tr>\n",
       "    <tr>\n",
       "      <th>2660</th>\n",
       "      <td>False</td>\n",
       "      <td>False</td>\n",
       "      <td>False</td>\n",
       "      <td>False</td>\n",
       "      <td>False</td>\n",
       "      <td>False</td>\n",
       "      <td>False</td>\n",
       "      <td>False</td>\n",
       "      <td>False</td>\n",
       "      <td>False</td>\n",
       "      <td>False</td>\n",
       "      <td>False</td>\n",
       "    </tr>\n",
       "    <tr>\n",
       "      <th>2661</th>\n",
       "      <td>False</td>\n",
       "      <td>False</td>\n",
       "      <td>False</td>\n",
       "      <td>False</td>\n",
       "      <td>False</td>\n",
       "      <td>False</td>\n",
       "      <td>False</td>\n",
       "      <td>False</td>\n",
       "      <td>False</td>\n",
       "      <td>False</td>\n",
       "      <td>False</td>\n",
       "      <td>False</td>\n",
       "    </tr>\n",
       "    <tr>\n",
       "      <th>2662</th>\n",
       "      <td>False</td>\n",
       "      <td>False</td>\n",
       "      <td>False</td>\n",
       "      <td>False</td>\n",
       "      <td>False</td>\n",
       "      <td>False</td>\n",
       "      <td>False</td>\n",
       "      <td>False</td>\n",
       "      <td>False</td>\n",
       "      <td>False</td>\n",
       "      <td>False</td>\n",
       "      <td>False</td>\n",
       "    </tr>\n",
       "    <tr>\n",
       "      <th>2663</th>\n",
       "      <td>False</td>\n",
       "      <td>False</td>\n",
       "      <td>False</td>\n",
       "      <td>False</td>\n",
       "      <td>False</td>\n",
       "      <td>False</td>\n",
       "      <td>False</td>\n",
       "      <td>False</td>\n",
       "      <td>False</td>\n",
       "      <td>False</td>\n",
       "      <td>False</td>\n",
       "      <td>False</td>\n",
       "    </tr>\n",
       "  </tbody>\n",
       "</table>\n",
       "<p>2664 rows × 12 columns</p>\n",
       "</div>"
      ],
      "text/plain": [
       "      STATISTIC  STATISTIC Label  TLIST(A1)   Year  C02719V03286  Country  \\\n",
       "0         False            False      False  False         False    False   \n",
       "1         False            False      False  False         False    False   \n",
       "2         False            False      False  False         False    False   \n",
       "3         False            False      False  False         False    False   \n",
       "4         False            False      False  False         False    False   \n",
       "...         ...              ...        ...    ...           ...      ...   \n",
       "2659      False            False      False  False         False    False   \n",
       "2660      False            False      False  False         False    False   \n",
       "2661      False            False      False  False         False    False   \n",
       "2662      False            False      False  False         False    False   \n",
       "2663      False            False      False  False         False    False   \n",
       "\n",
       "      C02199V02655    Sex  C02542V03077  Origin or Destination   UNIT  VALUE  \n",
       "0            False  False         False                  False  False  False  \n",
       "1            False  False         False                  False  False  False  \n",
       "2            False  False         False                  False  False  False  \n",
       "3            False  False         False                  False  False  False  \n",
       "4            False  False         False                  False  False  False  \n",
       "...            ...    ...           ...                    ...    ...    ...  \n",
       "2659         False  False         False                  False  False  False  \n",
       "2660         False  False         False                  False  False  False  \n",
       "2661         False  False         False                  False  False  False  \n",
       "2662         False  False         False                  False  False  False  \n",
       "2663         False  False         False                  False  False  False  \n",
       "\n",
       "[2664 rows x 12 columns]"
      ]
     },
     "execution_count": 302,
     "metadata": {},
     "output_type": "execute_result"
    }
   ],
   "source": [
    "migration_missing_data = migration_df.isna()\n",
    "migration_missing_data"
   ]
  },
  {
   "cell_type": "code",
   "execution_count": 303,
   "metadata": {},
   "outputs": [
    {
     "name": "stdout",
     "output_type": "stream",
     "text": [
      "Missing values for the population dataset\n"
     ]
    },
    {
     "data": {
      "text/plain": [
       "STATISTIC             0\n",
       "STATISTIC Label       0\n",
       "TLIST(A1)             0\n",
       "Year                  0\n",
       "C02076V03371          0\n",
       "Single Year of Age    0\n",
       "C02199V02655          0\n",
       "Sex                   0\n",
       "UNIT                  0\n",
       "VALUE                 0\n",
       "dtype: int64"
      ]
     },
     "execution_count": 303,
     "metadata": {},
     "output_type": "execute_result"
    }
   ],
   "source": [
    "population_missing_values = population_df.isnull().sum()\n",
    "\n",
    "print('Missing values for the population dataset')\n",
    "population_missing_values"
   ]
  },
  {
   "cell_type": "code",
   "execution_count": 304,
   "metadata": {},
   "outputs": [
    {
     "name": "stdout",
     "output_type": "stream",
     "text": [
      "Missing values for the migration dataset\n"
     ]
    },
    {
     "data": {
      "text/plain": [
       "STATISTIC                  0\n",
       "STATISTIC Label            0\n",
       "TLIST(A1)                  0\n",
       "Year                       0\n",
       "C02719V03286               0\n",
       "Country                    0\n",
       "C02199V02655               0\n",
       "Sex                        0\n",
       "C02542V03077               0\n",
       "Origin or Destination      0\n",
       "UNIT                       0\n",
       "VALUE                    560\n",
       "dtype: int64"
      ]
     },
     "execution_count": 304,
     "metadata": {},
     "output_type": "execute_result"
    }
   ],
   "source": [
    "migration_missing_values = migration_df.isnull().sum()\n",
    "\n",
    "print('Missing values for the migration dataset')\n",
    "migration_missing_values"
   ]
  },
  {
   "cell_type": "markdown",
   "metadata": {},
   "source": [
    "Using a heatmap is a simple way to visualize missing values and determine if there are any in the datasets we're using."
   ]
  },
  {
   "cell_type": "code",
   "execution_count": 305,
   "metadata": {},
   "outputs": [
    {
     "name": "stdout",
     "output_type": "stream",
     "text": [
      "Population dataset missing values Heatmap\n"
     ]
    },
    {
     "data": {
      "image/png": "[encoded data removed]",
      "text/plain": [
       "<Figure size 640x480 with 1 Axes>"
      ]
     },
     "metadata": {},
     "output_type": "display_data"
    }
   ],
   "source": [
    "print(\"Population dataset missing values Heatmap\")\n",
    "sns.heatmap(population_df.isnull(), cbar=False);"
   ]
  },
  {
   "cell_type": "code",
   "execution_count": 306,
   "metadata": {},
   "outputs": [
    {
     "name": "stdout",
     "output_type": "stream",
     "text": [
      "Migration dataset missing values Heatmap\n"
     ]
    },
    {
     "data": {
      "image/png": "[encoded data removed]",
      "text/plain": [
       "<Figure size 640x480 with 1 Axes>"
      ]
     },
     "metadata": {},
     "output_type": "display_data"
    }
   ],
   "source": [
    "print(\"Migration dataset missing values Heatmap\")\n",
    "sns.heatmap(migration_df.isnull(), cbar=False);"
   ]
  },
  {
   "cell_type": "markdown",
   "metadata": {},
   "source": [
    "##### Removing all the lines with missing values\n",
    "The **.dropna()** method in pandas is used to remove missing values from a DataFrame. We can specify how we want to remove rows or columns with missing data using its parameters.\n"
   ]
  },
  {
   "cell_type": "markdown",
   "metadata": {},
   "source": [
    "Removing already identified missing values in the Migration Dataset. I decided to remove those values because for some years we do not have any data for Immigrants and Emigrants for specific countries. Imputing those values will give us bias data and this will reflect on our visualizations. As an example, we do have a value for the 'Country' column called '\"EU15 to EU27 (accession countries joined post 2004)', which will include countries that joined the EU in 2004, meaning that we won't have any data before that. "
   ]
  },
  {
   "cell_type": "code",
   "execution_count": 307,
   "metadata": {},
   "outputs": [
    {
     "data": {
      "text/plain": [
       "STATISTIC                0\n",
       "STATISTIC Label          0\n",
       "TLIST(A1)                0\n",
       "Year                     0\n",
       "C02719V03286             0\n",
       "Country                  0\n",
       "C02199V02655             0\n",
       "Sex                      0\n",
       "C02542V03077             0\n",
       "Origin or Destination    0\n",
       "UNIT                     0\n",
       "VALUE                    0\n",
       "dtype: int64"
      ]
     },
     "execution_count": 307,
     "metadata": {},
     "output_type": "execute_result"
    }
   ],
   "source": [
    "migration_df = migration_df.dropna()\n",
    "\n",
    "migration_missing_values = migration_df.isnull().sum()\n",
    "migration_missing_values"
   ]
  },
  {
   "cell_type": "code",
   "execution_count": 308,
   "metadata": {},
   "outputs": [
    {
     "data": {
      "text/plain": [
       "<Axes: >"
      ]
     },
     "execution_count": 308,
     "metadata": {},
     "output_type": "execute_result"
    },
    {
     "data": {
      "image/png": "[encoded data removed]",
      "text/plain": [
       "<Figure size 640x480 with 1 Axes>"
      ]
     },
     "metadata": {},
     "output_type": "display_data"
    }
   ],
   "source": [
    "sns.heatmap(migration_df.isnull(), cbar=False)"
   ]
  },
  {
   "cell_type": "markdown",
   "metadata": {},
   "source": [
    "Based on the two analyses conducted (sum and heatmap), we can conclude that all missing values have been removed from the Migration dataset."
   ]
  },
  {
   "cell_type": "markdown",
   "metadata": {},
   "source": [
    "#### Dropping irrelevant columns and renaming the labeled columns\n",
    "\n",
    "Dropping all columns that have no value for the report and visualizing the results."
   ]
  },
  {
   "cell_type": "markdown",
   "metadata": {},
   "source": [
    "##### Population dataset"
   ]
  },
  {
   "cell_type": "code",
   "execution_count": 309,
   "metadata": {},
   "outputs": [
    {
     "data": {
      "text/html": [
       "<div>\n",
       "<style scoped>\n",
       "    .dataframe tbody tr th:only-of-type {\n",
       "        vertical-align: middle;\n",
       "    }\n",
       "\n",
       "    .dataframe tbody tr th {\n",
       "        vertical-align: top;\n",
       "    }\n",
       "\n",
       "    .dataframe thead th {\n",
       "        text-align: right;\n",
       "    }\n",
       "</style>\n",
       "<table border=\"1\" class=\"dataframe\">\n",
       "  <thead>\n",
       "    <tr style=\"text-align: right;\">\n",
       "      <th></th>\n",
       "      <th>Year</th>\n",
       "      <th>C02076V03371</th>\n",
       "      <th>Single Year of Age</th>\n",
       "      <th>C02199V02655</th>\n",
       "      <th>Sex</th>\n",
       "      <th>UNIT</th>\n",
       "      <th>VALUE</th>\n",
       "    </tr>\n",
       "  </thead>\n",
       "  <tbody>\n",
       "    <tr>\n",
       "      <th>0</th>\n",
       "      <td>1926</td>\n",
       "      <td>-</td>\n",
       "      <td>All ages</td>\n",
       "      <td>-</td>\n",
       "      <td>Both sexes</td>\n",
       "      <td>Number</td>\n",
       "      <td>2971992</td>\n",
       "    </tr>\n",
       "    <tr>\n",
       "      <th>1</th>\n",
       "      <td>1926</td>\n",
       "      <td>-</td>\n",
       "      <td>All ages</td>\n",
       "      <td>1</td>\n",
       "      <td>Male</td>\n",
       "      <td>Number</td>\n",
       "      <td>1506889</td>\n",
       "    </tr>\n",
       "    <tr>\n",
       "      <th>2</th>\n",
       "      <td>1926</td>\n",
       "      <td>-</td>\n",
       "      <td>All ages</td>\n",
       "      <td>2</td>\n",
       "      <td>Female</td>\n",
       "      <td>Number</td>\n",
       "      <td>1465103</td>\n",
       "    </tr>\n",
       "    <tr>\n",
       "      <th>3</th>\n",
       "      <td>1926</td>\n",
       "      <td>200</td>\n",
       "      <td>Under 1 year</td>\n",
       "      <td>-</td>\n",
       "      <td>Both sexes</td>\n",
       "      <td>Number</td>\n",
       "      <td>55391</td>\n",
       "    </tr>\n",
       "    <tr>\n",
       "      <th>4</th>\n",
       "      <td>1926</td>\n",
       "      <td>200</td>\n",
       "      <td>Under 1 year</td>\n",
       "      <td>1</td>\n",
       "      <td>Male</td>\n",
       "      <td>Number</td>\n",
       "      <td>28084</td>\n",
       "    </tr>\n",
       "    <tr>\n",
       "      <th>...</th>\n",
       "      <td>...</td>\n",
       "      <td>...</td>\n",
       "      <td>...</td>\n",
       "      <td>...</td>\n",
       "      <td>...</td>\n",
       "      <td>...</td>\n",
       "      <td>...</td>\n",
       "    </tr>\n",
       "    <tr>\n",
       "      <th>11812</th>\n",
       "      <td>2023</td>\n",
       "      <td>098</td>\n",
       "      <td>98 years</td>\n",
       "      <td>1</td>\n",
       "      <td>Male</td>\n",
       "      <td>Number</td>\n",
       "      <td>197</td>\n",
       "    </tr>\n",
       "    <tr>\n",
       "      <th>11813</th>\n",
       "      <td>2023</td>\n",
       "      <td>098</td>\n",
       "      <td>98 years</td>\n",
       "      <td>2</td>\n",
       "      <td>Female</td>\n",
       "      <td>Number</td>\n",
       "      <td>632</td>\n",
       "    </tr>\n",
       "    <tr>\n",
       "      <th>11814</th>\n",
       "      <td>2023</td>\n",
       "      <td>646</td>\n",
       "      <td>99 years and over</td>\n",
       "      <td>-</td>\n",
       "      <td>Both sexes</td>\n",
       "      <td>Number</td>\n",
       "      <td>1600</td>\n",
       "    </tr>\n",
       "    <tr>\n",
       "      <th>11815</th>\n",
       "      <td>2023</td>\n",
       "      <td>646</td>\n",
       "      <td>99 years and over</td>\n",
       "      <td>1</td>\n",
       "      <td>Male</td>\n",
       "      <td>Number</td>\n",
       "      <td>352</td>\n",
       "    </tr>\n",
       "    <tr>\n",
       "      <th>11816</th>\n",
       "      <td>2023</td>\n",
       "      <td>646</td>\n",
       "      <td>99 years and over</td>\n",
       "      <td>2</td>\n",
       "      <td>Female</td>\n",
       "      <td>Number</td>\n",
       "      <td>1248</td>\n",
       "    </tr>\n",
       "  </tbody>\n",
       "</table>\n",
       "<p>11817 rows × 7 columns</p>\n",
       "</div>"
      ],
      "text/plain": [
       "       Year C02076V03371 Single Year of Age C02199V02655         Sex    UNIT  \\\n",
       "0      1926            -           All ages            -  Both sexes  Number   \n",
       "1      1926            -           All ages            1        Male  Number   \n",
       "2      1926            -           All ages            2      Female  Number   \n",
       "3      1926          200       Under 1 year            -  Both sexes  Number   \n",
       "4      1926          200       Under 1 year            1        Male  Number   \n",
       "...     ...          ...                ...          ...         ...     ...   \n",
       "11812  2023          098           98 years            1        Male  Number   \n",
       "11813  2023          098           98 years            2      Female  Number   \n",
       "11814  2023          646  99 years and over            -  Both sexes  Number   \n",
       "11815  2023          646  99 years and over            1        Male  Number   \n",
       "11816  2023          646  99 years and over            2      Female  Number   \n",
       "\n",
       "         VALUE  \n",
       "0      2971992  \n",
       "1      1506889  \n",
       "2      1465103  \n",
       "3        55391  \n",
       "4        28084  \n",
       "...        ...  \n",
       "11812      197  \n",
       "11813      632  \n",
       "11814     1600  \n",
       "11815      352  \n",
       "11816     1248  \n",
       "\n",
       "[11817 rows x 7 columns]"
      ]
     },
     "execution_count": 309,
     "metadata": {},
     "output_type": "execute_result"
    }
   ],
   "source": [
    "population_df = population_df.drop(['STATISTIC', 'STATISTIC Label', 'TLIST(A1)'], axis=1)\n",
    "population_df"
   ]
  },
  {
   "cell_type": "markdown",
   "metadata": {},
   "source": [
    "Renaming columns"
   ]
  },
  {
   "cell_type": "code",
   "execution_count": 310,
   "metadata": {},
   "outputs": [
    {
     "data": {
      "text/html": [
       "<div>\n",
       "<style scoped>\n",
       "    .dataframe tbody tr th:only-of-type {\n",
       "        vertical-align: middle;\n",
       "    }\n",
       "\n",
       "    .dataframe tbody tr th {\n",
       "        vertical-align: top;\n",
       "    }\n",
       "\n",
       "    .dataframe thead th {\n",
       "        text-align: right;\n",
       "    }\n",
       "</style>\n",
       "<table border=\"1\" class=\"dataframe\">\n",
       "  <thead>\n",
       "    <tr style=\"text-align: right;\">\n",
       "      <th></th>\n",
       "      <th>Year</th>\n",
       "      <th>Age category</th>\n",
       "      <th>Single Year of Age</th>\n",
       "      <th>Sex category</th>\n",
       "      <th>Sex</th>\n",
       "      <th>UNIT</th>\n",
       "      <th>VALUE</th>\n",
       "    </tr>\n",
       "  </thead>\n",
       "  <tbody>\n",
       "    <tr>\n",
       "      <th>0</th>\n",
       "      <td>1926</td>\n",
       "      <td>-</td>\n",
       "      <td>All ages</td>\n",
       "      <td>-</td>\n",
       "      <td>Both sexes</td>\n",
       "      <td>Number</td>\n",
       "      <td>2971992</td>\n",
       "    </tr>\n",
       "    <tr>\n",
       "      <th>1</th>\n",
       "      <td>1926</td>\n",
       "      <td>-</td>\n",
       "      <td>All ages</td>\n",
       "      <td>1</td>\n",
       "      <td>Male</td>\n",
       "      <td>Number</td>\n",
       "      <td>1506889</td>\n",
       "    </tr>\n",
       "    <tr>\n",
       "      <th>2</th>\n",
       "      <td>1926</td>\n",
       "      <td>-</td>\n",
       "      <td>All ages</td>\n",
       "      <td>2</td>\n",
       "      <td>Female</td>\n",
       "      <td>Number</td>\n",
       "      <td>1465103</td>\n",
       "    </tr>\n",
       "    <tr>\n",
       "      <th>3</th>\n",
       "      <td>1926</td>\n",
       "      <td>200</td>\n",
       "      <td>Under 1 year</td>\n",
       "      <td>-</td>\n",
       "      <td>Both sexes</td>\n",
       "      <td>Number</td>\n",
       "      <td>55391</td>\n",
       "    </tr>\n",
       "    <tr>\n",
       "      <th>4</th>\n",
       "      <td>1926</td>\n",
       "      <td>200</td>\n",
       "      <td>Under 1 year</td>\n",
       "      <td>1</td>\n",
       "      <td>Male</td>\n",
       "      <td>Number</td>\n",
       "      <td>28084</td>\n",
       "    </tr>\n",
       "    <tr>\n",
       "      <th>5</th>\n",
       "      <td>1926</td>\n",
       "      <td>200</td>\n",
       "      <td>Under 1 year</td>\n",
       "      <td>2</td>\n",
       "      <td>Female</td>\n",
       "      <td>Number</td>\n",
       "      <td>27307</td>\n",
       "    </tr>\n",
       "    <tr>\n",
       "      <th>6</th>\n",
       "      <td>1926</td>\n",
       "      <td>001</td>\n",
       "      <td>1 year</td>\n",
       "      <td>-</td>\n",
       "      <td>Both sexes</td>\n",
       "      <td>Number</td>\n",
       "      <td>55876</td>\n",
       "    </tr>\n",
       "  </tbody>\n",
       "</table>\n",
       "</div>"
      ],
      "text/plain": [
       "   Year Age category Single Year of Age Sex category         Sex    UNIT  \\\n",
       "0  1926            -           All ages            -  Both sexes  Number   \n",
       "1  1926            -           All ages            1        Male  Number   \n",
       "2  1926            -           All ages            2      Female  Number   \n",
       "3  1926          200       Under 1 year            -  Both sexes  Number   \n",
       "4  1926          200       Under 1 year            1        Male  Number   \n",
       "5  1926          200       Under 1 year            2      Female  Number   \n",
       "6  1926          001             1 year            -  Both sexes  Number   \n",
       "\n",
       "     VALUE  \n",
       "0  2971992  \n",
       "1  1506889  \n",
       "2  1465103  \n",
       "3    55391  \n",
       "4    28084  \n",
       "5    27307  \n",
       "6    55876  "
      ]
     },
     "execution_count": 310,
     "metadata": {},
     "output_type": "execute_result"
    }
   ],
   "source": [
    "population_df = population_df.rename(columns={'C02076V03371':'Age category', 'C02199V02655':'Sex category'})\n",
    "population_df.head(7)"
   ]
  },
  {
   "cell_type": "markdown",
   "metadata": {},
   "source": [
    "##### Migration dataset"
   ]
  },
  {
   "cell_type": "code",
   "execution_count": 311,
   "metadata": {},
   "outputs": [
    {
     "data": {
      "text/html": [
       "<div>\n",
       "<style scoped>\n",
       "    .dataframe tbody tr th:only-of-type {\n",
       "        vertical-align: middle;\n",
       "    }\n",
       "\n",
       "    .dataframe tbody tr th {\n",
       "        vertical-align: top;\n",
       "    }\n",
       "\n",
       "    .dataframe thead th {\n",
       "        text-align: right;\n",
       "    }\n",
       "</style>\n",
       "<table border=\"1\" class=\"dataframe\">\n",
       "  <thead>\n",
       "    <tr style=\"text-align: right;\">\n",
       "      <th></th>\n",
       "      <th>Year</th>\n",
       "      <th>C02719V03286</th>\n",
       "      <th>Country</th>\n",
       "      <th>C02199V02655</th>\n",
       "      <th>Sex</th>\n",
       "      <th>C02542V03077</th>\n",
       "      <th>Origin or Destination</th>\n",
       "      <th>UNIT</th>\n",
       "      <th>VALUE</th>\n",
       "    </tr>\n",
       "  </thead>\n",
       "  <tbody>\n",
       "    <tr>\n",
       "      <th>0</th>\n",
       "      <td>1987</td>\n",
       "      <td>GB1</td>\n",
       "      <td>United Kingdom (1)</td>\n",
       "      <td>-</td>\n",
       "      <td>Both sexes</td>\n",
       "      <td>1</td>\n",
       "      <td>Net migration</td>\n",
       "      <td>Thousand</td>\n",
       "      <td>-13.7</td>\n",
       "    </tr>\n",
       "    <tr>\n",
       "      <th>1</th>\n",
       "      <td>1987</td>\n",
       "      <td>GB1</td>\n",
       "      <td>United Kingdom (1)</td>\n",
       "      <td>-</td>\n",
       "      <td>Both sexes</td>\n",
       "      <td>4</td>\n",
       "      <td>Emigrants: All destinations</td>\n",
       "      <td>Thousand</td>\n",
       "      <td>21.8</td>\n",
       "    </tr>\n",
       "    <tr>\n",
       "      <th>2</th>\n",
       "      <td>1987</td>\n",
       "      <td>GB1</td>\n",
       "      <td>United Kingdom (1)</td>\n",
       "      <td>-</td>\n",
       "      <td>Both sexes</td>\n",
       "      <td>5</td>\n",
       "      <td>Immigrants: All origins</td>\n",
       "      <td>Thousand</td>\n",
       "      <td>8.1</td>\n",
       "    </tr>\n",
       "    <tr>\n",
       "      <th>3</th>\n",
       "      <td>1987</td>\n",
       "      <td>GB1</td>\n",
       "      <td>United Kingdom (1)</td>\n",
       "      <td>1</td>\n",
       "      <td>Male</td>\n",
       "      <td>1</td>\n",
       "      <td>Net migration</td>\n",
       "      <td>Thousand</td>\n",
       "      <td>-9.0</td>\n",
       "    </tr>\n",
       "    <tr>\n",
       "      <th>4</th>\n",
       "      <td>1987</td>\n",
       "      <td>GB1</td>\n",
       "      <td>United Kingdom (1)</td>\n",
       "      <td>1</td>\n",
       "      <td>Male</td>\n",
       "      <td>4</td>\n",
       "      <td>Emigrants: All destinations</td>\n",
       "      <td>Thousand</td>\n",
       "      <td>13.1</td>\n",
       "    </tr>\n",
       "    <tr>\n",
       "      <th>5</th>\n",
       "      <td>1987</td>\n",
       "      <td>GB1</td>\n",
       "      <td>United Kingdom (1)</td>\n",
       "      <td>1</td>\n",
       "      <td>Male</td>\n",
       "      <td>5</td>\n",
       "      <td>Immigrants: All origins</td>\n",
       "      <td>Thousand</td>\n",
       "      <td>4.1</td>\n",
       "    </tr>\n",
       "    <tr>\n",
       "      <th>6</th>\n",
       "      <td>1987</td>\n",
       "      <td>GB1</td>\n",
       "      <td>United Kingdom (1)</td>\n",
       "      <td>2</td>\n",
       "      <td>Female</td>\n",
       "      <td>1</td>\n",
       "      <td>Net migration</td>\n",
       "      <td>Thousand</td>\n",
       "      <td>-4.7</td>\n",
       "    </tr>\n",
       "  </tbody>\n",
       "</table>\n",
       "</div>"
      ],
      "text/plain": [
       "   Year C02719V03286             Country C02199V02655         Sex  \\\n",
       "0  1987          GB1  United Kingdom (1)            -  Both sexes   \n",
       "1  1987          GB1  United Kingdom (1)            -  Both sexes   \n",
       "2  1987          GB1  United Kingdom (1)            -  Both sexes   \n",
       "3  1987          GB1  United Kingdom (1)            1        Male   \n",
       "4  1987          GB1  United Kingdom (1)            1        Male   \n",
       "5  1987          GB1  United Kingdom (1)            1        Male   \n",
       "6  1987          GB1  United Kingdom (1)            2      Female   \n",
       "\n",
       "   C02542V03077        Origin or Destination      UNIT  VALUE  \n",
       "0             1                Net migration  Thousand  -13.7  \n",
       "1             4  Emigrants: All destinations  Thousand   21.8  \n",
       "2             5      Immigrants: All origins  Thousand    8.1  \n",
       "3             1                Net migration  Thousand   -9.0  \n",
       "4             4  Emigrants: All destinations  Thousand   13.1  \n",
       "5             5      Immigrants: All origins  Thousand    4.1  \n",
       "6             1                Net migration  Thousand   -4.7  "
      ]
     },
     "execution_count": 311,
     "metadata": {},
     "output_type": "execute_result"
    }
   ],
   "source": [
    "migration_df = migration_df.drop(['STATISTIC', 'STATISTIC Label', 'TLIST(A1)'], axis=1) #axis equals one because we want to drop from columns. \n",
    "migration_df.head(7)"
   ]
  },
  {
   "cell_type": "markdown",
   "metadata": {},
   "source": [
    "Renaming columns"
   ]
  },
  {
   "cell_type": "code",
   "execution_count": 312,
   "metadata": {},
   "outputs": [
    {
     "data": {
      "text/html": [
       "<div>\n",
       "<style scoped>\n",
       "    .dataframe tbody tr th:only-of-type {\n",
       "        vertical-align: middle;\n",
       "    }\n",
       "\n",
       "    .dataframe tbody tr th {\n",
       "        vertical-align: top;\n",
       "    }\n",
       "\n",
       "    .dataframe thead th {\n",
       "        text-align: right;\n",
       "    }\n",
       "</style>\n",
       "<table border=\"1\" class=\"dataframe\">\n",
       "  <thead>\n",
       "    <tr style=\"text-align: right;\">\n",
       "      <th></th>\n",
       "      <th>Year</th>\n",
       "      <th>Country category</th>\n",
       "      <th>Country</th>\n",
       "      <th>Sex category</th>\n",
       "      <th>Sex</th>\n",
       "      <th>Migration label</th>\n",
       "      <th>Origin or Destination</th>\n",
       "      <th>UNIT</th>\n",
       "      <th>VALUE</th>\n",
       "    </tr>\n",
       "  </thead>\n",
       "  <tbody>\n",
       "    <tr>\n",
       "      <th>0</th>\n",
       "      <td>1987</td>\n",
       "      <td>GB1</td>\n",
       "      <td>United Kingdom (1)</td>\n",
       "      <td>-</td>\n",
       "      <td>Both sexes</td>\n",
       "      <td>1</td>\n",
       "      <td>Net migration</td>\n",
       "      <td>Thousand</td>\n",
       "      <td>-13.7</td>\n",
       "    </tr>\n",
       "    <tr>\n",
       "      <th>1</th>\n",
       "      <td>1987</td>\n",
       "      <td>GB1</td>\n",
       "      <td>United Kingdom (1)</td>\n",
       "      <td>-</td>\n",
       "      <td>Both sexes</td>\n",
       "      <td>4</td>\n",
       "      <td>Emigrants: All destinations</td>\n",
       "      <td>Thousand</td>\n",
       "      <td>21.8</td>\n",
       "    </tr>\n",
       "    <tr>\n",
       "      <th>2</th>\n",
       "      <td>1987</td>\n",
       "      <td>GB1</td>\n",
       "      <td>United Kingdom (1)</td>\n",
       "      <td>-</td>\n",
       "      <td>Both sexes</td>\n",
       "      <td>5</td>\n",
       "      <td>Immigrants: All origins</td>\n",
       "      <td>Thousand</td>\n",
       "      <td>8.1</td>\n",
       "    </tr>\n",
       "    <tr>\n",
       "      <th>3</th>\n",
       "      <td>1987</td>\n",
       "      <td>GB1</td>\n",
       "      <td>United Kingdom (1)</td>\n",
       "      <td>1</td>\n",
       "      <td>Male</td>\n",
       "      <td>1</td>\n",
       "      <td>Net migration</td>\n",
       "      <td>Thousand</td>\n",
       "      <td>-9.0</td>\n",
       "    </tr>\n",
       "    <tr>\n",
       "      <th>4</th>\n",
       "      <td>1987</td>\n",
       "      <td>GB1</td>\n",
       "      <td>United Kingdom (1)</td>\n",
       "      <td>1</td>\n",
       "      <td>Male</td>\n",
       "      <td>4</td>\n",
       "      <td>Emigrants: All destinations</td>\n",
       "      <td>Thousand</td>\n",
       "      <td>13.1</td>\n",
       "    </tr>\n",
       "    <tr>\n",
       "      <th>5</th>\n",
       "      <td>1987</td>\n",
       "      <td>GB1</td>\n",
       "      <td>United Kingdom (1)</td>\n",
       "      <td>1</td>\n",
       "      <td>Male</td>\n",
       "      <td>5</td>\n",
       "      <td>Immigrants: All origins</td>\n",
       "      <td>Thousand</td>\n",
       "      <td>4.1</td>\n",
       "    </tr>\n",
       "    <tr>\n",
       "      <th>6</th>\n",
       "      <td>1987</td>\n",
       "      <td>GB1</td>\n",
       "      <td>United Kingdom (1)</td>\n",
       "      <td>2</td>\n",
       "      <td>Female</td>\n",
       "      <td>1</td>\n",
       "      <td>Net migration</td>\n",
       "      <td>Thousand</td>\n",
       "      <td>-4.7</td>\n",
       "    </tr>\n",
       "  </tbody>\n",
       "</table>\n",
       "</div>"
      ],
      "text/plain": [
       "   Year Country category             Country Sex category         Sex  \\\n",
       "0  1987              GB1  United Kingdom (1)            -  Both sexes   \n",
       "1  1987              GB1  United Kingdom (1)            -  Both sexes   \n",
       "2  1987              GB1  United Kingdom (1)            -  Both sexes   \n",
       "3  1987              GB1  United Kingdom (1)            1        Male   \n",
       "4  1987              GB1  United Kingdom (1)            1        Male   \n",
       "5  1987              GB1  United Kingdom (1)            1        Male   \n",
       "6  1987              GB1  United Kingdom (1)            2      Female   \n",
       "\n",
       "   Migration label        Origin or Destination      UNIT  VALUE  \n",
       "0                1                Net migration  Thousand  -13.7  \n",
       "1                4  Emigrants: All destinations  Thousand   21.8  \n",
       "2                5      Immigrants: All origins  Thousand    8.1  \n",
       "3                1                Net migration  Thousand   -9.0  \n",
       "4                4  Emigrants: All destinations  Thousand   13.1  \n",
       "5                5      Immigrants: All origins  Thousand    4.1  \n",
       "6                1                Net migration  Thousand   -4.7  "
      ]
     },
     "execution_count": 312,
     "metadata": {},
     "output_type": "execute_result"
    }
   ],
   "source": [
    "migration_df = migration_df.rename(columns={'C02719V03286':'Country category', 'C02199V02655':'Sex category', 'C02542V03077':'Migration label' })\n",
    "migration_df.head(7)"
   ]
  },
  {
   "cell_type": "markdown",
   "metadata": {},
   "source": [
    "#### Dealing with categorical variables"
   ]
  },
  {
   "cell_type": "markdown",
   "metadata": {},
   "source": [
    "Converting the objects to categories is a step towards encoding features as numerical values, required for fitting machine learning models."
   ]
  },
  {
   "cell_type": "code",
   "execution_count": 313,
   "metadata": {},
   "outputs": [
    {
     "data": {
      "text/plain": [
       "Single Year of Age    category\n",
       "Sex                   category\n",
       "UNIT                  category\n",
       "Age category          category\n",
       "Sex category          category\n",
       "dtype: object"
      ]
     },
     "execution_count": 313,
     "metadata": {},
     "output_type": "execute_result"
    }
   ],
   "source": [
    "population_columns_to_convert = ['Single Year of Age', 'Sex', 'UNIT', 'Age category', 'Sex category']\n",
    "for column in population_columns_to_convert:\n",
    "    population_df[column] = population_df[column].astype('category')\n",
    "\n",
    "data_types = population_df[population_columns_to_convert].dtypes\n",
    "data_types"
   ]
  },
  {
   "cell_type": "code",
   "execution_count": 314,
   "metadata": {},
   "outputs": [
    {
     "data": {
      "text/plain": [
       "Sex                      category\n",
       "UNIT                     category\n",
       "Sex category             category\n",
       "Origin or Destination    category\n",
       "Migration label          category\n",
       "Country                  category\n",
       "Country category         category\n",
       "dtype: object"
      ]
     },
     "execution_count": 314,
     "metadata": {},
     "output_type": "execute_result"
    }
   ],
   "source": [
    "migration_columns_to_convert = ['Sex', 'UNIT', 'Sex category', 'Origin or Destination', 'Migration label', 'Country', 'Country category']\n",
    "for column in migration_columns_to_convert:\n",
    "    migration_df[column] = migration_df[column].astype('category')\n",
    "\n",
    "data_types = migration_df[migration_columns_to_convert].dtypes\n",
    "data_types"
   ]
  },
  {
   "cell_type": "markdown",
   "metadata": {},
   "source": [
    "### Dealing with Outliers"
   ]
  },
  {
   "cell_type": "markdown",
   "metadata": {},
   "source": [
    "* Outliers are data points that differ significantly from other observations. They can be caused by variability in the measurement or may indicate errors. Sometimes outliers are just due to natural deviations in any distribution. It's crucial to deal with outliers because they can have a significant impact on the results of statistical analyses and machine learning models, often leading to misleading conclusions.\n",
    "* Outliers can skew the results of statistical measures. For instance, the mean is particularly sensitive to outliers, as a single outlier can significantly shift the average. \n",
    "* In machine learning, outliers can affect the accuracy of predictions, leading to poor model performance. Machine learning algorithms might end up overfitting to outliers if they try to account for these anomalous points in the training data. "
   ]
  },
  {
   "cell_type": "markdown",
   "metadata": {},
   "source": [
    "Calculating the first quartile (**Q1**) and the third quartile (**Q3**) for the data.\\\n",
    "Compute the **IQR**: IQR Q3 — QI\\\n",
    "**Define outliers** as values that fall outside of the following range:\\\n",
    "**QI - 1.5 x IQR,Q3 + 1.5 x IQR**"
   ]
  },
  {
   "cell_type": "markdown",
   "metadata": {},
   "source": [
    "A classic method for identifying outliers based on the interquartile range (IQR). This method assumes that values outside 1.5 times the IQR from the quartiles are outliers."
   ]
  },
  {
   "cell_type": "markdown",
   "metadata": {},
   "source": [
    "##### Population dataset"
   ]
  },
  {
   "cell_type": "markdown",
   "metadata": {},
   "source": [
    "Exploring the VALUE column for any outliers whithout filtering the data"
   ]
  },
  {
   "cell_type": "code",
   "execution_count": 315,
   "metadata": {},
   "outputs": [
    {
     "name": "stdout",
     "output_type": "stream",
     "text": [
      "The first quartile is: 12427.0\n",
      "The third quartile is: 35577.0\n",
      "IQR range: 23150.0\n",
      "Total number of outliers: 463\n",
      "Percentage of outliers: 3.92%\n",
      "Minimum outlier value: 70321\n",
      "Maximum outlier value: 5281612\n",
      "Lower bound for outliers: -22298.0\n",
      "Upper bound for outliers: 70302.0\n"
     ]
    }
   ],
   "source": [
    "population_Q1 = population_df['VALUE'].quantile(0.25)\n",
    "population_Q3 = population_df['VALUE'].quantile(0.75)\n",
    "population_IQR = population_Q3 - population_Q1\n",
    "\n",
    "pop_lower_bound = population_Q1 - 1.5 * population_IQR\n",
    "pop_upper_bound = population_Q3 + 1.5 * population_IQR\n",
    "\n",
    "population_outliers = population_df[(population_df['VALUE'] < pop_lower_bound) | (population_df['VALUE'] > pop_upper_bound)]\n",
    "\n",
    "print(f\"The first quartile is: {population_Q1}\")\n",
    "print(f\"The third quartile is: {population_Q3}\")\n",
    "print(f\"IQR range: {population_IQR}\")\n",
    "print(f\"Total number of outliers: {population_outliers.shape[0]}\")\n",
    "print(f\"Percentage of outliers: {(population_outliers.shape[0] / population_df.shape[0]) * 100:.2f}%\")\n",
    "print(f\"Minimum outlier value: {population_outliers['VALUE'].min()}\")\n",
    "print(f\"Maximum outlier value: {population_outliers['VALUE'].max()}\")\n",
    "print(f\"Lower bound for outliers: {pop_lower_bound}\")\n",
    "print(f\"Upper bound for outliers: {pop_upper_bound}\")\n"
   ]
  },
  {
   "cell_type": "markdown",
   "metadata": {},
   "source": [
    "The lower bound for outliers is -22298. Since negative population values are not possible, we can consider the lower bound to be 0 for practical purposes.\\\n",
    "Any data point with a population value **lower than 0** or **higher than 70302** is considered an outlier.\n",
    "\n",
    "The current calculations includes the total population counts (\"All ages\") for both sexes, males, and females, which naturally have much higher numbers than specific age categories. These data points are not errors. They are just aggregates that are on a different scale compared to individual age categories."
   ]
  },
  {
   "cell_type": "code",
   "execution_count": 316,
   "metadata": {},
   "outputs": [
    {
     "data": {
      "image/png": "[encoded data removed]",
      "text/plain": [
       "<Figure size 1200x400 with 1 Axes>"
      ]
     },
     "metadata": {},
     "output_type": "display_data"
    }
   ],
   "source": [
    "plt.figure(figsize=(12, 4))\n",
    "sns.boxplot(x=population_df['VALUE'], color=\"lightgreen\", orient=\"h\")\n",
    "\n",
    "plt.axvline(x=population_Q1, color='blue', linestyle='--', label=f\"Q1 ({population_Q1:.2f})\")\n",
    "plt.axvline(x=population_df['VALUE'].median(), color='red', linestyle='--', label=f\"Median ({population_df['VALUE'].median():.2f})\")\n",
    "plt.axvline(x=population_Q3, color='blue', linestyle='--', label=f\"Q3 ({population_Q3:.2f})\")\n",
    "\n",
    "plt.title(\"Horizontal Boxplot of Population Estimates (VALUE column) with Quartiles and Outliers\")\n",
    "plt.xlabel(\"Population Count\")\n",
    "plt.legend(loc='upper left', bbox_to_anchor=(1, 1))\n",
    "plt.tight_layout()\n",
    "plt.show()"
   ]
  },
  {
   "cell_type": "markdown",
   "metadata": {},
   "source": [
    "Zoomed-in version of the horizontal boxplot for the VALUE column"
   ]
  },
  {
   "cell_type": "code",
   "execution_count": 317,
   "metadata": {},
   "outputs": [
    {
     "data": {
      "image/png": "[encoded data removed]",
      "text/plain": [
       "<Figure size 1000x300 with 1 Axes>"
      ]
     },
     "metadata": {},
     "output_type": "display_data"
    }
   ],
   "source": [
    "plt.figure(figsize=(10, 3))\n",
    "sns.boxplot(x=population_df['VALUE'], color=\"lightgreen\", orient=\"h\")\n",
    "plt.xlim([population_df['VALUE'].min() - population_IQR, pop_upper_bound + 2 * population_IQR])\n",
    "\n",
    "plt.axvline(x=population_Q1, color='blue', linestyle='--', label=f\"Q1 ({population_Q1:.2f})\")\n",
    "plt.axvline(x=population_df['VALUE'].median(), color='red', linestyle='--', label=f\"Median ({population_df['VALUE'].median():.2f})\")\n",
    "plt.axvline(x=population_Q3, color='blue', linestyle='--', label=f\"Q3 ({population_Q3:.2f})\")\n",
    "\n",
    "plt.title(\"Zoomed-in Horizontal Boxplot of Population Estimates (VALUE column)\")\n",
    "plt.xlabel(\"Population Count\")\n",
    "plt.legend(loc='upper left', bbox_to_anchor=(1, 1))\n",
    "plt.tight_layout()\n",
    "plt.show()"
   ]
  },
  {
   "cell_type": "markdown",
   "metadata": {},
   "source": [
    "This visualization provides a more detailed view of the distribution's central tendency, interquartile range, and nearby outliers\n",
    "\n",
    "The focus has been narrowed to the region around the box and the nearby outliers, allowing for a clearer view of the box and whiskers. \\\n",
    "The dashed lines still represent the Q1 (blue), median (red), and Q3 (blue) values."
   ]
  },
  {
   "cell_type": "markdown",
   "metadata": {},
   "source": [
    "**The outliers in the population dataset are because we have rows with 'All ages' and 'Both sexes' that show the sum of all ages and both sexes. Those are not errors and can be used when looking into the population without any age or sex breakdown.**"
   ]
  },
  {
   "cell_type": "code",
   "execution_count": 318,
   "metadata": {},
   "outputs": [
    {
     "data": {
      "text/html": [
       "<div>\n",
       "<style scoped>\n",
       "    .dataframe tbody tr th:only-of-type {\n",
       "        vertical-align: middle;\n",
       "    }\n",
       "\n",
       "    .dataframe tbody tr th {\n",
       "        vertical-align: top;\n",
       "    }\n",
       "\n",
       "    .dataframe thead th {\n",
       "        text-align: right;\n",
       "    }\n",
       "</style>\n",
       "<table border=\"1\" class=\"dataframe\">\n",
       "  <thead>\n",
       "    <tr style=\"text-align: right;\">\n",
       "      <th></th>\n",
       "      <th>Year</th>\n",
       "      <th>Age category</th>\n",
       "      <th>Single Year of Age</th>\n",
       "      <th>Sex category</th>\n",
       "      <th>Sex</th>\n",
       "      <th>UNIT</th>\n",
       "      <th>VALUE</th>\n",
       "    </tr>\n",
       "  </thead>\n",
       "  <tbody>\n",
       "    <tr>\n",
       "      <th>4</th>\n",
       "      <td>1926</td>\n",
       "      <td>200</td>\n",
       "      <td>Under 1 year</td>\n",
       "      <td>1</td>\n",
       "      <td>Male</td>\n",
       "      <td>Number</td>\n",
       "      <td>28084</td>\n",
       "    </tr>\n",
       "    <tr>\n",
       "      <th>5</th>\n",
       "      <td>1926</td>\n",
       "      <td>200</td>\n",
       "      <td>Under 1 year</td>\n",
       "      <td>2</td>\n",
       "      <td>Female</td>\n",
       "      <td>Number</td>\n",
       "      <td>27307</td>\n",
       "    </tr>\n",
       "    <tr>\n",
       "      <th>7</th>\n",
       "      <td>1926</td>\n",
       "      <td>001</td>\n",
       "      <td>1 year</td>\n",
       "      <td>1</td>\n",
       "      <td>Male</td>\n",
       "      <td>Number</td>\n",
       "      <td>28374</td>\n",
       "    </tr>\n",
       "    <tr>\n",
       "      <th>8</th>\n",
       "      <td>1926</td>\n",
       "      <td>001</td>\n",
       "      <td>1 year</td>\n",
       "      <td>2</td>\n",
       "      <td>Female</td>\n",
       "      <td>Number</td>\n",
       "      <td>27502</td>\n",
       "    </tr>\n",
       "    <tr>\n",
       "      <th>10</th>\n",
       "      <td>1926</td>\n",
       "      <td>002</td>\n",
       "      <td>2 years</td>\n",
       "      <td>1</td>\n",
       "      <td>Male</td>\n",
       "      <td>Number</td>\n",
       "      <td>29728</td>\n",
       "    </tr>\n",
       "    <tr>\n",
       "      <th>11</th>\n",
       "      <td>1926</td>\n",
       "      <td>002</td>\n",
       "      <td>2 years</td>\n",
       "      <td>2</td>\n",
       "      <td>Female</td>\n",
       "      <td>Number</td>\n",
       "      <td>28545</td>\n",
       "    </tr>\n",
       "    <tr>\n",
       "      <th>13</th>\n",
       "      <td>1926</td>\n",
       "      <td>003</td>\n",
       "      <td>3 years</td>\n",
       "      <td>1</td>\n",
       "      <td>Male</td>\n",
       "      <td>Number</td>\n",
       "      <td>29872</td>\n",
       "    </tr>\n",
       "  </tbody>\n",
       "</table>\n",
       "</div>"
      ],
      "text/plain": [
       "    Year Age category Single Year of Age Sex category     Sex    UNIT  VALUE\n",
       "4   1926          200       Under 1 year            1    Male  Number  28084\n",
       "5   1926          200       Under 1 year            2  Female  Number  27307\n",
       "7   1926          001             1 year            1    Male  Number  28374\n",
       "8   1926          001             1 year            2  Female  Number  27502\n",
       "10  1926          002            2 years            1    Male  Number  29728\n",
       "11  1926          002            2 years            2  Female  Number  28545\n",
       "13  1926          003            3 years            1    Male  Number  29872"
      ]
     },
     "execution_count": 318,
     "metadata": {},
     "output_type": "execute_result"
    }
   ],
   "source": [
    "population_df_outliers = population_df[(population_df['Single Year of Age'] != 'All ages') & (population_df['Sex'] != 'Both sexes')]\n",
    "population_df_outliers.head(7)"
   ]
  },
  {
   "cell_type": "code",
   "execution_count": 319,
   "metadata": {},
   "outputs": [
    {
     "name": "stdout",
     "output_type": "stream",
     "text": [
      "The first quartile is: 10576.75\n",
      "The third quartile is: 30243.0\n",
      "IQR range: 19666.25\n",
      "Total number of outliers: 0\n",
      "Percentage of outliers: 0.00%\n",
      "Minimum outlier value: nan\n",
      "Maximum outlier value: nan\n",
      "Lower bound for outliers: -18922.625\n",
      "Upper bound for outliers: 59742.375\n"
     ]
    }
   ],
   "source": [
    "pop_all_Q1 = population_df_outliers['VALUE'].quantile(0.25)\n",
    "pop_all_Q3 = population_df_outliers['VALUE'].quantile(0.75)\n",
    "pop_all_IQR = pop_all_Q3 - pop_all_Q1\n",
    "\n",
    "pop_all_lower_bound = pop_all_Q1 - 1.5 * pop_all_IQR\n",
    "pop_all_upper_bound = pop_all_Q3 + 1.5 * pop_all_IQR\n",
    "\n",
    "pop_all_outliers = population_df_outliers[(population_df_outliers['VALUE'] < pop_all_lower_bound) | (population_df_outliers['VALUE'] > pop_all_upper_bound)]\n",
    "\n",
    "print(f\"The first quartile is: {pop_all_Q1}\")\n",
    "print(f\"The third quartile is: {pop_all_Q3}\")\n",
    "print(f\"IQR range: {pop_all_IQR}\")\n",
    "print(f\"Total number of outliers: {pop_all_outliers.shape[0]}\")\n",
    "print(f\"Percentage of outliers: {(pop_all_outliers.shape[0] / population_df_outliers.shape[0]) * 100:.2f}%\")\n",
    "print(f\"Minimum outlier value: {pop_all_outliers['VALUE'].min()}\")\n",
    "print(f\"Maximum outlier value: {pop_all_outliers['VALUE'].max()}\")\n",
    "print(f\"Lower bound for outliers: {pop_all_lower_bound}\")\n",
    "print(f\"Upper bound for outliers: {pop_all_upper_bound}\")"
   ]
  },
  {
   "cell_type": "markdown",
   "metadata": {},
   "source": [
    "The first quartile is the value below which 25% of the data can be found. It is calculated using the .quantile(0.25) method, which returns the value at the 25th percentile.\n",
    "The third quartile is the value below which 75% of the data can be found. It's computed with .quantile(0.75), which returns the value at the 75th percentile.\n",
    "From there we can calculate the IQR which is a measure of dispersion. The IQR represents the middle 50% of the data and is used to measure the spread."
   ]
  },
  {
   "cell_type": "code",
   "execution_count": 320,
   "metadata": {},
   "outputs": [
    {
     "data": {
      "image/png": "[encoded data removed]",
      "text/plain": [
       "<Figure size 900x300 with 1 Axes>"
      ]
     },
     "metadata": {},
     "output_type": "display_data"
    }
   ],
   "source": [
    "plt.figure(figsize=(9, 3))\n",
    "sns.boxplot(x=population_df_outliers['VALUE'], color=\"lightgreen\", orient=\"h\")\n",
    "\n",
    "plt.axvline(x=pop_all_Q1, color='blue', linestyle='--', label=f\"Q1 ({pop_all_Q1:.2f})\")\n",
    "plt.axvline(x=population_df_outliers['VALUE'].median(), color='red', linestyle='--', label=f\"Median ({population_df_outliers['VALUE'].median():.2f})\")\n",
    "plt.axvline(x=pop_all_Q3, color='blue', linestyle='--', label=f\"Q3 ({pop_all_Q3:.2f})\")\n",
    "\n",
    "plt.title('Boxplot of Population Values')\n",
    "plt.xlabel('Population Value')\n",
    "plt.legend(loc='upper left', bbox_to_anchor=(1, 1))\n",
    "plt.tight_layout()\n",
    "plt.show()"
   ]
  },
  {
   "cell_type": "markdown",
   "metadata": {},
   "source": [
    "**Migration dataset**"
   ]
  },
  {
   "cell_type": "code",
   "execution_count": 321,
   "metadata": {},
   "outputs": [
    {
     "name": "stdout",
     "output_type": "stream",
     "text": [
      "Info: Based on the dataset all the values are in thousands\n",
      "\n",
      "The first quartile is: 1.8K\n",
      "The third quartile is: 10.2K\n",
      "IQR range: 8.40K\n",
      "Total number of outliers: 257\n",
      "Percentage of outliers: 12.21%\n",
      "Minimum outlier value: -43.9K\n",
      "Maximum outlier value: 151.1K\n",
      "Lower bound for outliers: -10.80K\n",
      "Upper bound for outliers: 22.80K\n"
     ]
    }
   ],
   "source": [
    "migration_Q1 = migration_df['VALUE'].quantile(0.25)\n",
    "migration_Q3 = migration_df['VALUE'].quantile(0.75)\n",
    "migration_IQR = migration_Q3 - migration_Q1\n",
    "\n",
    "migr_lower_bound = migration_Q1 - 1.5 * migration_IQR\n",
    "migr_upper_bound = migration_Q3 + 1.5 * migration_IQR\n",
    "\n",
    "migration_outliers = migration_df[(migration_df['VALUE'] < migr_lower_bound) | (migration_df['VALUE'] > migr_upper_bound)]\n",
    "\n",
    "print(\"Info: Based on the dataset all the values are in thousands\\n\")\n",
    "print(f\"The first quartile is: {migration_Q1}K\")\n",
    "print(f\"The third quartile is: {migration_Q3}K\")\n",
    "print(f\"IQR range: {migration_IQR:.2f}K\")\n",
    "print(f\"Total number of outliers: {migration_outliers.shape[0]}\")\n",
    "print(f\"Percentage of outliers: {(migration_outliers.shape[0] / migration_df.shape[0]) * 100:.2f}%\")\n",
    "print(f\"Minimum outlier value: {migration_outliers['VALUE'].min()}K\")\n",
    "print(f\"Maximum outlier value: {migration_outliers['VALUE'].max()}K\")\n",
    "print(f\"Lower bound for outliers: {migr_lower_bound:.2f}K\")\n",
    "print(f\"Upper bound for outliers: {migr_upper_bound:.2f}K\")\n"
   ]
  },
  {
   "cell_type": "code",
   "execution_count": 322,
   "metadata": {},
   "outputs": [
    {
     "data": {
      "image/png": "[encoded data removed]",
      "text/plain": [
       "<Figure size 1200x400 with 1 Axes>"
      ]
     },
     "metadata": {},
     "output_type": "display_data"
    }
   ],
   "source": [
    "plt.figure(figsize=(12, 4))\n",
    "sns.boxplot(x=migration_df['VALUE'], color=\"lightgreen\", orient=\"h\")\n",
    "\n",
    "plt.axvline(x=migration_Q1, color='blue', linestyle='--', label=f\"Q1 ({migration_Q1:.2f})\")\n",
    "plt.axvline(x=migration_df['VALUE'].median(), color='red', linestyle='--', label=f\"Median ({migration_df['VALUE'].median():.2f})\")\n",
    "plt.axvline(x=migration_Q3, color='blue', linestyle='--', label=f\"Q3 ({migration_Q3:.2f})\")\n",
    "\n",
    "plt.title(\"Horizontal Boxplot of Migration Estimates (VALUE column) with Quartiles and Outliers\")\n",
    "plt.xlabel(\"Migration Count\")\n",
    "plt.legend(loc='upper left', bbox_to_anchor=(1, 1))\n",
    "plt.tight_layout()\n",
    "plt.show()"
   ]
  },
  {
   "cell_type": "markdown",
   "metadata": {},
   "source": [
    "The same behaviour is present in the migration dataset. We have rows that give us the sum for 'All countries' and 'Both sexes', which results in higer values for the 'VALUE' column. Those are not errors, but the data is aggregated on a different level. Creating a new dataframe showing the Migration for 'All countries' and 'Both sexes' will be used in the analysis, and a second dataframe that will give us the breakdown by country and sex. "
   ]
  },
  {
   "cell_type": "code",
   "execution_count": 323,
   "metadata": {},
   "outputs": [
    {
     "data": {
      "text/html": [
       "<div>\n",
       "<style scoped>\n",
       "    .dataframe tbody tr th:only-of-type {\n",
       "        vertical-align: middle;\n",
       "    }\n",
       "\n",
       "    .dataframe tbody tr th {\n",
       "        vertical-align: top;\n",
       "    }\n",
       "\n",
       "    .dataframe thead th {\n",
       "        text-align: right;\n",
       "    }\n",
       "</style>\n",
       "<table border=\"1\" class=\"dataframe\">\n",
       "  <thead>\n",
       "    <tr style=\"text-align: right;\">\n",
       "      <th></th>\n",
       "      <th>Year</th>\n",
       "      <th>Country category</th>\n",
       "      <th>Country</th>\n",
       "      <th>Sex category</th>\n",
       "      <th>Sex</th>\n",
       "      <th>Migration label</th>\n",
       "      <th>Origin or Destination</th>\n",
       "      <th>UNIT</th>\n",
       "      <th>VALUE</th>\n",
       "    </tr>\n",
       "  </thead>\n",
       "  <tbody>\n",
       "    <tr>\n",
       "      <th>48</th>\n",
       "      <td>1987</td>\n",
       "      <td>-</td>\n",
       "      <td>All countries</td>\n",
       "      <td>1</td>\n",
       "      <td>Male</td>\n",
       "      <td>1</td>\n",
       "      <td>Net migration</td>\n",
       "      <td>Thousand</td>\n",
       "      <td>-13.6</td>\n",
       "    </tr>\n",
       "    <tr>\n",
       "      <th>51</th>\n",
       "      <td>1987</td>\n",
       "      <td>-</td>\n",
       "      <td>All countries</td>\n",
       "      <td>2</td>\n",
       "      <td>Female</td>\n",
       "      <td>1</td>\n",
       "      <td>Net migration</td>\n",
       "      <td>Thousand</td>\n",
       "      <td>-15.1</td>\n",
       "    </tr>\n",
       "    <tr>\n",
       "      <th>120</th>\n",
       "      <td>1988</td>\n",
       "      <td>-</td>\n",
       "      <td>All countries</td>\n",
       "      <td>1</td>\n",
       "      <td>Male</td>\n",
       "      <td>1</td>\n",
       "      <td>Net migration</td>\n",
       "      <td>Thousand</td>\n",
       "      <td>-24.2</td>\n",
       "    </tr>\n",
       "    <tr>\n",
       "      <th>123</th>\n",
       "      <td>1988</td>\n",
       "      <td>-</td>\n",
       "      <td>All countries</td>\n",
       "      <td>2</td>\n",
       "      <td>Female</td>\n",
       "      <td>1</td>\n",
       "      <td>Net migration</td>\n",
       "      <td>Thousand</td>\n",
       "      <td>-26.7</td>\n",
       "    </tr>\n",
       "    <tr>\n",
       "      <th>192</th>\n",
       "      <td>1989</td>\n",
       "      <td>-</td>\n",
       "      <td>All countries</td>\n",
       "      <td>1</td>\n",
       "      <td>Male</td>\n",
       "      <td>1</td>\n",
       "      <td>Net migration</td>\n",
       "      <td>Thousand</td>\n",
       "      <td>-25.6</td>\n",
       "    </tr>\n",
       "    <tr>\n",
       "      <th>...</th>\n",
       "      <td>...</td>\n",
       "      <td>...</td>\n",
       "      <td>...</td>\n",
       "      <td>...</td>\n",
       "      <td>...</td>\n",
       "      <td>...</td>\n",
       "      <td>...</td>\n",
       "      <td>...</td>\n",
       "      <td>...</td>\n",
       "    </tr>\n",
       "    <tr>\n",
       "      <th>2499</th>\n",
       "      <td>2021</td>\n",
       "      <td>-</td>\n",
       "      <td>All countries</td>\n",
       "      <td>2</td>\n",
       "      <td>Female</td>\n",
       "      <td>1</td>\n",
       "      <td>Net migration</td>\n",
       "      <td>Thousand</td>\n",
       "      <td>11.0</td>\n",
       "    </tr>\n",
       "    <tr>\n",
       "      <th>2568</th>\n",
       "      <td>2022</td>\n",
       "      <td>-</td>\n",
       "      <td>All countries</td>\n",
       "      <td>1</td>\n",
       "      <td>Male</td>\n",
       "      <td>1</td>\n",
       "      <td>Net migration</td>\n",
       "      <td>Thousand</td>\n",
       "      <td>19.6</td>\n",
       "    </tr>\n",
       "    <tr>\n",
       "      <th>2571</th>\n",
       "      <td>2022</td>\n",
       "      <td>-</td>\n",
       "      <td>All countries</td>\n",
       "      <td>2</td>\n",
       "      <td>Female</td>\n",
       "      <td>1</td>\n",
       "      <td>Net migration</td>\n",
       "      <td>Thousand</td>\n",
       "      <td>32.1</td>\n",
       "    </tr>\n",
       "    <tr>\n",
       "      <th>2640</th>\n",
       "      <td>2023</td>\n",
       "      <td>-</td>\n",
       "      <td>All countries</td>\n",
       "      <td>1</td>\n",
       "      <td>Male</td>\n",
       "      <td>1</td>\n",
       "      <td>Net migration</td>\n",
       "      <td>Thousand</td>\n",
       "      <td>35.1</td>\n",
       "    </tr>\n",
       "    <tr>\n",
       "      <th>2643</th>\n",
       "      <td>2023</td>\n",
       "      <td>-</td>\n",
       "      <td>All countries</td>\n",
       "      <td>2</td>\n",
       "      <td>Female</td>\n",
       "      <td>1</td>\n",
       "      <td>Net migration</td>\n",
       "      <td>Thousand</td>\n",
       "      <td>42.6</td>\n",
       "    </tr>\n",
       "  </tbody>\n",
       "</table>\n",
       "<p>74 rows × 9 columns</p>\n",
       "</div>"
      ],
      "text/plain": [
       "      Year Country category        Country Sex category     Sex  \\\n",
       "48    1987                -  All countries            1    Male   \n",
       "51    1987                -  All countries            2  Female   \n",
       "120   1988                -  All countries            1    Male   \n",
       "123   1988                -  All countries            2  Female   \n",
       "192   1989                -  All countries            1    Male   \n",
       "...    ...              ...            ...          ...     ...   \n",
       "2499  2021                -  All countries            2  Female   \n",
       "2568  2022                -  All countries            1    Male   \n",
       "2571  2022                -  All countries            2  Female   \n",
       "2640  2023                -  All countries            1    Male   \n",
       "2643  2023                -  All countries            2  Female   \n",
       "\n",
       "     Migration label Origin or Destination      UNIT  VALUE  \n",
       "48                 1         Net migration  Thousand  -13.6  \n",
       "51                 1         Net migration  Thousand  -15.1  \n",
       "120                1         Net migration  Thousand  -24.2  \n",
       "123                1         Net migration  Thousand  -26.7  \n",
       "192                1         Net migration  Thousand  -25.6  \n",
       "...              ...                   ...       ...    ...  \n",
       "2499               1         Net migration  Thousand   11.0  \n",
       "2568               1         Net migration  Thousand   19.6  \n",
       "2571               1         Net migration  Thousand   32.1  \n",
       "2640               1         Net migration  Thousand   35.1  \n",
       "2643               1         Net migration  Thousand   42.6  \n",
       "\n",
       "[74 rows x 9 columns]"
      ]
     },
     "execution_count": 323,
     "metadata": {},
     "output_type": "execute_result"
    }
   ],
   "source": [
    "migration_df_outliers = migration_df[\n",
    "    (migration_df['Sex'] != 'Both sexes') & \n",
    "    (migration_df['Country'] == 'All countries') & \n",
    "    (migration_df['Origin or Destination'] == 'Net migration')]\n",
    "\n",
    "migration_df_outliers"
   ]
  },
  {
   "cell_type": "code",
   "execution_count": 324,
   "metadata": {},
   "outputs": [
    {
     "name": "stdout",
     "output_type": "stream",
     "text": [
      "Info: Base on the dataset all the values are in thousands\n",
      "\n",
      "The first quartile is: -4.675K\n",
      "The third quartile is: 20.725K\n",
      "IQR range: 25.40K\n",
      "Total number of outliers: 0\n",
      "Percentage of outliers: 0.00%\n",
      "Minimum outlier value: nan\n",
      "Maximum outlier value: nan\n",
      "Lower bound for outliers: -10.80K\n",
      "Upper bound for outliers: 22.80K\n"
     ]
    }
   ],
   "source": [
    "migr_net_Q1 = migration_df_outliers['VALUE'].quantile(0.25)\n",
    "migr_net_Q3 = migration_df_outliers['VALUE'].quantile(0.75)\n",
    "\n",
    "migr_net_IQR = migr_net_Q3 - migr_net_Q1\n",
    "\n",
    "migr_net_lower_bound = migr_net_Q1 - 1.5 * migr_net_IQR\n",
    "migr_net_upper_bound = migr_net_Q3 + 1.5 * migr_net_IQR\n",
    "\n",
    "migration_net_outliers = migration_df_outliers[(migration_df_outliers['VALUE'] < migr_net_lower_bound) | (migration_df_outliers['VALUE'] > migr_net_upper_bound)]\n",
    "\n",
    "print(\"Info: Base on the dataset all the values are in thousands\\n\")\n",
    "print(f\"The first quartile is: {migr_net_Q1}K\")\n",
    "print(f\"The third quartile is: {migr_net_Q3}K\")\n",
    "print(f\"IQR range: {migr_net_IQR:.2f}K\")\n",
    "print(f\"Total number of outliers: {migration_net_outliers.shape[0]}\")\n",
    "print(f\"Percentage of outliers: {(migration_net_outliers.shape[0] / migration_df_outliers.shape[0]) * 100:.2f}%\")\n",
    "print(f\"Minimum outlier value: {migration_net_outliers['VALUE'].min()}\")\n",
    "print(f\"Maximum outlier value: {migration_net_outliers['VALUE'].max()}\")\n",
    "print(f\"Lower bound for outliers: {migr_lower_bound:.2f}K\")\n",
    "print(f\"Upper bound for outliers: {migr_upper_bound:.2f}K\")"
   ]
  },
  {
   "cell_type": "code",
   "execution_count": 325,
   "metadata": {},
   "outputs": [
    {
     "data": {
      "image/png": "[encoded data removed]",
      "text/plain": [
       "<Figure size 900x300 with 1 Axes>"
      ]
     },
     "metadata": {},
     "output_type": "display_data"
    }
   ],
   "source": [
    "plt.figure(figsize=(9, 3))\n",
    "sns.boxplot(x=migration_df_outliers['VALUE'], color=\"lightgreen\", orient=\"h\")\n",
    "\n",
    "plt.axvline(x=migr_net_Q1, color='blue', linestyle='--', label=f\"Q1 ({pop_all_Q1:.2f})\")\n",
    "plt.axvline(x=migration_df_outliers['VALUE'].median(), color='red', linestyle='--', label=f\"Median ({migration_df_outliers['VALUE'].median():.2f})\")\n",
    "plt.axvline(x=migr_net_Q3, color='blue', linestyle='--', label=f\"Q3 ({migr_net_Q3:.2f})\")\n",
    "\n",
    "plt.title('Boxplot of Population Values')\n",
    "plt.xlabel('Population Value in Thousand')\n",
    "plt.legend(loc='upper left', bbox_to_anchor=(1, 1))\n",
    "plt.tight_layout()\n",
    "plt.show()"
   ]
  },
  {
   "cell_type": "markdown",
   "metadata": {},
   "source": [
    "### Generate summary statistics, including measures of central tendency and variability."
   ]
  },
  {
   "cell_type": "markdown",
   "metadata": {},
   "source": [
    "##### Population dataset"
   ]
  },
  {
   "cell_type": "markdown",
   "metadata": {},
   "source": [
    "Visualizing overall statistics of the columns with numeric values."
   ]
  },
  {
   "cell_type": "code",
   "execution_count": 326,
   "metadata": {},
   "outputs": [
    {
     "data": {
      "text/html": [
       "<div>\n",
       "<style scoped>\n",
       "    .dataframe tbody tr th:only-of-type {\n",
       "        vertical-align: middle;\n",
       "    }\n",
       "\n",
       "    .dataframe tbody tr th {\n",
       "        vertical-align: top;\n",
       "    }\n",
       "\n",
       "    .dataframe thead th {\n",
       "        text-align: right;\n",
       "    }\n",
       "</style>\n",
       "<table border=\"1\" class=\"dataframe\">\n",
       "  <thead>\n",
       "    <tr style=\"text-align: right;\">\n",
       "      <th></th>\n",
       "      <th>Year</th>\n",
       "      <th>VALUE</th>\n",
       "    </tr>\n",
       "  </thead>\n",
       "  <tbody>\n",
       "    <tr>\n",
       "      <th>count</th>\n",
       "      <td>11817.000000</td>\n",
       "      <td>1.181700e+04</td>\n",
       "    </tr>\n",
       "    <tr>\n",
       "      <th>mean</th>\n",
       "      <td>1996.410256</td>\n",
       "      <td>5.352461e+04</td>\n",
       "    </tr>\n",
       "    <tr>\n",
       "      <th>std</th>\n",
       "      <td>24.463165</td>\n",
       "      <td>2.867754e+05</td>\n",
       "    </tr>\n",
       "    <tr>\n",
       "      <th>min</th>\n",
       "      <td>1926.000000</td>\n",
       "      <td>6.000000e+00</td>\n",
       "    </tr>\n",
       "    <tr>\n",
       "      <th>25%</th>\n",
       "      <td>1986.000000</td>\n",
       "      <td>1.242700e+04</td>\n",
       "    </tr>\n",
       "    <tr>\n",
       "      <th>50%</th>\n",
       "      <td>2004.000000</td>\n",
       "      <td>2.667500e+04</td>\n",
       "    </tr>\n",
       "    <tr>\n",
       "      <th>75%</th>\n",
       "      <td>2014.000000</td>\n",
       "      <td>3.557700e+04</td>\n",
       "    </tr>\n",
       "    <tr>\n",
       "      <th>max</th>\n",
       "      <td>2023.000000</td>\n",
       "      <td>5.281612e+06</td>\n",
       "    </tr>\n",
       "  </tbody>\n",
       "</table>\n",
       "</div>"
      ],
      "text/plain": [
       "               Year         VALUE\n",
       "count  11817.000000  1.181700e+04\n",
       "mean    1996.410256  5.352461e+04\n",
       "std       24.463165  2.867754e+05\n",
       "min     1926.000000  6.000000e+00\n",
       "25%     1986.000000  1.242700e+04\n",
       "50%     2004.000000  2.667500e+04\n",
       "75%     2014.000000  3.557700e+04\n",
       "max     2023.000000  5.281612e+06"
      ]
     },
     "execution_count": 326,
     "metadata": {},
     "output_type": "execute_result"
    }
   ],
   "source": [
    "population_df.describe()"
   ]
  },
  {
   "cell_type": "markdown",
   "metadata": {},
   "source": [
    "Preparing and visualizing overall statistics about the population separated by 'sex' - male and female."
   ]
  },
  {
   "cell_type": "code",
   "execution_count": 327,
   "metadata": {},
   "outputs": [],
   "source": [
    "population_male_data = population_df[(population_df['Sex'] == 'Male') & (population_df['Single Year of Age'] == 'All ages')]\n",
    "population_female_data = population_df[(population_df['Sex'] == 'Female') & (population_df['Single Year of Age'] == 'All ages')]\n",
    "pop_unq_years = population_df['Year'].unique()\n",
    "pop_male_values = population_male_data['VALUE'].values\n",
    "pop_female_values = population_female_data['VALUE'].values"
   ]
  },
  {
   "cell_type": "code",
   "execution_count": 328,
   "metadata": {},
   "outputs": [
    {
     "data": {
      "text/html": [
       "<div>\n",
       "<style scoped>\n",
       "    .dataframe tbody tr th:only-of-type {\n",
       "        vertical-align: middle;\n",
       "    }\n",
       "\n",
       "    .dataframe tbody tr th {\n",
       "        vertical-align: top;\n",
       "    }\n",
       "\n",
       "    .dataframe thead th {\n",
       "        text-align: right;\n",
       "    }\n",
       "</style>\n",
       "<table border=\"1\" class=\"dataframe\">\n",
       "  <thead>\n",
       "    <tr style=\"text-align: right;\">\n",
       "      <th></th>\n",
       "      <th>Year</th>\n",
       "      <th>Male Population</th>\n",
       "      <th>Female Population</th>\n",
       "    </tr>\n",
       "  </thead>\n",
       "  <tbody>\n",
       "    <tr>\n",
       "      <th>0</th>\n",
       "      <td>1926</td>\n",
       "      <td>1506889</td>\n",
       "      <td>1465103</td>\n",
       "    </tr>\n",
       "    <tr>\n",
       "      <th>1</th>\n",
       "      <td>1936</td>\n",
       "      <td>1520454</td>\n",
       "      <td>1447966</td>\n",
       "    </tr>\n",
       "    <tr>\n",
       "      <th>2</th>\n",
       "      <td>1946</td>\n",
       "      <td>1494877</td>\n",
       "      <td>1460230</td>\n",
       "    </tr>\n",
       "    <tr>\n",
       "      <th>3</th>\n",
       "      <td>1951</td>\n",
       "      <td>1506597</td>\n",
       "      <td>1453996</td>\n",
       "    </tr>\n",
       "    <tr>\n",
       "      <th>4</th>\n",
       "      <td>1961</td>\n",
       "      <td>1416549</td>\n",
       "      <td>1401792</td>\n",
       "    </tr>\n",
       "    <tr>\n",
       "      <th>5</th>\n",
       "      <td>1966</td>\n",
       "      <td>1449032</td>\n",
       "      <td>1434970</td>\n",
       "    </tr>\n",
       "    <tr>\n",
       "      <th>6</th>\n",
       "      <td>1971</td>\n",
       "      <td>1495760</td>\n",
       "      <td>1482488</td>\n",
       "    </tr>\n",
       "  </tbody>\n",
       "</table>\n",
       "</div>"
      ],
      "text/plain": [
       "   Year  Male Population  Female Population\n",
       "0  1926          1506889            1465103\n",
       "1  1936          1520454            1447966\n",
       "2  1946          1494877            1460230\n",
       "3  1951          1506597            1453996\n",
       "4  1961          1416549            1401792\n",
       "5  1966          1449032            1434970\n",
       "6  1971          1495760            1482488"
      ]
     },
     "execution_count": 328,
     "metadata": {},
     "output_type": "execute_result"
    }
   ],
   "source": [
    "population_table = pd.DataFrame({'Year': pop_unq_years, 'Male Population': pop_male_values, 'Female Population': pop_female_values})\n",
    "population_table.head(7)"
   ]
  },
  {
   "cell_type": "code",
   "execution_count": 329,
   "metadata": {},
   "outputs": [
    {
     "data": {
      "image/png": "[encoded data removed]",
      "text/plain": [
       "<Figure size 1200x600 with 1 Axes>"
      ]
     },
     "metadata": {},
     "output_type": "display_data"
    }
   ],
   "source": [
    "plt.figure(figsize=(12, 6))\n",
    "plt.plot(pop_unq_years, pop_male_values, label='Male Population', marker='s')\n",
    "plt.plot(pop_unq_years, pop_female_values, label='Female Population', marker='o')\n",
    "\n",
    "plt.xlabel('Year')\n",
    "plt.ylabel('Population')\n",
    "plt.title('Population Over the Years for Males and Females')\n",
    "\n",
    "plt.legend()\n",
    "plt.grid(True, linestyle='--', linewidth=0.5)\n",
    "tick_interval = 5\n",
    "xticks = [pop_unq_years[0], pop_unq_years[-1]] + list(range(pop_unq_years[0] + tick_interval, pop_unq_years[-1], tick_interval))\n",
    "plt.xticks(xticks, rotation = 90)\n",
    "\n",
    "plt.gca().yaxis.set_major_formatter(FuncFormatter(millions_formatter))\n",
    "plt.legend(title='Sex', loc='upper left', bbox_to_anchor=(1, 1))\n",
    "plt.show()"
   ]
  },
  {
   "cell_type": "markdown",
   "metadata": {},
   "source": [
    "The comprehensive population trends in Ireland reveal a steady increase in both male and female populations over the years."
   ]
  },
  {
   "cell_type": "markdown",
   "metadata": {},
   "source": [
    "For practical purposes I'll cut and work with data between 1996 and 2023 for both datasets. As we do not have consistent data for the population before 1996 (from the population_table above we can see that we have data for 1926, then for 1936), I will only be working with the data starting from 1996. Same was applied for the migration data, so that we can have the same values for the Year column for the machine learning."
   ]
  },
  {
   "cell_type": "code",
   "execution_count": 330,
   "metadata": {},
   "outputs": [],
   "source": [
    "population_df_1996 = population_df[(population_df['Year'] >= 1996)]\n",
    "migration_df_1996 = migration_df[(migration_df['Year'] >= 1996)]"
   ]
  },
  {
   "cell_type": "code",
   "execution_count": 331,
   "metadata": {},
   "outputs": [
    {
     "data": {
      "text/html": [
       "<div>\n",
       "<style scoped>\n",
       "    .dataframe tbody tr th:only-of-type {\n",
       "        vertical-align: middle;\n",
       "    }\n",
       "\n",
       "    .dataframe tbody tr th {\n",
       "        vertical-align: top;\n",
       "    }\n",
       "\n",
       "    .dataframe thead th {\n",
       "        text-align: right;\n",
       "    }\n",
       "</style>\n",
       "<table border=\"1\" class=\"dataframe\">\n",
       "  <thead>\n",
       "    <tr style=\"text-align: right;\">\n",
       "      <th></th>\n",
       "      <th>Years</th>\n",
       "      <th>Emigrants</th>\n",
       "      <th>Immigrants</th>\n",
       "      <th>Net migration</th>\n",
       "    </tr>\n",
       "  </thead>\n",
       "  <tbody>\n",
       "    <tr>\n",
       "      <th>0</th>\n",
       "      <td>1987</td>\n",
       "      <td>40.2</td>\n",
       "      <td>17.2</td>\n",
       "      <td>-23.0</td>\n",
       "    </tr>\n",
       "    <tr>\n",
       "      <th>1</th>\n",
       "      <td>1988</td>\n",
       "      <td>61.1</td>\n",
       "      <td>19.2</td>\n",
       "      <td>-41.9</td>\n",
       "    </tr>\n",
       "    <tr>\n",
       "      <th>2</th>\n",
       "      <td>1989</td>\n",
       "      <td>70.6</td>\n",
       "      <td>26.7</td>\n",
       "      <td>-43.9</td>\n",
       "    </tr>\n",
       "    <tr>\n",
       "      <th>3</th>\n",
       "      <td>1990</td>\n",
       "      <td>56.3</td>\n",
       "      <td>33.3</td>\n",
       "      <td>-22.9</td>\n",
       "    </tr>\n",
       "    <tr>\n",
       "      <th>4</th>\n",
       "      <td>1991</td>\n",
       "      <td>35.3</td>\n",
       "      <td>33.3</td>\n",
       "      <td>-2.0</td>\n",
       "    </tr>\n",
       "    <tr>\n",
       "      <th>5</th>\n",
       "      <td>1992</td>\n",
       "      <td>33.4</td>\n",
       "      <td>40.7</td>\n",
       "      <td>7.4</td>\n",
       "    </tr>\n",
       "    <tr>\n",
       "      <th>6</th>\n",
       "      <td>1993</td>\n",
       "      <td>35.1</td>\n",
       "      <td>34.7</td>\n",
       "      <td>-0.4</td>\n",
       "    </tr>\n",
       "    <tr>\n",
       "      <th>7</th>\n",
       "      <td>1994</td>\n",
       "      <td>34.8</td>\n",
       "      <td>30.1</td>\n",
       "      <td>-4.7</td>\n",
       "    </tr>\n",
       "    <tr>\n",
       "      <th>8</th>\n",
       "      <td>1995</td>\n",
       "      <td>33.1</td>\n",
       "      <td>31.2</td>\n",
       "      <td>-1.9</td>\n",
       "    </tr>\n",
       "    <tr>\n",
       "      <th>9</th>\n",
       "      <td>1996</td>\n",
       "      <td>31.2</td>\n",
       "      <td>39.2</td>\n",
       "      <td>8.0</td>\n",
       "    </tr>\n",
       "    <tr>\n",
       "      <th>10</th>\n",
       "      <td>1997</td>\n",
       "      <td>25.3</td>\n",
       "      <td>44.5</td>\n",
       "      <td>19.2</td>\n",
       "    </tr>\n",
       "    <tr>\n",
       "      <th>11</th>\n",
       "      <td>1998</td>\n",
       "      <td>28.6</td>\n",
       "      <td>46.0</td>\n",
       "      <td>17.4</td>\n",
       "    </tr>\n",
       "    <tr>\n",
       "      <th>12</th>\n",
       "      <td>1999</td>\n",
       "      <td>31.5</td>\n",
       "      <td>48.9</td>\n",
       "      <td>17.3</td>\n",
       "    </tr>\n",
       "    <tr>\n",
       "      <th>13</th>\n",
       "      <td>2000</td>\n",
       "      <td>26.6</td>\n",
       "      <td>52.6</td>\n",
       "      <td>26.0</td>\n",
       "    </tr>\n",
       "    <tr>\n",
       "      <th>14</th>\n",
       "      <td>2001</td>\n",
       "      <td>26.2</td>\n",
       "      <td>59.0</td>\n",
       "      <td>32.8</td>\n",
       "    </tr>\n",
       "    <tr>\n",
       "      <th>15</th>\n",
       "      <td>2002</td>\n",
       "      <td>25.6</td>\n",
       "      <td>66.9</td>\n",
       "      <td>41.3</td>\n",
       "    </tr>\n",
       "    <tr>\n",
       "      <th>16</th>\n",
       "      <td>2003</td>\n",
       "      <td>29.3</td>\n",
       "      <td>60.0</td>\n",
       "      <td>30.7</td>\n",
       "    </tr>\n",
       "    <tr>\n",
       "      <th>17</th>\n",
       "      <td>2004</td>\n",
       "      <td>26.5</td>\n",
       "      <td>58.5</td>\n",
       "      <td>32.0</td>\n",
       "    </tr>\n",
       "    <tr>\n",
       "      <th>18</th>\n",
       "      <td>2005</td>\n",
       "      <td>29.4</td>\n",
       "      <td>84.6</td>\n",
       "      <td>55.1</td>\n",
       "    </tr>\n",
       "    <tr>\n",
       "      <th>19</th>\n",
       "      <td>2006</td>\n",
       "      <td>36.0</td>\n",
       "      <td>107.8</td>\n",
       "      <td>71.8</td>\n",
       "    </tr>\n",
       "    <tr>\n",
       "      <th>20</th>\n",
       "      <td>2007</td>\n",
       "      <td>46.3</td>\n",
       "      <td>151.1</td>\n",
       "      <td>104.8</td>\n",
       "    </tr>\n",
       "    <tr>\n",
       "      <th>21</th>\n",
       "      <td>2008</td>\n",
       "      <td>49.2</td>\n",
       "      <td>113.5</td>\n",
       "      <td>64.3</td>\n",
       "    </tr>\n",
       "    <tr>\n",
       "      <th>22</th>\n",
       "      <td>2009</td>\n",
       "      <td>72.0</td>\n",
       "      <td>73.7</td>\n",
       "      <td>1.6</td>\n",
       "    </tr>\n",
       "    <tr>\n",
       "      <th>23</th>\n",
       "      <td>2010</td>\n",
       "      <td>69.2</td>\n",
       "      <td>41.8</td>\n",
       "      <td>-27.5</td>\n",
       "    </tr>\n",
       "    <tr>\n",
       "      <th>24</th>\n",
       "      <td>2011</td>\n",
       "      <td>80.6</td>\n",
       "      <td>53.3</td>\n",
       "      <td>-27.4</td>\n",
       "    </tr>\n",
       "    <tr>\n",
       "      <th>25</th>\n",
       "      <td>2012</td>\n",
       "      <td>83.0</td>\n",
       "      <td>57.3</td>\n",
       "      <td>-25.7</td>\n",
       "    </tr>\n",
       "    <tr>\n",
       "      <th>26</th>\n",
       "      <td>2013</td>\n",
       "      <td>81.3</td>\n",
       "      <td>62.7</td>\n",
       "      <td>-18.7</td>\n",
       "    </tr>\n",
       "    <tr>\n",
       "      <th>27</th>\n",
       "      <td>2014</td>\n",
       "      <td>75.0</td>\n",
       "      <td>66.5</td>\n",
       "      <td>-8.5</td>\n",
       "    </tr>\n",
       "    <tr>\n",
       "      <th>28</th>\n",
       "      <td>2015</td>\n",
       "      <td>70.0</td>\n",
       "      <td>75.9</td>\n",
       "      <td>5.9</td>\n",
       "    </tr>\n",
       "    <tr>\n",
       "      <th>29</th>\n",
       "      <td>2016</td>\n",
       "      <td>66.2</td>\n",
       "      <td>82.3</td>\n",
       "      <td>16.2</td>\n",
       "    </tr>\n",
       "    <tr>\n",
       "      <th>30</th>\n",
       "      <td>2017</td>\n",
       "      <td>56.1</td>\n",
       "      <td>95.3</td>\n",
       "      <td>39.2</td>\n",
       "    </tr>\n",
       "    <tr>\n",
       "      <th>31</th>\n",
       "      <td>2018</td>\n",
       "      <td>51.6</td>\n",
       "      <td>96.0</td>\n",
       "      <td>44.4</td>\n",
       "    </tr>\n",
       "    <tr>\n",
       "      <th>32</th>\n",
       "      <td>2019</td>\n",
       "      <td>53.1</td>\n",
       "      <td>97.1</td>\n",
       "      <td>44.0</td>\n",
       "    </tr>\n",
       "    <tr>\n",
       "      <th>33</th>\n",
       "      <td>2020</td>\n",
       "      <td>50.9</td>\n",
       "      <td>95.6</td>\n",
       "      <td>44.7</td>\n",
       "    </tr>\n",
       "    <tr>\n",
       "      <th>34</th>\n",
       "      <td>2021</td>\n",
       "      <td>52.3</td>\n",
       "      <td>74.1</td>\n",
       "      <td>21.8</td>\n",
       "    </tr>\n",
       "    <tr>\n",
       "      <th>35</th>\n",
       "      <td>2022</td>\n",
       "      <td>56.1</td>\n",
       "      <td>107.8</td>\n",
       "      <td>51.7</td>\n",
       "    </tr>\n",
       "    <tr>\n",
       "      <th>36</th>\n",
       "      <td>2023</td>\n",
       "      <td>64.0</td>\n",
       "      <td>141.6</td>\n",
       "      <td>77.7</td>\n",
       "    </tr>\n",
       "  </tbody>\n",
       "</table>\n",
       "</div>"
      ],
      "text/plain": [
       "    Years  Emigrants  Immigrants  Net migration\n",
       "0    1987       40.2        17.2          -23.0\n",
       "1    1988       61.1        19.2          -41.9\n",
       "2    1989       70.6        26.7          -43.9\n",
       "3    1990       56.3        33.3          -22.9\n",
       "4    1991       35.3        33.3           -2.0\n",
       "5    1992       33.4        40.7            7.4\n",
       "6    1993       35.1        34.7           -0.4\n",
       "7    1994       34.8        30.1           -4.7\n",
       "8    1995       33.1        31.2           -1.9\n",
       "9    1996       31.2        39.2            8.0\n",
       "10   1997       25.3        44.5           19.2\n",
       "11   1998       28.6        46.0           17.4\n",
       "12   1999       31.5        48.9           17.3\n",
       "13   2000       26.6        52.6           26.0\n",
       "14   2001       26.2        59.0           32.8\n",
       "15   2002       25.6        66.9           41.3\n",
       "16   2003       29.3        60.0           30.7\n",
       "17   2004       26.5        58.5           32.0\n",
       "18   2005       29.4        84.6           55.1\n",
       "19   2006       36.0       107.8           71.8\n",
       "20   2007       46.3       151.1          104.8\n",
       "21   2008       49.2       113.5           64.3\n",
       "22   2009       72.0        73.7            1.6\n",
       "23   2010       69.2        41.8          -27.5\n",
       "24   2011       80.6        53.3          -27.4\n",
       "25   2012       83.0        57.3          -25.7\n",
       "26   2013       81.3        62.7          -18.7\n",
       "27   2014       75.0        66.5           -8.5\n",
       "28   2015       70.0        75.9            5.9\n",
       "29   2016       66.2        82.3           16.2\n",
       "30   2017       56.1        95.3           39.2\n",
       "31   2018       51.6        96.0           44.4\n",
       "32   2019       53.1        97.1           44.0\n",
       "33   2020       50.9        95.6           44.7\n",
       "34   2021       52.3        74.1           21.8\n",
       "35   2022       56.1       107.8           51.7\n",
       "36   2023       64.0       141.6           77.7"
      ]
     },
     "execution_count": 331,
     "metadata": {},
     "output_type": "execute_result"
    }
   ],
   "source": [
    "emigrants = migration_df[(migration_df['Origin or Destination'] == 'Emigrants: All destinations') & (migration_df['Sex'] == 'Both sexes') & (migration_df['VALUE'] != 'NaN') & (migration_df['Country'] == 'All countries')]\n",
    "immigrants = migration_df[(migration_df['Origin or Destination'] == 'Immigrants: All origins') & (migration_df['Sex'] == 'Both sexes') & (migration_df['VALUE'] != 'NaN') & (migration_df['Country'] == 'All countries')]\n",
    "net_migration = migration_df[(migration_df['Origin or Destination'] == 'Net migration') & (migration_df['Sex'] == 'Both sexes') & (migration_df['VALUE'] != 'NaN') & (migration_df['Country'] == 'All countries')]\n",
    "migration_years = migration_df['Year'].unique()\n",
    "emigrants_values = emigrants['VALUE'].values\n",
    "immigrants_values = immigrants['VALUE'].values\n",
    "net_migration_values = net_migration['VALUE'].values\n",
    "\n",
    "emigration_and_migration = pd.DataFrame({'Years': migration_years, 'Emigrants': emigrants_values, 'Immigrants': immigrants_values, 'Net migration': net_migration_values})\n",
    "\n",
    "emigration_and_migration"
   ]
  },
  {
   "cell_type": "code",
   "execution_count": 332,
   "metadata": {},
   "outputs": [
    {
     "data": {
      "image/png": "[encoded data removed]",
      "text/plain": [
       "<Figure size 1200x600 with 1 Axes>"
      ]
     },
     "metadata": {},
     "output_type": "display_data"
    }
   ],
   "source": [
    "plt.figure(figsize=(12, 6))\n",
    "plt.plot(migration_years, emigrants_values, label='Emigrants', marker='')\n",
    "plt.plot(migration_years, immigrants_values, label='Immigrants', marker='')\n",
    "plt.plot(migration_years, net_migration_values, label='Net migration', linestyle = '--', marker='')\n",
    "plt.xlabel('Year')\n",
    "plt.ylabel('Migrants in thousands')\n",
    "plt.title('Emigrants and Immigrants vs. Net Migration Over the Years')\n",
    "plt.legend()\n",
    "plt.grid(True, linestyle='--', linewidth=0.5)\n",
    "tick_interval = 4\n",
    "xticks = [migration_years[0], migration_years[-1]] + list(range(migration_years[0] + tick_interval, migration_years[-1], tick_interval))\n",
    "current_y_ticks = plt.gca().get_yticks()\n",
    "plt.gca().set_yticklabels([f'{int(y)}K' for y in current_y_ticks])\n",
    "plt.xticks(xticks, rotation = 90)\n",
    "plt.legend(title='Migration')\n",
    "plt.legend(loc='upper left', bbox_to_anchor=(1, 1))\n",
    "plt.show()\n"
   ]
  },
  {
   "cell_type": "code",
   "execution_count": 333,
   "metadata": {},
   "outputs": [],
   "source": [
    "emigrants_1996 = migration_df_1996[(migration_df_1996['Origin or Destination'] == 'Emigrants: All destinations') & (migration_df_1996['Sex'] == 'Both sexes') & (migration_df_1996['VALUE'] != 'NaN') & (migration_df_1996['Country'] == 'All countries')]\n",
    "immigrants_1996 = migration_df_1996[(migration_df_1996['Origin or Destination'] == 'Immigrants: All origins') & (migration_df_1996['Sex'] == 'Both sexes') & (migration_df_1996['VALUE'] != 'NaN') & (migration_df_1996['Country'] == 'All countries')]\n",
    "net_migration_1996 = migration_df_1996[(migration_df_1996['Origin or Destination'] == 'Net migration') & (migration_df_1996['Sex'] == 'Both sexes') & (migration_df_1996['VALUE'] != 'NaN') & (migration_df_1996['Country'] == 'All countries')]\n",
    "migration_years_1996 = migration_df_1996['Year'].unique()\n",
    "emigrants_values_1996 = emigrants_1996['VALUE'].values\n",
    "immigrants_values_1996 = immigrants_1996['VALUE'].values\n",
    "net_migration_values_1996 = net_migration_1996['VALUE'].values\n",
    "\n",
    "emigration_and_migration_1996 = pd.DataFrame({'Years': migration_years, 'Emigrants': emigrants_values, 'Immigrants': immigrants_values, 'Net migration': net_migration_values})\n"
   ]
  },
  {
   "cell_type": "code",
   "execution_count": 334,
   "metadata": {},
   "outputs": [
    {
     "data": {
      "image/png": "[encoded data removed]",
      "text/plain": [
       "<Figure size 1200x400 with 1 Axes>"
      ]
     },
     "metadata": {},
     "output_type": "display_data"
    }
   ],
   "source": [
    "plt.figure(figsize=(12, 4))\n",
    "plt.plot(migration_years_1996, emigrants_values_1996, label='Emigrants after 1996', marker='')\n",
    "plt.plot(migration_years_1996, immigrants_values_1996, label='Immigrants after 1996', marker='')\n",
    "plt.plot(migration_years_1996, net_migration_values_1996, label='Net migration after 1996', linestyle = '--', marker='')\n",
    "plt.xlabel('Year')\n",
    "plt.ylabel('Migrants in thousands')\n",
    "plt.title('Emigrants and Immigrants vs. Net Migration After 1996')\n",
    "plt.legend()\n",
    "plt.grid(True, linestyle='--', linewidth=0.5)\n",
    "tick_interval = 4\n",
    "xticks = [migration_years_1996[0], migration_years_1996[-1]] + list(range(migration_years_1996[0] + tick_interval, migration_years_1996[-1], tick_interval))\n",
    "current_y_ticks = plt.gca().get_yticks()\n",
    "plt.gca().set_yticklabels([f'{int(y)}K' for y in current_y_ticks])\n",
    "plt.xticks(xticks, rotation = 90)\n",
    "plt.legend(title='Migration')\n",
    "plt.legend(loc='upper left', bbox_to_anchor=(1, 1))\n",
    "plt.show()"
   ]
  },
  {
   "cell_type": "markdown",
   "metadata": {},
   "source": [
    "### Measures of Central Tendency, Variability and Additional Summary Statistics:\n",
    "\n",
    "Prepared for both sex (male and female) population values taking all ages from under 1 to 99 and over."
   ]
  },
  {
   "cell_type": "code",
   "execution_count": 335,
   "metadata": {},
   "outputs": [],
   "source": [
    "population_df_1996_filtered = population_df_1996[(population_df_1996['Single Year of Age'] == 'All ages') & (population_df_1996['Sex'] == 'Both sexes')]\n",
    "migration_df_1996_filtered = migration_df_1996[(migration_df_1996['Sex'] == 'Both sexes') & (migration_df_1996['Country'] == 'All countries') & (migration_df_1996['Origin or Destination'] == 'Net migration')]\n",
    "migration_df_1996_filtered['VALUE'] = migration_df_1996_filtered['VALUE'] * 1000"
   ]
  },
  {
   "cell_type": "code",
   "execution_count": 336,
   "metadata": {},
   "outputs": [
    {
     "name": "stdout",
     "output_type": "stream",
     "text": [
      "Population Mean: 4418228.79\n",
      "Population Median: 4544079.00\n",
      "Population Mode: 0     3626087\n",
      "1     3664313\n",
      "2     3703082\n",
      "3     3741647\n",
      "4     3789536\n",
      "5     3847198\n",
      "6     3917203\n",
      "7     3979853\n",
      "8     4045188\n",
      "9     4133839\n",
      "10    4232929\n",
      "11    4375842\n",
      "12    4485070\n",
      "13    4533395\n",
      "14    4554763\n",
      "15    4574888\n",
      "16    4593697\n",
      "17    4614669\n",
      "18    4645440\n",
      "19    4687787\n",
      "20    4739597\n",
      "21    4810895\n",
      "22    4884896\n",
      "23    4958471\n",
      "24    5029875\n",
      "25    5074668\n",
      "26    5183966\n",
      "27    5281612\n",
      "Name: VALUE, dtype: int64\n",
      "Population Standard Deviation: 499787.62\n",
      "Population Variance: 249787665536.10\n",
      "Population Range: 1655525\n"
     ]
    }
   ],
   "source": [
    "# Measures of Central Tendency for the population dataset\n",
    "population_mean = population_df_1996_filtered['VALUE'].mean()\n",
    "population_median = population_df_1996_filtered['VALUE'].median()\n",
    "population_mode = population_df_1996_filtered['VALUE'].mode() \n",
    "\n",
    "# Measures of Variability for the population dataset\n",
    "population_std = population_df_1996_filtered['VALUE'].std()\n",
    "population_variance = population_df_1996_filtered['VALUE'].var()\n",
    "population_range = population_df_1996_filtered['VALUE'].max() - population_df_1996_filtered['VALUE'].min()\n",
    "\n",
    "# Measures of Central Tendency for the migration dataset\n",
    "migration_mean = migration_df_1996_filtered['VALUE'].mean()\n",
    "migration_median = migration_df_1996_filtered['VALUE'].median()\n",
    "migration_mode = migration_df_1996_filtered['VALUE'].mode()\n",
    "\n",
    "# Measures of Variability for the migration dataset\n",
    "migration_std = migration_df_1996_filtered['VALUE'].std()\n",
    "migration_variance = migration_df_1996_filtered['VALUE'].var()\n",
    "migration_range = migration_df_1996_filtered['VALUE'].max() - migration_df_1996_filtered['VALUE'].min()\n",
    "\n",
    "print(f\"Population Mean: {population_mean:.2f}\")\n",
    "print(f\"Population Median: {population_median:.2f}\")\n",
    "print(f\"Population Mode: {population_mode}\")\n",
    "\n",
    "print(f\"Population Standard Deviation: {population_std:.2f}\")\n",
    "print(f\"Population Variance: {population_variance:.2f}\")\n",
    "print(f\"Population Range: {population_range}\")\n"
   ]
  },
  {
   "cell_type": "markdown",
   "metadata": {},
   "source": [
    "We can get the following insights:\n",
    "\n",
    "- The average population for the selected date range(1996-2023) is 4,418,228.79. \n",
    "- The median is 4,544,079.00 when ordered from lowest to highest. This means that  this value would sit at the center of an ordered list with all values from smallest to highest, with an equal number of population figures above and below it.\n",
    "- Having so many mode values, means that in fact we do not have a mode value in this dataset. The mode is the most common value, but since population changes every year there is no such value within the data.\n",
    "- The average distance of the population figures from the mean is 499,787.62. This is a measure of how spread out the population sizes are. \n",
    "- Variance - this is the standard deviation squared\n",
    "- Range - this is the difference between the largest and smallest values. This shows the span of population sizes in the dataset. From the data we can see that in fact the smallest value is for the first year in our dataset being 1996, and the highest is for the last year being 2023. "
   ]
  },
  {
   "cell_type": "code",
   "execution_count": 337,
   "metadata": {},
   "outputs": [
    {
     "name": "stdout",
     "output_type": "stream",
     "text": [
      "\n",
      "Migration Mean: 27146.43\n",
      "Migration Median: 28350.00\n",
      "Migration Mode: 0     -27500.0\n",
      "1     -27400.0\n",
      "2     -25700.0\n",
      "3     -18700.0\n",
      "4      -8500.0\n",
      "5       1600.0\n",
      "6       5900.0\n",
      "7       8000.0\n",
      "8      16200.0\n",
      "9      17300.0\n",
      "10     17400.0\n",
      "11     19200.0\n",
      "12     21800.0\n",
      "13     26000.0\n",
      "14     30700.0\n",
      "15     32000.0\n",
      "16     32800.0\n",
      "17     39200.0\n",
      "18     41300.0\n",
      "19     44000.0\n",
      "20     44400.0\n",
      "21     44700.0\n",
      "22     51700.0\n",
      "23     55100.0\n",
      "24     64300.0\n",
      "25     71800.0\n",
      "26     77700.0\n",
      "27    104800.0\n",
      "Name: VALUE, dtype: float64\n",
      "Migration Standard Deviation: 32574.84\n",
      "Migration Variance: 1061120357.14\n",
      "Migration Range: 132300.0\n"
     ]
    }
   ],
   "source": [
    "print(f\"\\nMigration Mean: {migration_mean:.2f}\")\n",
    "print(f\"Migration Median: {migration_median:.2f}\")\n",
    "print(f\"Migration Mode: {migration_mode}\")\n",
    "\n",
    "print(f\"Migration Standard Deviation: {migration_std:.2f}\")\n",
    "print(f\"Migration Variance: {migration_variance:.2f}\")\n",
    "print(f\"Migration Range: {migration_range}\")\n"
   ]
  },
  {
   "cell_type": "markdown",
   "metadata": {},
   "source": [
    "We can get the following insights: \n",
    "\n",
    "- The average net miogration for the selected date range(1996-2023) is 27146.43. \n",
    "- The median is 28350 when ordered from lowest to highest. \n",
    "- Having so many mode values, means that in fact we do not have a mode value in this dataset. The mode is the most common value, but since net migration changes every year there is no such value within the data.\n",
    "- The average distance of the migration figures from the mean is 32,574.84, which is quite high relative to the mean, suggesting that there is a wide variation in migration figures.\n",
    "- Variance - this is the standard deviation squared\n",
    "- Range - this is the difference between the largest and smallest values. This shows the span of migration sizes in the dataset - 132,300.0. "
   ]
  },
  {
   "cell_type": "markdown",
   "metadata": {},
   "source": [
    "Exporting already cleaned and sorted dataframes."
   ]
  },
  {
   "cell_type": "code",
   "execution_count": 338,
   "metadata": {},
   "outputs": [],
   "source": [
    "population_df_1996.to_csv('population_df_1996.csv', index=False)\n",
    "migration_df_1996.to_csv('migration_df_1996.csv', index=False)"
   ]
  }
 ],
 "metadata": {
  "kernelspec": {
   "display_name": "Python 3",
   "language": "python",
   "name": "python3"
  },
  "language_info": {
   "codemirror_mode": {
    "name": "ipython",
    "version": 3
   },
   "file_extension": ".py",
   "mimetype": "text/x-python",
   "name": "python",
   "nbconvert_exporter": "python",
   "pygments_lexer": "ipython3",
   "version": "3.11.6"
  }
 },
 "nbformat": 4,
 "nbformat_minor": 2
}
