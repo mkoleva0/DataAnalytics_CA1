{
 "cells": [
  {
   "cell_type": "markdown",
   "metadata": {
    "executionInfo": {
     "elapsed": 865,
     "status": "ok",
     "timestamp": 1696878484067,
     "user": {
      "displayName": "Maria Koleva",
      "userId": "15896521558550622314"
     },
     "user_tz": -60
    },
    "id": "57Pi36SfrDnP"
   },
   "source": [
    "# CA1 Data Cleaning and Preparation"
   ]
  },
  {
   "cell_type": "code",
   "execution_count": 16,
   "metadata": {},
   "outputs": [],
   "source": [
    "# Importing libraries and packages\n",
    "import pandas as pd\n",
    "import seaborn as sns\n",
    "import matplotlib.pyplot as plt"
   ]
  },
  {
   "cell_type": "code",
   "execution_count": 17,
   "metadata": {
    "colab": {
     "base_uri": "https://localhost:8080/"
    },
    "executionInfo": {
     "elapsed": 18701,
     "status": "ok",
     "timestamp": 1696878503685,
     "user": {
      "displayName": "Maria Koleva",
      "userId": "15896521558550622314"
     },
     "user_tz": -60
    },
    "id": "JvyshoanrIxC",
    "outputId": "93138b65-46f9-42be-80ab-9ece8f9b8106"
   },
   "outputs": [],
   "source": [
    "#using the pandas read_csv function we will get a DataFrame object. A DataFrame is a two-dimensional, size-mutable\n",
    "population_df = pd.read_csv('PEA01.20231009T211038.csv')"
   ]
  },
  {
   "cell_type": "code",
   "execution_count": 18,
   "metadata": {
    "colab": {
     "base_uri": "https://localhost:8080/",
     "height": 206
    },
    "executionInfo": {
     "elapsed": 238,
     "status": "ok",
     "timestamp": 1696878507723,
     "user": {
      "displayName": "Maria Koleva",
      "userId": "15896521558550622314"
     },
     "user_tz": -60
    },
    "id": "zecayGp4rTDj",
    "outputId": "4e020a37-99b1-4874-dc0d-4d3a579de387"
   },
   "outputs": [
    {
     "data": {
      "text/html": [
       "<div>\n",
       "<style scoped>\n",
       "    .dataframe tbody tr th:only-of-type {\n",
       "        vertical-align: middle;\n",
       "    }\n",
       "\n",
       "    .dataframe tbody tr th {\n",
       "        vertical-align: top;\n",
       "    }\n",
       "\n",
       "    .dataframe thead th {\n",
       "        text-align: right;\n",
       "    }\n",
       "</style>\n",
       "<table border=\"1\" class=\"dataframe\">\n",
       "  <thead>\n",
       "    <tr style=\"text-align: right;\">\n",
       "      <th></th>\n",
       "      <th>STATISTIC</th>\n",
       "      <th>STATISTIC Label</th>\n",
       "      <th>TLIST(A1)</th>\n",
       "      <th>Year</th>\n",
       "      <th>C02076V02508</th>\n",
       "      <th>Age Group</th>\n",
       "      <th>C02199V02655</th>\n",
       "      <th>Sex</th>\n",
       "      <th>UNIT</th>\n",
       "      <th>VALUE</th>\n",
       "    </tr>\n",
       "  </thead>\n",
       "  <tbody>\n",
       "    <tr>\n",
       "      <th>0</th>\n",
       "      <td>PEA01</td>\n",
       "      <td>Population Estimates (Persons in April)</td>\n",
       "      <td>1950</td>\n",
       "      <td>1950</td>\n",
       "      <td>205</td>\n",
       "      <td>0 - 4 years</td>\n",
       "      <td>-</td>\n",
       "      <td>Both sexes</td>\n",
       "      <td>Thousand</td>\n",
       "      <td>293.8</td>\n",
       "    </tr>\n",
       "    <tr>\n",
       "      <th>1</th>\n",
       "      <td>PEA01</td>\n",
       "      <td>Population Estimates (Persons in April)</td>\n",
       "      <td>1950</td>\n",
       "      <td>1950</td>\n",
       "      <td>205</td>\n",
       "      <td>0 - 4 years</td>\n",
       "      <td>1</td>\n",
       "      <td>Male</td>\n",
       "      <td>Thousand</td>\n",
       "      <td>149.2</td>\n",
       "    </tr>\n",
       "    <tr>\n",
       "      <th>2</th>\n",
       "      <td>PEA01</td>\n",
       "      <td>Population Estimates (Persons in April)</td>\n",
       "      <td>1950</td>\n",
       "      <td>1950</td>\n",
       "      <td>205</td>\n",
       "      <td>0 - 4 years</td>\n",
       "      <td>2</td>\n",
       "      <td>Female</td>\n",
       "      <td>Thousand</td>\n",
       "      <td>144.6</td>\n",
       "    </tr>\n",
       "    <tr>\n",
       "      <th>3</th>\n",
       "      <td>PEA01</td>\n",
       "      <td>Population Estimates (Persons in April)</td>\n",
       "      <td>1950</td>\n",
       "      <td>1950</td>\n",
       "      <td>245</td>\n",
       "      <td>5 - 9 years</td>\n",
       "      <td>-</td>\n",
       "      <td>Both sexes</td>\n",
       "      <td>Thousand</td>\n",
       "      <td>278.9</td>\n",
       "    </tr>\n",
       "    <tr>\n",
       "      <th>4</th>\n",
       "      <td>PEA01</td>\n",
       "      <td>Population Estimates (Persons in April)</td>\n",
       "      <td>1950</td>\n",
       "      <td>1950</td>\n",
       "      <td>245</td>\n",
       "      <td>5 - 9 years</td>\n",
       "      <td>1</td>\n",
       "      <td>Male</td>\n",
       "      <td>Thousand</td>\n",
       "      <td>142.3</td>\n",
       "    </tr>\n",
       "    <tr>\n",
       "      <th>5</th>\n",
       "      <td>PEA01</td>\n",
       "      <td>Population Estimates (Persons in April)</td>\n",
       "      <td>1950</td>\n",
       "      <td>1950</td>\n",
       "      <td>245</td>\n",
       "      <td>5 - 9 years</td>\n",
       "      <td>2</td>\n",
       "      <td>Female</td>\n",
       "      <td>Thousand</td>\n",
       "      <td>136.6</td>\n",
       "    </tr>\n",
       "    <tr>\n",
       "      <th>6</th>\n",
       "      <td>PEA01</td>\n",
       "      <td>Population Estimates (Persons in April)</td>\n",
       "      <td>1950</td>\n",
       "      <td>1950</td>\n",
       "      <td>265</td>\n",
       "      <td>10 - 14 years</td>\n",
       "      <td>-</td>\n",
       "      <td>Both sexes</td>\n",
       "      <td>Thousand</td>\n",
       "      <td>262.1</td>\n",
       "    </tr>\n",
       "    <tr>\n",
       "      <th>7</th>\n",
       "      <td>PEA01</td>\n",
       "      <td>Population Estimates (Persons in April)</td>\n",
       "      <td>1950</td>\n",
       "      <td>1950</td>\n",
       "      <td>265</td>\n",
       "      <td>10 - 14 years</td>\n",
       "      <td>1</td>\n",
       "      <td>Male</td>\n",
       "      <td>Thousand</td>\n",
       "      <td>133.4</td>\n",
       "    </tr>\n",
       "    <tr>\n",
       "      <th>8</th>\n",
       "      <td>PEA01</td>\n",
       "      <td>Population Estimates (Persons in April)</td>\n",
       "      <td>1950</td>\n",
       "      <td>1950</td>\n",
       "      <td>265</td>\n",
       "      <td>10 - 14 years</td>\n",
       "      <td>2</td>\n",
       "      <td>Female</td>\n",
       "      <td>Thousand</td>\n",
       "      <td>128.7</td>\n",
       "    </tr>\n",
       "    <tr>\n",
       "      <th>9</th>\n",
       "      <td>PEA01</td>\n",
       "      <td>Population Estimates (Persons in April)</td>\n",
       "      <td>1950</td>\n",
       "      <td>1950</td>\n",
       "      <td>300</td>\n",
       "      <td>15 - 19 years</td>\n",
       "      <td>-</td>\n",
       "      <td>Both sexes</td>\n",
       "      <td>Thousand</td>\n",
       "      <td>244.0</td>\n",
       "    </tr>\n",
       "  </tbody>\n",
       "</table>\n",
       "</div>"
      ],
      "text/plain": [
       "  STATISTIC                          STATISTIC Label  TLIST(A1)  Year  \\\n",
       "0     PEA01  Population Estimates (Persons in April)       1950  1950   \n",
       "1     PEA01  Population Estimates (Persons in April)       1950  1950   \n",
       "2     PEA01  Population Estimates (Persons in April)       1950  1950   \n",
       "3     PEA01  Population Estimates (Persons in April)       1950  1950   \n",
       "4     PEA01  Population Estimates (Persons in April)       1950  1950   \n",
       "5     PEA01  Population Estimates (Persons in April)       1950  1950   \n",
       "6     PEA01  Population Estimates (Persons in April)       1950  1950   \n",
       "7     PEA01  Population Estimates (Persons in April)       1950  1950   \n",
       "8     PEA01  Population Estimates (Persons in April)       1950  1950   \n",
       "9     PEA01  Population Estimates (Persons in April)       1950  1950   \n",
       "\n",
       "   C02076V02508      Age Group C02199V02655         Sex      UNIT  VALUE  \n",
       "0           205    0 - 4 years            -  Both sexes  Thousand  293.8  \n",
       "1           205    0 - 4 years            1        Male  Thousand  149.2  \n",
       "2           205    0 - 4 years            2      Female  Thousand  144.6  \n",
       "3           245    5 - 9 years            -  Both sexes  Thousand  278.9  \n",
       "4           245    5 - 9 years            1        Male  Thousand  142.3  \n",
       "5           245    5 - 9 years            2      Female  Thousand  136.6  \n",
       "6           265  10 - 14 years            -  Both sexes  Thousand  262.1  \n",
       "7           265  10 - 14 years            1        Male  Thousand  133.4  \n",
       "8           265  10 - 14 years            2      Female  Thousand  128.7  \n",
       "9           300  15 - 19 years            -  Both sexes  Thousand  244.0  "
      ]
     },
     "execution_count": 18,
     "metadata": {},
     "output_type": "execute_result"
    }
   ],
   "source": [
    "#checking the first 10 rows of the data so that we can get idea of the dataset\n",
    "population_df.head(10)"
   ]
  },
  {
   "cell_type": "code",
   "execution_count": 19,
   "metadata": {},
   "outputs": [],
   "source": [
    "#By taking a look at the first 5 rows of the data we can have the following conclusion: \n",
    "#We have categorical variables - STATISTICS, STATISTIC Label, TLIST(A1)\n",
    "#We have numerical variables - Year, C02076V02508 (identifier for the age group), C02199V02655 (code/identifier for the sex), VALUE\n",
    "#We have qualitative variables - Age Group, Sex, Unit"
   ]
  },
  {
   "cell_type": "code",
   "execution_count": 20,
   "metadata": {},
   "outputs": [
    {
     "name": "stdout",
     "output_type": "stream",
     "text": [
      "There are 39960 values in total across the whole dataset\n"
     ]
    }
   ],
   "source": [
    "#access the size of the dataset\n",
    "print(\"There are\", population_df.size, \"values in total across the whole dataset\")"
   ]
  },
  {
   "cell_type": "code",
   "execution_count": 21,
   "metadata": {},
   "outputs": [
    {
     "data": {
      "text/plain": [
       "(3996, 10)"
      ]
     },
     "execution_count": 21,
     "metadata": {},
     "output_type": "execute_result"
    }
   ],
   "source": [
    "population_df.shape\n",
    "#We have 3996 rows and 10 columns"
   ]
  },
  {
   "cell_type": "code",
   "execution_count": 22,
   "metadata": {
    "colab": {
     "base_uri": "https://localhost:8080/"
    },
    "executionInfo": {
     "elapsed": 226,
     "status": "ok",
     "timestamp": 1696878509718,
     "user": {
      "displayName": "Maria Koleva",
      "userId": "15896521558550622314"
     },
     "user_tz": -60
    },
    "id": "45qsJCFItL0K",
    "outputId": "3b7af0bd-aec8-4e60-de92-bc1077e1ff69"
   },
   "outputs": [
    {
     "name": "stdout",
     "output_type": "stream",
     "text": [
      "<class 'pandas.core.frame.DataFrame'>\n",
      "RangeIndex: 3996 entries, 0 to 3995\n",
      "Data columns (total 10 columns):\n",
      " #   Column           Non-Null Count  Dtype  \n",
      "---  ------           --------------  -----  \n",
      " 0   STATISTIC        3996 non-null   object \n",
      " 1   STATISTIC Label  3996 non-null   object \n",
      " 2   TLIST(A1)        3996 non-null   int64  \n",
      " 3   Year             3996 non-null   int64  \n",
      " 4   C02076V02508     3996 non-null   int64  \n",
      " 5   Age Group        3996 non-null   object \n",
      " 6   C02199V02655     3996 non-null   object \n",
      " 7   Sex              3996 non-null   object \n",
      " 8   UNIT             3996 non-null   object \n",
      " 9   VALUE            3885 non-null   float64\n",
      "dtypes: float64(1), int64(3), object(6)\n",
      "memory usage: 312.3+ KB\n"
     ]
    }
   ],
   "source": [
    "#using the info() function so that we can check and understand the structure of the DataFrame and gain insights into the data it contains.\n",
    "population_df.info()"
   ]
  },
  {
   "cell_type": "code",
   "execution_count": 23,
   "metadata": {},
   "outputs": [
    {
     "data": {
      "text/plain": [
       "STATISTIC           object\n",
       "STATISTIC Label     object\n",
       "TLIST(A1)            int64\n",
       "Year                 int64\n",
       "C02076V02508         int64\n",
       "Age Group           object\n",
       "C02199V02655        object\n",
       "Sex                 object\n",
       "UNIT                object\n",
       "VALUE              float64\n",
       "dtype: object"
      ]
     },
     "execution_count": 23,
     "metadata": {},
     "output_type": "execute_result"
    }
   ],
   "source": [
    "#another function to check only the data type\n",
    "population_df.dtypes"
   ]
  },
  {
   "cell_type": "code",
   "execution_count": 24,
   "metadata": {},
   "outputs": [
    {
     "data": {
      "text/html": [
       "<div>\n",
       "<style scoped>\n",
       "    .dataframe tbody tr th:only-of-type {\n",
       "        vertical-align: middle;\n",
       "    }\n",
       "\n",
       "    .dataframe tbody tr th {\n",
       "        vertical-align: top;\n",
       "    }\n",
       "\n",
       "    .dataframe thead th {\n",
       "        text-align: right;\n",
       "    }\n",
       "</style>\n",
       "<table border=\"1\" class=\"dataframe\">\n",
       "  <thead>\n",
       "    <tr style=\"text-align: right;\">\n",
       "      <th></th>\n",
       "      <th>TLIST(A1)</th>\n",
       "      <th>Year</th>\n",
       "      <th>C02076V02508</th>\n",
       "      <th>VALUE</th>\n",
       "    </tr>\n",
       "  </thead>\n",
       "  <tbody>\n",
       "    <tr>\n",
       "      <th>count</th>\n",
       "      <td>3996.000000</td>\n",
       "      <td>3996.000000</td>\n",
       "      <td>3996.000000</td>\n",
       "      <td>3885.000000</td>\n",
       "    </tr>\n",
       "    <tr>\n",
       "      <th>mean</th>\n",
       "      <td>1986.500000</td>\n",
       "      <td>1986.500000</td>\n",
       "      <td>457.500000</td>\n",
       "      <td>132.799382</td>\n",
       "    </tr>\n",
       "    <tr>\n",
       "      <th>std</th>\n",
       "      <td>21.362683</td>\n",
       "      <td>21.362683</td>\n",
       "      <td>128.946026</td>\n",
       "      <td>84.945660</td>\n",
       "    </tr>\n",
       "    <tr>\n",
       "      <th>min</th>\n",
       "      <td>1950.000000</td>\n",
       "      <td>1950.000000</td>\n",
       "      <td>205.000000</td>\n",
       "      <td>5.500000</td>\n",
       "    </tr>\n",
       "    <tr>\n",
       "      <th>25%</th>\n",
       "      <td>1968.000000</td>\n",
       "      <td>1968.000000</td>\n",
       "      <td>365.000000</td>\n",
       "      <td>71.700000</td>\n",
       "    </tr>\n",
       "    <tr>\n",
       "      <th>50%</th>\n",
       "      <td>1986.500000</td>\n",
       "      <td>1986.500000</td>\n",
       "      <td>485.000000</td>\n",
       "      <td>123.300000</td>\n",
       "    </tr>\n",
       "    <tr>\n",
       "      <th>75%</th>\n",
       "      <td>2005.000000</td>\n",
       "      <td>2005.000000</td>\n",
       "      <td>565.000000</td>\n",
       "      <td>167.000000</td>\n",
       "    </tr>\n",
       "    <tr>\n",
       "      <th>max</th>\n",
       "      <td>2023.000000</td>\n",
       "      <td>2023.000000</td>\n",
       "      <td>630.000000</td>\n",
       "      <td>427.700000</td>\n",
       "    </tr>\n",
       "  </tbody>\n",
       "</table>\n",
       "</div>"
      ],
      "text/plain": [
       "         TLIST(A1)         Year  C02076V02508        VALUE\n",
       "count  3996.000000  3996.000000   3996.000000  3885.000000\n",
       "mean   1986.500000  1986.500000    457.500000   132.799382\n",
       "std      21.362683    21.362683    128.946026    84.945660\n",
       "min    1950.000000  1950.000000    205.000000     5.500000\n",
       "25%    1968.000000  1968.000000    365.000000    71.700000\n",
       "50%    1986.500000  1986.500000    485.000000   123.300000\n",
       "75%    2005.000000  2005.000000    565.000000   167.000000\n",
       "max    2023.000000  2023.000000    630.000000   427.700000"
      ]
     },
     "execution_count": 24,
     "metadata": {},
     "output_type": "execute_result"
    }
   ],
   "source": [
    "#this only works for continuous variables \n",
    "population_df.describe()"
   ]
  },
  {
   "cell_type": "code",
   "execution_count": 25,
   "metadata": {},
   "outputs": [
    {
     "data": {
      "text/html": [
       "<div>\n",
       "<style scoped>\n",
       "    .dataframe tbody tr th:only-of-type {\n",
       "        vertical-align: middle;\n",
       "    }\n",
       "\n",
       "    .dataframe tbody tr th {\n",
       "        vertical-align: top;\n",
       "    }\n",
       "\n",
       "    .dataframe thead th {\n",
       "        text-align: right;\n",
       "    }\n",
       "</style>\n",
       "<table border=\"1\" class=\"dataframe\">\n",
       "  <thead>\n",
       "    <tr style=\"text-align: right;\">\n",
       "      <th></th>\n",
       "      <th>STATISTIC</th>\n",
       "      <th>STATISTIC Label</th>\n",
       "      <th>Age Group</th>\n",
       "      <th>C02199V02655</th>\n",
       "      <th>Sex</th>\n",
       "      <th>UNIT</th>\n",
       "    </tr>\n",
       "  </thead>\n",
       "  <tbody>\n",
       "    <tr>\n",
       "      <th>count</th>\n",
       "      <td>3996</td>\n",
       "      <td>3996</td>\n",
       "      <td>3996</td>\n",
       "      <td>3996</td>\n",
       "      <td>3996</td>\n",
       "      <td>3996</td>\n",
       "    </tr>\n",
       "    <tr>\n",
       "      <th>unique</th>\n",
       "      <td>1</td>\n",
       "      <td>1</td>\n",
       "      <td>18</td>\n",
       "      <td>3</td>\n",
       "      <td>3</td>\n",
       "      <td>1</td>\n",
       "    </tr>\n",
       "    <tr>\n",
       "      <th>top</th>\n",
       "      <td>PEA01</td>\n",
       "      <td>Population Estimates (Persons in April)</td>\n",
       "      <td>0 - 4 years</td>\n",
       "      <td>-</td>\n",
       "      <td>Both sexes</td>\n",
       "      <td>Thousand</td>\n",
       "    </tr>\n",
       "    <tr>\n",
       "      <th>freq</th>\n",
       "      <td>3996</td>\n",
       "      <td>3996</td>\n",
       "      <td>222</td>\n",
       "      <td>1332</td>\n",
       "      <td>1332</td>\n",
       "      <td>3996</td>\n",
       "    </tr>\n",
       "  </tbody>\n",
       "</table>\n",
       "</div>"
      ],
      "text/plain": [
       "       STATISTIC                          STATISTIC Label    Age Group  \\\n",
       "count       3996                                     3996         3996   \n",
       "unique         1                                        1           18   \n",
       "top        PEA01  Population Estimates (Persons in April)  0 - 4 years   \n",
       "freq        3996                                     3996          222   \n",
       "\n",
       "       C02199V02655         Sex      UNIT  \n",
       "count          3996        3996      3996  \n",
       "unique            3           3         1  \n",
       "top               -  Both sexes  Thousand  \n",
       "freq           1332        1332      3996  "
      ]
     },
     "execution_count": 25,
     "metadata": {},
     "output_type": "execute_result"
    }
   ],
   "source": [
    "#if we want to include the objects we need the following but in our dataframe this doesn't give us a lot of useful information\n",
    "population_df.describe(include=object)"
   ]
  },
  {
   "cell_type": "code",
   "execution_count": 26,
   "metadata": {},
   "outputs": [
    {
     "data": {
      "text/plain": [
       "STATISTIC            0\n",
       "STATISTIC Label      0\n",
       "TLIST(A1)            0\n",
       "Year                 0\n",
       "C02076V02508         0\n",
       "Age Group            0\n",
       "C02199V02655         0\n",
       "Sex                  0\n",
       "UNIT                 0\n",
       "VALUE              111\n",
       "dtype: int64"
      ]
     },
     "execution_count": 26,
     "metadata": {},
     "output_type": "execute_result"
    }
   ],
   "source": [
    "#two methods to check if we have some null/missing values\n",
    "#population_df.isnull().sum()\n",
    "population_df.isna().sum()"
   ]
  },
  {
   "cell_type": "code",
   "execution_count": 27,
   "metadata": {},
   "outputs": [
    {
     "data": {
      "text/html": [
       "<div>\n",
       "<style scoped>\n",
       "    .dataframe tbody tr th:only-of-type {\n",
       "        vertical-align: middle;\n",
       "    }\n",
       "\n",
       "    .dataframe tbody tr th {\n",
       "        vertical-align: top;\n",
       "    }\n",
       "\n",
       "    .dataframe thead th {\n",
       "        text-align: right;\n",
       "    }\n",
       "</style>\n",
       "<table border=\"1\" class=\"dataframe\">\n",
       "  <thead>\n",
       "    <tr style=\"text-align: right;\">\n",
       "      <th></th>\n",
       "      <th>STATISTIC</th>\n",
       "      <th>STATISTIC Label</th>\n",
       "      <th>TLIST(A1)</th>\n",
       "      <th>Year</th>\n",
       "      <th>C02076V02508</th>\n",
       "      <th>Age Group</th>\n",
       "      <th>C02199V02655</th>\n",
       "      <th>Sex</th>\n",
       "      <th>UNIT</th>\n",
       "      <th>VALUE</th>\n",
       "    </tr>\n",
       "  </thead>\n",
       "  <tbody>\n",
       "    <tr>\n",
       "      <th>108</th>\n",
       "      <td>PEA01</td>\n",
       "      <td>Population Estimates (Persons in April)</td>\n",
       "      <td>1952</td>\n",
       "      <td>1952</td>\n",
       "      <td>205</td>\n",
       "      <td>0 - 4 years</td>\n",
       "      <td>-</td>\n",
       "      <td>Both sexes</td>\n",
       "      <td>Thousand</td>\n",
       "      <td>NaN</td>\n",
       "    </tr>\n",
       "    <tr>\n",
       "      <th>109</th>\n",
       "      <td>PEA01</td>\n",
       "      <td>Population Estimates (Persons in April)</td>\n",
       "      <td>1952</td>\n",
       "      <td>1952</td>\n",
       "      <td>205</td>\n",
       "      <td>0 - 4 years</td>\n",
       "      <td>1</td>\n",
       "      <td>Male</td>\n",
       "      <td>Thousand</td>\n",
       "      <td>NaN</td>\n",
       "    </tr>\n",
       "    <tr>\n",
       "      <th>110</th>\n",
       "      <td>PEA01</td>\n",
       "      <td>Population Estimates (Persons in April)</td>\n",
       "      <td>1952</td>\n",
       "      <td>1952</td>\n",
       "      <td>205</td>\n",
       "      <td>0 - 4 years</td>\n",
       "      <td>2</td>\n",
       "      <td>Female</td>\n",
       "      <td>Thousand</td>\n",
       "      <td>NaN</td>\n",
       "    </tr>\n",
       "    <tr>\n",
       "      <th>162</th>\n",
       "      <td>PEA01</td>\n",
       "      <td>Population Estimates (Persons in April)</td>\n",
       "      <td>1953</td>\n",
       "      <td>1953</td>\n",
       "      <td>205</td>\n",
       "      <td>0 - 4 years</td>\n",
       "      <td>-</td>\n",
       "      <td>Both sexes</td>\n",
       "      <td>Thousand</td>\n",
       "      <td>NaN</td>\n",
       "    </tr>\n",
       "    <tr>\n",
       "      <th>163</th>\n",
       "      <td>PEA01</td>\n",
       "      <td>Population Estimates (Persons in April)</td>\n",
       "      <td>1953</td>\n",
       "      <td>1953</td>\n",
       "      <td>205</td>\n",
       "      <td>0 - 4 years</td>\n",
       "      <td>1</td>\n",
       "      <td>Male</td>\n",
       "      <td>Thousand</td>\n",
       "      <td>NaN</td>\n",
       "    </tr>\n",
       "    <tr>\n",
       "      <th>...</th>\n",
       "      <td>...</td>\n",
       "      <td>...</td>\n",
       "      <td>...</td>\n",
       "      <td>...</td>\n",
       "      <td>...</td>\n",
       "      <td>...</td>\n",
       "      <td>...</td>\n",
       "      <td>...</td>\n",
       "      <td>...</td>\n",
       "      <td>...</td>\n",
       "    </tr>\n",
       "    <tr>\n",
       "      <th>2377</th>\n",
       "      <td>PEA01</td>\n",
       "      <td>Population Estimates (Persons in April)</td>\n",
       "      <td>1994</td>\n",
       "      <td>1994</td>\n",
       "      <td>205</td>\n",
       "      <td>0 - 4 years</td>\n",
       "      <td>1</td>\n",
       "      <td>Male</td>\n",
       "      <td>Thousand</td>\n",
       "      <td>NaN</td>\n",
       "    </tr>\n",
       "    <tr>\n",
       "      <th>2378</th>\n",
       "      <td>PEA01</td>\n",
       "      <td>Population Estimates (Persons in April)</td>\n",
       "      <td>1994</td>\n",
       "      <td>1994</td>\n",
       "      <td>205</td>\n",
       "      <td>0 - 4 years</td>\n",
       "      <td>2</td>\n",
       "      <td>Female</td>\n",
       "      <td>Thousand</td>\n",
       "      <td>NaN</td>\n",
       "    </tr>\n",
       "    <tr>\n",
       "      <th>2430</th>\n",
       "      <td>PEA01</td>\n",
       "      <td>Population Estimates (Persons in April)</td>\n",
       "      <td>1995</td>\n",
       "      <td>1995</td>\n",
       "      <td>205</td>\n",
       "      <td>0 - 4 years</td>\n",
       "      <td>-</td>\n",
       "      <td>Both sexes</td>\n",
       "      <td>Thousand</td>\n",
       "      <td>NaN</td>\n",
       "    </tr>\n",
       "    <tr>\n",
       "      <th>2431</th>\n",
       "      <td>PEA01</td>\n",
       "      <td>Population Estimates (Persons in April)</td>\n",
       "      <td>1995</td>\n",
       "      <td>1995</td>\n",
       "      <td>205</td>\n",
       "      <td>0 - 4 years</td>\n",
       "      <td>1</td>\n",
       "      <td>Male</td>\n",
       "      <td>Thousand</td>\n",
       "      <td>NaN</td>\n",
       "    </tr>\n",
       "    <tr>\n",
       "      <th>2432</th>\n",
       "      <td>PEA01</td>\n",
       "      <td>Population Estimates (Persons in April)</td>\n",
       "      <td>1995</td>\n",
       "      <td>1995</td>\n",
       "      <td>205</td>\n",
       "      <td>0 - 4 years</td>\n",
       "      <td>2</td>\n",
       "      <td>Female</td>\n",
       "      <td>Thousand</td>\n",
       "      <td>NaN</td>\n",
       "    </tr>\n",
       "  </tbody>\n",
       "</table>\n",
       "<p>111 rows × 10 columns</p>\n",
       "</div>"
      ],
      "text/plain": [
       "     STATISTIC                          STATISTIC Label  TLIST(A1)  Year  \\\n",
       "108      PEA01  Population Estimates (Persons in April)       1952  1952   \n",
       "109      PEA01  Population Estimates (Persons in April)       1952  1952   \n",
       "110      PEA01  Population Estimates (Persons in April)       1952  1952   \n",
       "162      PEA01  Population Estimates (Persons in April)       1953  1953   \n",
       "163      PEA01  Population Estimates (Persons in April)       1953  1953   \n",
       "...        ...                                      ...        ...   ...   \n",
       "2377     PEA01  Population Estimates (Persons in April)       1994  1994   \n",
       "2378     PEA01  Population Estimates (Persons in April)       1994  1994   \n",
       "2430     PEA01  Population Estimates (Persons in April)       1995  1995   \n",
       "2431     PEA01  Population Estimates (Persons in April)       1995  1995   \n",
       "2432     PEA01  Population Estimates (Persons in April)       1995  1995   \n",
       "\n",
       "      C02076V02508    Age Group C02199V02655         Sex      UNIT  VALUE  \n",
       "108            205  0 - 4 years            -  Both sexes  Thousand    NaN  \n",
       "109            205  0 - 4 years            1        Male  Thousand    NaN  \n",
       "110            205  0 - 4 years            2      Female  Thousand    NaN  \n",
       "162            205  0 - 4 years            -  Both sexes  Thousand    NaN  \n",
       "163            205  0 - 4 years            1        Male  Thousand    NaN  \n",
       "...            ...          ...          ...         ...       ...    ...  \n",
       "2377           205  0 - 4 years            1        Male  Thousand    NaN  \n",
       "2378           205  0 - 4 years            2      Female  Thousand    NaN  \n",
       "2430           205  0 - 4 years            -  Both sexes  Thousand    NaN  \n",
       "2431           205  0 - 4 years            1        Male  Thousand    NaN  \n",
       "2432           205  0 - 4 years            2      Female  Thousand    NaN  \n",
       "\n",
       "[111 rows x 10 columns]"
      ]
     },
     "execution_count": 27,
     "metadata": {},
     "output_type": "execute_result"
    }
   ],
   "source": [
    "population_df[population_df['VALUE'].isna()]"
   ]
  },
  {
   "cell_type": "code",
   "execution_count": 28,
   "metadata": {
    "executionInfo": {
     "elapsed": 219,
     "status": "ok",
     "timestamp": 1696878511661,
     "user": {
      "displayName": "Maria Koleva",
      "userId": "15896521558550622314"
     },
     "user_tz": -60
    },
    "id": "UINlEDzIvckg"
   },
   "outputs": [],
   "source": [
    "#we will clean some of the columns as they won't be useful for our analysis\n",
    "\n",
    "to_drop = ['STATISTIC Label', 'STATISTIC', 'TLIST(A1)', 'C02076V02508', 'C02199V02655']\n",
    "\n",
    "population_df.drop(to_drop, inplace=True, axis=1)"
   ]
  },
  {
   "cell_type": "code",
   "execution_count": 29,
   "metadata": {
    "colab": {
     "base_uri": "https://localhost:8080/",
     "height": 206
    },
    "executionInfo": {
     "elapsed": 232,
     "status": "ok",
     "timestamp": 1696878515567,
     "user": {
      "displayName": "Maria Koleva",
      "userId": "15896521558550622314"
     },
     "user_tz": -60
    },
    "id": "gwYw1NwUyNd4",
    "outputId": "04e51d96-52a9-4084-f9c2-76bc74430829"
   },
   "outputs": [
    {
     "data": {
      "text/html": [
       "<div>\n",
       "<style scoped>\n",
       "    .dataframe tbody tr th:only-of-type {\n",
       "        vertical-align: middle;\n",
       "    }\n",
       "\n",
       "    .dataframe tbody tr th {\n",
       "        vertical-align: top;\n",
       "    }\n",
       "\n",
       "    .dataframe thead th {\n",
       "        text-align: right;\n",
       "    }\n",
       "</style>\n",
       "<table border=\"1\" class=\"dataframe\">\n",
       "  <thead>\n",
       "    <tr style=\"text-align: right;\">\n",
       "      <th></th>\n",
       "      <th>Year</th>\n",
       "      <th>Age Group</th>\n",
       "      <th>Sex</th>\n",
       "      <th>UNIT</th>\n",
       "      <th>VALUE</th>\n",
       "    </tr>\n",
       "  </thead>\n",
       "  <tbody>\n",
       "    <tr>\n",
       "      <th>0</th>\n",
       "      <td>1950</td>\n",
       "      <td>0 - 4 years</td>\n",
       "      <td>Both sexes</td>\n",
       "      <td>Thousand</td>\n",
       "      <td>293.8</td>\n",
       "    </tr>\n",
       "    <tr>\n",
       "      <th>1</th>\n",
       "      <td>1950</td>\n",
       "      <td>0 - 4 years</td>\n",
       "      <td>Male</td>\n",
       "      <td>Thousand</td>\n",
       "      <td>149.2</td>\n",
       "    </tr>\n",
       "    <tr>\n",
       "      <th>2</th>\n",
       "      <td>1950</td>\n",
       "      <td>0 - 4 years</td>\n",
       "      <td>Female</td>\n",
       "      <td>Thousand</td>\n",
       "      <td>144.6</td>\n",
       "    </tr>\n",
       "    <tr>\n",
       "      <th>3</th>\n",
       "      <td>1950</td>\n",
       "      <td>5 - 9 years</td>\n",
       "      <td>Both sexes</td>\n",
       "      <td>Thousand</td>\n",
       "      <td>278.9</td>\n",
       "    </tr>\n",
       "    <tr>\n",
       "      <th>4</th>\n",
       "      <td>1950</td>\n",
       "      <td>5 - 9 years</td>\n",
       "      <td>Male</td>\n",
       "      <td>Thousand</td>\n",
       "      <td>142.3</td>\n",
       "    </tr>\n",
       "  </tbody>\n",
       "</table>\n",
       "</div>"
      ],
      "text/plain": [
       "   Year    Age Group         Sex      UNIT  VALUE\n",
       "0  1950  0 - 4 years  Both sexes  Thousand  293.8\n",
       "1  1950  0 - 4 years        Male  Thousand  149.2\n",
       "2  1950  0 - 4 years      Female  Thousand  144.6\n",
       "3  1950  5 - 9 years  Both sexes  Thousand  278.9\n",
       "4  1950  5 - 9 years        Male  Thousand  142.3"
      ]
     },
     "execution_count": 29,
     "metadata": {},
     "output_type": "execute_result"
    }
   ],
   "source": [
    "population_df.head()"
   ]
  },
  {
   "cell_type": "code",
   "execution_count": 30,
   "metadata": {
    "colab": {
     "base_uri": "https://localhost:8080/"
    },
    "executionInfo": {
     "elapsed": 220,
     "status": "ok",
     "timestamp": 1696878518034,
     "user": {
      "displayName": "Maria Koleva",
      "userId": "15896521558550622314"
     },
     "user_tz": -60
    },
    "id": "Cs27qBmsrY7l",
    "outputId": "f18117de-1b02-4e2f-a57d-998ae9d10a37"
   },
   "outputs": [
    {
     "data": {
      "text/plain": [
       "array([1950, 1951, 1952, 1953, 1954, 1955, 1956, 1957, 1958, 1959, 1960,\n",
       "       1961, 1962, 1963, 1964, 1965, 1966, 1967, 1968, 1969, 1970, 1971,\n",
       "       1972, 1973, 1974, 1975, 1976, 1977, 1978, 1979, 1980, 1981, 1982,\n",
       "       1983, 1984, 1985, 1986, 1987, 1988, 1989, 1990, 1991, 1992, 1993,\n",
       "       1994, 1995, 1996, 1997, 1998, 1999, 2000, 2001, 2002, 2003, 2004,\n",
       "       2005, 2006, 2007, 2008, 2009, 2010, 2011, 2012, 2013, 2014, 2015,\n",
       "       2016, 2017, 2018, 2019, 2020, 2021, 2022, 2023], dtype=int64)"
      ]
     },
     "execution_count": 30,
     "metadata": {},
     "output_type": "execute_result"
    }
   ],
   "source": [
    "#checking all unique values we have for the Year column (integer)\n",
    "population_df['Year'].unique()"
   ]
  },
  {
   "cell_type": "code",
   "execution_count": 33,
   "metadata": {
    "executionInfo": {
     "elapsed": 239,
     "status": "ok",
     "timestamp": 1696878520119,
     "user": {
      "displayName": "Maria Koleva",
      "userId": "15896521558550622314"
     },
     "user_tz": -60
    },
    "id": "SJSbetZEreWI"
   },
   "outputs": [],
   "source": [
    "#we will be looking at the data only for the past 20 years, so we would need to filter out the data so we create a new DataFrame which will have data from 2013 onwards\n",
    "population_last_10_years_df = population_df[(population_df['Year'] > 2002)]"
   ]
  },
  {
   "cell_type": "code",
   "execution_count": 34,
   "metadata": {
    "colab": {
     "base_uri": "https://localhost:8080/",
     "height": 206
    },
    "executionInfo": {
     "elapsed": 310,
     "status": "ok",
     "timestamp": 1696878521621,
     "user": {
      "displayName": "Maria Koleva",
      "userId": "15896521558550622314"
     },
     "user_tz": -60
    },
    "id": "M0hksIozuLVt",
    "outputId": "615d451c-c9ae-4ad9-e19b-bedf848382c8"
   },
   "outputs": [
    {
     "data": {
      "text/html": [
       "<div>\n",
       "<style scoped>\n",
       "    .dataframe tbody tr th:only-of-type {\n",
       "        vertical-align: middle;\n",
       "    }\n",
       "\n",
       "    .dataframe tbody tr th {\n",
       "        vertical-align: top;\n",
       "    }\n",
       "\n",
       "    .dataframe thead th {\n",
       "        text-align: right;\n",
       "    }\n",
       "</style>\n",
       "<table border=\"1\" class=\"dataframe\">\n",
       "  <thead>\n",
       "    <tr style=\"text-align: right;\">\n",
       "      <th></th>\n",
       "      <th>Year</th>\n",
       "      <th>Age Group</th>\n",
       "      <th>Sex</th>\n",
       "      <th>UNIT</th>\n",
       "      <th>VALUE</th>\n",
       "    </tr>\n",
       "  </thead>\n",
       "  <tbody>\n",
       "    <tr>\n",
       "      <th>2862</th>\n",
       "      <td>2003</td>\n",
       "      <td>0 - 4 years</td>\n",
       "      <td>Both sexes</td>\n",
       "      <td>Thousand</td>\n",
       "      <td>284.3</td>\n",
       "    </tr>\n",
       "    <tr>\n",
       "      <th>2863</th>\n",
       "      <td>2003</td>\n",
       "      <td>0 - 4 years</td>\n",
       "      <td>Male</td>\n",
       "      <td>Thousand</td>\n",
       "      <td>145.4</td>\n",
       "    </tr>\n",
       "    <tr>\n",
       "      <th>2864</th>\n",
       "      <td>2003</td>\n",
       "      <td>0 - 4 years</td>\n",
       "      <td>Female</td>\n",
       "      <td>Thousand</td>\n",
       "      <td>138.9</td>\n",
       "    </tr>\n",
       "    <tr>\n",
       "      <th>2865</th>\n",
       "      <td>2003</td>\n",
       "      <td>5 - 9 years</td>\n",
       "      <td>Both sexes</td>\n",
       "      <td>Thousand</td>\n",
       "      <td>268.7</td>\n",
       "    </tr>\n",
       "    <tr>\n",
       "      <th>2866</th>\n",
       "      <td>2003</td>\n",
       "      <td>5 - 9 years</td>\n",
       "      <td>Male</td>\n",
       "      <td>Thousand</td>\n",
       "      <td>137.8</td>\n",
       "    </tr>\n",
       "  </tbody>\n",
       "</table>\n",
       "</div>"
      ],
      "text/plain": [
       "      Year    Age Group         Sex      UNIT  VALUE\n",
       "2862  2003  0 - 4 years  Both sexes  Thousand  284.3\n",
       "2863  2003  0 - 4 years        Male  Thousand  145.4\n",
       "2864  2003  0 - 4 years      Female  Thousand  138.9\n",
       "2865  2003  5 - 9 years  Both sexes  Thousand  268.7\n",
       "2866  2003  5 - 9 years        Male  Thousand  137.8"
      ]
     },
     "execution_count": 34,
     "metadata": {},
     "output_type": "execute_result"
    }
   ],
   "source": [
    "#confirming that we've filtered out the data\n",
    "population_last_10_years_df.head()"
   ]
  },
  {
   "cell_type": "code",
   "execution_count": 36,
   "metadata": {
    "colab": {
     "base_uri": "https://localhost:8080/"
    },
    "executionInfo": {
     "elapsed": 244,
     "status": "ok",
     "timestamp": 1696878523620,
     "user": {
      "displayName": "Maria Koleva",
      "userId": "15896521558550622314"
     },
     "user_tz": -60
    },
    "id": "6lVrfFzct5_C",
    "outputId": "3cd7e541-0ec0-44a4-e4f8-3933c343df91"
   },
   "outputs": [
    {
     "data": {
      "text/plain": [
       "array(['Both sexes', 'Male', 'Female'], dtype=object)"
      ]
     },
     "execution_count": 36,
     "metadata": {},
     "output_type": "execute_result"
    }
   ],
   "source": [
    "#checking all unique appearances in the Sex column\n",
    "population_last_10_years_df['Sex'].unique()"
   ]
  },
  {
   "cell_type": "code",
   "execution_count": 37,
   "metadata": {
    "colab": {
     "base_uri": "https://localhost:8080/"
    },
    "executionInfo": {
     "elapsed": 210,
     "status": "ok",
     "timestamp": 1696878698710,
     "user": {
      "displayName": "Maria Koleva",
      "userId": "15896521558550622314"
     },
     "user_tz": -60
    },
    "id": "5EkD4TvH2fGy",
    "outputId": "310fb7e1-3e24-4614-a6ec-befd9e9ba5af"
   },
   "outputs": [
    {
     "name": "stdout",
     "output_type": "stream",
     "text": [
      "          Sex    VALUE\n",
      "0  Both sexes  49297.5\n",
      "1      Female  24903.3\n",
      "2        Male  24393.6\n"
     ]
    }
   ],
   "source": [
    "sex_totals = population_last_10_years_df.groupby('Sex')['VALUE'].sum().reset_index()\n",
    "\n",
    "print(sex_totals)"
   ]
  },
  {
   "cell_type": "code",
   "execution_count": 38,
   "metadata": {
    "colab": {
     "base_uri": "https://localhost:8080/"
    },
    "executionInfo": {
     "elapsed": 286,
     "status": "ok",
     "timestamp": 1696878528587,
     "user": {
      "displayName": "Maria Koleva",
      "userId": "15896521558550622314"
     },
     "user_tz": -60
    },
    "id": "ej6Kn5Dv1its",
    "outputId": "026c28cc-a89f-4fca-d67a-13fbd6a47a21"
   },
   "outputs": [
    {
     "name": "stdout",
     "output_type": "stream",
     "text": [
      "    Year         Sex   VALUE\n",
      "0   2014  Both sexes  4645.6\n",
      "1   2014      Female  2346.3\n",
      "2   2014        Male  2298.9\n",
      "3   2015  Both sexes  4687.8\n",
      "4   2015      Female  2370.1\n",
      "5   2015        Male  2317.8\n",
      "6   2016  Both sexes  4739.8\n",
      "7   2016      Female  2393.1\n",
      "8   2016        Male  2346.7\n",
      "9   2017  Both sexes  4810.9\n",
      "10  2017      Female  2430.0\n",
      "11  2017        Male  2380.7\n",
      "12  2018  Both sexes  4884.9\n",
      "13  2018      Female  2465.4\n",
      "14  2018        Male  2419.6\n",
      "15  2019  Both sexes  4958.5\n",
      "16  2019      Female  2502.0\n",
      "17  2019        Male  2456.3\n",
      "18  2020  Both sexes  5029.8\n",
      "19  2020      Female  2538.3\n",
      "20  2020        Male  2491.8\n",
      "21  2021  Both sexes  5074.7\n",
      "22  2021      Female  2560.8\n",
      "23  2021        Male  2514.1\n",
      "24  2022  Both sexes  5183.9\n",
      "25  2022      Female  2621.9\n",
      "26  2022        Male  2561.8\n",
      "27  2023  Both sexes  5281.6\n",
      "28  2023      Female  2675.4\n",
      "29  2023        Male  2605.9\n"
     ]
    }
   ],
   "source": [
    "pivot_table = population_last_10_years_df.pivot_table(index=['Year', 'Sex'], values='VALUE', aggfunc='sum')\n",
    "\n",
    "# Reset index to make 'Year' and 'Sex' regular columns\n",
    "pivot_table.reset_index(inplace=True)\n",
    "\n",
    "print(pivot_table)"
   ]
  },
  {
   "cell_type": "code",
   "execution_count": 39,
   "metadata": {},
   "outputs": [
    {
     "data": {
      "image/png": "[encoded data removed]",
      "text/plain": [
       "<Figure size 1000x600 with 1 Axes>"
      ]
     },
     "metadata": {},
     "output_type": "display_data"
    }
   ],
   "source": [
    "filtered_pivot_table = population_last_10_years_df[population_last_10_years_df['Sex'] != 'Both sexes']\n",
    "\n",
    "pivot_table = filtered_pivot_table.pivot_table(index='Year', columns='Sex', values='VALUE', aggfunc='sum')\n",
    "\n",
    "# Step 4: Create a line graph using Seaborn\n",
    "plt.figure(figsize=(10, 6))  # Set the figure size\n",
    "sns.set(style='whitegrid')  # Set the style of the plot\n",
    "\n",
    "custom_palette = {'Male': '#87CEEB', 'Female': '#FFC0CB'}\n",
    "\n",
    "# Create the line plot\n",
    "sns.lineplot(data=pivot_table,palette = custom_palette, markers = True, dashes=False)\n",
    "\n",
    "# Set plot labels and title\n",
    "plt.xlabel('Year')\n",
    "plt.ylabel('Population in thousands')\n",
    "plt.title('Population over the years by sex')\n",
    "\n",
    "# Show the plot\n",
    "plt.legend(title='Sex')\n",
    "plt.show()"
   ]
  },
  {
   "cell_type": "markdown",
   "metadata": {},
   "source": [
    "In the graprh representation above we can cleary see that the population of Ireland both for male and female has been increasing for the last ten years which automatically means that the population in general is increasing, which can be seen in the graph below.\n",
    "\n",
    "Please keep in mind that those values are in thousands, which gives us a total of around 5.3 Million people in total for 2023. "
   ]
  },
  {
   "cell_type": "code",
   "execution_count": 40,
   "metadata": {},
   "outputs": [
    {
     "data": {
      "image/png": "[encoded data removed]",
      "text/plain": [
       "<Figure size 1000x600 with 1 Axes>"
      ]
     },
     "metadata": {},
     "output_type": "display_data"
    }
   ],
   "source": [
    "filtered_pivot_table = population_last_10_years_df[population_last_10_years_df['Sex'] != 'Both sexes']\n",
    "\n",
    "pivot_table = filtered_pivot_table.pivot_table(index='Year', columns='Sex', values='VALUE', aggfunc='sum')\n",
    "\n",
    "# Step 4: Create a line graph using Seaborn\n",
    "plt.figure(figsize=(10, 6))  # Set the figure size\n",
    "sns.set(style='whitegrid')  # Set the style of the plot\n",
    "\n",
    "custom_palette = {'Male': '#87CEEB', 'Female': '#FFC0CB'}\n",
    "\n",
    "# Create the line plot\n",
    "sns.lineplot(data=pivot_table,palette = custom_palette, markers = True, dashes=False)\n",
    "\n",
    "# Set plot labels and title\n",
    "plt.xlabel('Year')\n",
    "plt.ylabel('Population in thousands')\n",
    "plt.title('Population over the years by sex')\n",
    "\n",
    "tick_positions = range(int(pivot_table.index.min()), int(pivot_table.index.max()) + 1)\n",
    "plt.xticks(tick_positions, tick_positions, rotation=45)\n",
    "\n",
    "# Show the plot\n",
    "plt.legend(title='Sex')\n",
    "plt.show()\n"
   ]
  },
  {
   "cell_type": "code",
   "execution_count": 23,
   "metadata": {},
   "outputs": [
    {
     "data": {
      "image/png": "[encoded data removed]",
      "text/plain": [
       "<Figure size 1000x600 with 1 Axes>"
      ]
     },
     "metadata": {},
     "output_type": "display_data"
    }
   ],
   "source": [
    "filtered_pivot_table = population_last_10_years_df[population_last_10_years_df['Sex'] == 'Both sexes']\n",
    "\n",
    "pivot_table = filtered_pivot_table.pivot_table(index='Year', columns='Sex', values='VALUE', aggfunc='sum')\n",
    "\n",
    "# Step 4: Create a line graph using Seaborn\n",
    "plt.figure(figsize=(10, 6))  # Set the figure size\n",
    "sns.set(style='whitegrid')  # Set the style of the plot\n",
    "\n",
    "custom_palette = {'Both sexes': '#70c0b2'}\n",
    "\n",
    "# Create the line plot\n",
    "sns.lineplot(data=pivot_table, palette = custom_palette , markers = True, dashes=False)\n",
    "\n",
    "# Set plot labels and title\n",
    "plt.xlabel('Year')\n",
    "plt.ylabel('Population in Thousands')\n",
    "plt.title('Population')\n",
    "\n",
    "# Show the plot\n",
    "plt.legend(title='Sex')\n",
    "plt.show()"
   ]
  },
  {
   "cell_type": "code",
   "execution_count": null,
   "metadata": {},
   "outputs": [],
   "source": []
  }
 ],
 "metadata": {
  "colab": {
   "authorship_tag": "ABX9TyPpgaj8+PEJDDpug6PuG04a",
   "provenance": []
  },
  "kernelspec": {
   "display_name": "Python 3 (ipykernel)",
   "language": "python",
   "name": "python3"
  },
  "language_info": {
   "codemirror_mode": {
    "name": "ipython",
    "version": 3
   },
   "file_extension": ".py",
   "mimetype": "text/x-python",
   "name": "python",
   "nbconvert_exporter": "python",
   "pygments_lexer": "ipython3",
   "version": "3.11.4"
  }
 },
 "nbformat": 4,
 "nbformat_minor": 1
}
